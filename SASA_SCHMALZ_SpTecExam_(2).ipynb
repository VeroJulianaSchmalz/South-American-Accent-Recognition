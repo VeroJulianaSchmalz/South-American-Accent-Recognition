{
  "nbformat": 4,
  "nbformat_minor": 0,
  "metadata": {
    "colab": {
      "name": "SASA_SCHMALZ_SpTecExam (2).ipynb",
      "provenance": [],
      "collapsed_sections": [],
      "toc_visible": true
    },
    "kernelspec": {
      "display_name": "Python 3",
      "name": "python3"
    },
    "accelerator": "GPU"
  },
  "cells": [
    {
      "cell_type": "markdown",
      "metadata": {
        "id": "QEMgEqL1tUB-"
      },
      "source": [
        "# Accent recognition and gender detection in South American Spanish"
      ]
    },
    {
      "cell_type": "markdown",
      "metadata": {
        "id": "uARmL7TGhw9Q"
      },
      "source": [
        "# South American Spanish Accents \r\n",
        "\r\n",
        "Languages' pronunciation is influenced by geographical, socio-cultural and historical variables. In the case of Spanish, these determine distinctions between the speakers of a given territory, for example differentiating Spanish speakers from Spain from those of the Latin American regions. However, even within the South American continent varying accents (also called dialects) can be found. \r\n",
        "Some of the main distinctive phonetic traits are: \r\n",
        "\r\n",
        "* maintenance/indistinction between /θ/ and /s/\r\n",
        "ex. casa ('house') and caza ('hunt') \r\n",
        "\r\n",
        "* *yeísmo* (lack of distinction between ortographical [ll] and [y]) \r\n",
        "ex. calló ('silenced') =  cayó ('fell')  in Argentinian/Peruvian\r\n",
        "\r\n",
        "* *deoralization* of final-syllable [s] (weakened to /h/ or maintained)\r\n",
        "ex. nosotros -->  [nohotroh], \r\n",
        "ex. todos los cisnes son blancos [ˈto̞ðoz lo‿ˈsːizne‿ˈsːõ̞m ˈblãŋkos]\r\n",
        "\r\n",
        "* *devoicing*/loss of unstressed vowels \r\n",
        "ex. pesos ('pesos [money]'), pesas ('weights') --> [ˈpe̞ss̩] in Central Mexico\r\n",
        "\r\n",
        "Distinctive grammatical/lexicologial traits: \r\n",
        "\r\n",
        "* 2nd person plural *ustedes/vosotros*\r\n",
        "* *voseo* for 2nd person singular (tù vs vos) ex. in Argentinian\r\n",
        "* influence from native Latin American languages ex. in Mexican from Nahuatl (camote - sweet potato, huipil- blouse)  \r\n",
        "* influence from other romance languages/dialects, ex. *laburar* - lavorare, *yirar* -girare (Argentinian)\r\n",
        "\r\n",
        "\r\n",
        "cf. *Hualde, José Ignacio (2005), The Sounds of Spanish, Cambridge: Cambridge University Press.* \r\n"
      ]
    },
    {
      "cell_type": "code",
      "metadata": {
        "colab": {
          "base_uri": "https://localhost:8080/"
        },
        "id": "-9r-hlzx-pa9",
        "outputId": "421dca6e-f9d5-487f-9865-70292872f32e"
      },
      "source": [
        "!pip install soundfile"
      ],
      "execution_count": null,
      "outputs": [
        {
          "output_type": "stream",
          "text": [
            "Collecting soundfile\n",
            "  Downloading https://files.pythonhosted.org/packages/eb/f2/3cbbbf3b96fb9fa91582c438b574cff3f45b29c772f94c400e2c99ef5db9/SoundFile-0.10.3.post1-py2.py3-none-any.whl\n",
            "Requirement already satisfied: cffi>=1.0 in /usr/local/lib/python3.6/dist-packages (from soundfile) (1.14.4)\n",
            "Requirement already satisfied: pycparser in /usr/local/lib/python3.6/dist-packages (from cffi>=1.0->soundfile) (2.20)\n",
            "Installing collected packages: soundfile\n",
            "Successfully installed soundfile-0.10.3.post1\n"
          ],
          "name": "stdout"
        }
      ]
    },
    {
      "cell_type": "markdown",
      "metadata": {
        "id": "PHskRBbTZegd"
      },
      "source": [
        "# Mounting my Drive"
      ]
    },
    {
      "cell_type": "code",
      "metadata": {
        "id": "brPcomiR47-4",
        "colab": {
          "base_uri": "https://localhost:8080/"
        },
        "outputId": "54ad1282-f6f4-444d-dc9d-9827ce86584e"
      },
      "source": [
        "from google.colab import drive\n",
        "import os  \n",
        "drive.mount(\"/content/drive\")"
      ],
      "execution_count": null,
      "outputs": [
        {
          "output_type": "stream",
          "text": [
            "Drive already mounted at /content/drive; to attempt to forcibly remount, call drive.mount(\"/content/drive\", force_remount=True).\n"
          ],
          "name": "stdout"
        }
      ]
    },
    {
      "cell_type": "code",
      "metadata": {
        "id": "OrRBT2jVb1bS",
        "colab": {
          "base_uri": "https://localhost:8080/"
        },
        "outputId": "8322b282-3fbc-4f8a-c10f-78723f853bfc"
      },
      "source": [
        "%cd /content/drive/MyDrive/project_SpeechT/"
      ],
      "execution_count": null,
      "outputs": [
        {
          "output_type": "stream",
          "text": [
            "/content/drive/MyDrive/project_SpeechT\n"
          ],
          "name": "stdout"
        }
      ]
    },
    {
      "cell_type": "markdown",
      "metadata": {
        "id": "lxrmuJ-I4hAm"
      },
      "source": [
        "#Creating CSV files for all the data of my dataset \n"
      ]
    },
    {
      "cell_type": "markdown",
      "metadata": {
        "id": "tF1mmF_tIlfP"
      },
      "source": [
        "These csv files contain the entire number of audio files in each accent's dataset.\r\n",
        "\r\n",
        "The **language and gender** information of the speakers is contained in the first piece of the record ID (ex. `arf` for Argentinian female, first 2 letters indicate the accent, the last letter indicates the gender). The second part, meaning the **speaker ID** is the sum of the first piece and 5 digit numbers (ex. `pem_08784`), while the **record ID** corresponds to the sum of the speaker ID and the 11 digit number indicating the record's code. **Transcriptions** are finally contained in the last columns. "
      ]
    },
    {
      "cell_type": "code",
      "metadata": {
        "id": "OHIJPYi7uyZm"
      },
      "source": [
        "import os \n",
        "import csv \n",
        "import re \n",
        "\n",
        "\n",
        "splitted= []\n",
        "speakID= []\n",
        "audioId= []\n",
        "transcription= []\n",
        "temp=[]\n",
        "lang_sex_info= []\n",
        "speakerID= []\n",
        "\n",
        "def from_txt_to_csv (file_txt, csv_file_name): \n",
        "  with open(file_txt, 'r', encoding= \"utf-8\") as in_file:\n",
        "    stripped = (line.strip() for line in in_file)\n",
        "    for line in stripped: \n",
        "      speakID.append((re.findall (r\"(.*?)_\", line)))\n",
        "      splitted.append(line.split())\n",
        "    for e in speakID:\n",
        "      lang_sex_info.append(e[0])\n",
        "      speakerID.append((e[0]+ \"_\" + e[1]))\n",
        "    for e in splitted:\n",
        "      audioId.append(e[0])\n",
        "      temp.append(e[1:])\n",
        "  for i in temp: \n",
        "    transcription.extend([\" \".join(i)])\n",
        "    \n",
        "  with open(csv_file_name, 'w') as out_file:\n",
        "    writer = csv.writer(out_file)\n",
        "    writer.writerow(('Language and sex info', 'SpeakerId','RecordId', 'Transcription'))\n",
        "    writer.writerows(zip(lang_sex_info,speakerID,audioId, transcription))"
      ],
      "execution_count": null,
      "outputs": []
    },
    {
      "cell_type": "code",
      "metadata": {
        "id": "mBrEn8E-_aIY"
      },
      "source": [
        "#from_txt_to_csv(\"drive/MyDrive/project_SpeechT/venezuelan/vem_data.txt\", \"drive/MyDrive/project_SpeechT/venezuelan/vem_data.csv\")"
      ],
      "execution_count": null,
      "outputs": []
    },
    {
      "cell_type": "markdown",
      "metadata": {
        "id": "1huB8nARG6ni"
      },
      "source": [
        "This is an example of what every target group (female/male) per accent contains (organized in the csv file)\r\n",
        "\r\n"
      ]
    },
    {
      "cell_type": "code",
      "metadata": {
        "id": "Pn4BtTOAG0qe"
      },
      "source": [
        "import pandas as pd \r\n",
        "\r\n",
        "def dataframe_csv(filepath): \r\n",
        "  df= pd.read_csv(filepath, sep= \",\", delimiter= \",\")\r\n",
        "  return df"
      ],
      "execution_count": null,
      "outputs": []
    },
    {
      "cell_type": "code",
      "metadata": {
        "colab": {
          "base_uri": "https://localhost:8080/",
          "height": 419
        },
        "id": "6WSvhi49HKpS",
        "outputId": "e3422051-2e1d-4c50-9ea8-2a2496d9ae93"
      },
      "source": [
        "dataframe_csv(\"argentinian/arf_data.csv\")"
      ],
      "execution_count": null,
      "outputs": [
        {
          "output_type": "execute_result",
          "data": {
            "text/html": [
              "<div>\n",
              "<style scoped>\n",
              "    .dataframe tbody tr th:only-of-type {\n",
              "        vertical-align: middle;\n",
              "    }\n",
              "\n",
              "    .dataframe tbody tr th {\n",
              "        vertical-align: top;\n",
              "    }\n",
              "\n",
              "    .dataframe thead th {\n",
              "        text-align: right;\n",
              "    }\n",
              "</style>\n",
              "<table border=\"1\" class=\"dataframe\">\n",
              "  <thead>\n",
              "    <tr style=\"text-align: right;\">\n",
              "      <th></th>\n",
              "      <th>Language and sex info</th>\n",
              "      <th>SpeakerId</th>\n",
              "      <th>RecordId</th>\n",
              "      <th>Transcription</th>\n",
              "    </tr>\n",
              "  </thead>\n",
              "  <tbody>\n",
              "    <tr>\n",
              "      <th>0</th>\n",
              "      <td>arf</td>\n",
              "      <td>arf_00295</td>\n",
              "      <td>arf_00295_00000740990</td>\n",
              "      <td>¿Quieres que te mande el artículo?</td>\n",
              "    </tr>\n",
              "    <tr>\n",
              "      <th>1</th>\n",
              "      <td>arf</td>\n",
              "      <td>arf_00295</td>\n",
              "      <td>arf_00295_00001008290</td>\n",
              "      <td>Dame únicamente el dato más relevante</td>\n",
              "    </tr>\n",
              "    <tr>\n",
              "      <th>2</th>\n",
              "      <td>arf</td>\n",
              "      <td>arf_00295</td>\n",
              "      <td>arf_00295_00020689215</td>\n",
              "      <td>Hay varios cines cerca de tu hotel. ¿Estas bus...</td>\n",
              "    </tr>\n",
              "    <tr>\n",
              "      <th>3</th>\n",
              "      <td>arf</td>\n",
              "      <td>arf_00295</td>\n",
              "      <td>arf_00295_00023658548</td>\n",
              "      <td>Los niños tienen mucha imaginación</td>\n",
              "    </tr>\n",
              "    <tr>\n",
              "      <th>4</th>\n",
              "      <td>arf</td>\n",
              "      <td>arf_00295</td>\n",
              "      <td>arf_00295_00075310490</td>\n",
              "      <td>Los presidentes están muy peleados por el últi...</td>\n",
              "    </tr>\n",
              "    <tr>\n",
              "      <th>...</th>\n",
              "      <td>...</td>\n",
              "      <td>...</td>\n",
              "      <td>...</td>\n",
              "      <td>...</td>\n",
              "    </tr>\n",
              "    <tr>\n",
              "      <th>3916</th>\n",
              "      <td>arf</td>\n",
              "      <td>arf_09799</td>\n",
              "      <td>arf_09799_02088352396</td>\n",
              "      <td>De postre voy a servir peras al vino tinto</td>\n",
              "    </tr>\n",
              "    <tr>\n",
              "      <th>3917</th>\n",
              "      <td>arf</td>\n",
              "      <td>arf_09799</td>\n",
              "      <td>arf_09799_02091967505</td>\n",
              "      <td>¿Cuántos años tiene el último campeón de fórmu...</td>\n",
              "    </tr>\n",
              "    <tr>\n",
              "      <th>3918</th>\n",
              "      <td>arf</td>\n",
              "      <td>arf_09799</td>\n",
              "      <td>arf_09799_02118116965</td>\n",
              "      <td>Mañana a la noche va a nevar</td>\n",
              "    </tr>\n",
              "    <tr>\n",
              "      <th>3919</th>\n",
              "      <td>arf</td>\n",
              "      <td>arf_09799</td>\n",
              "      <td>arf_09799_02136293027</td>\n",
              "      <td>Tradicionalmente la comida italiana se acompañ...</td>\n",
              "    </tr>\n",
              "    <tr>\n",
              "      <th>3920</th>\n",
              "      <td>arf</td>\n",
              "      <td>arf_09799</td>\n",
              "      <td>arf_09799_02145605228</td>\n",
              "      <td>Se me esta cayendo el pelo</td>\n",
              "    </tr>\n",
              "  </tbody>\n",
              "</table>\n",
              "<p>3921 rows × 4 columns</p>\n",
              "</div>"
            ],
            "text/plain": [
              "     Language and sex info  ...                                      Transcription\n",
              "0                      arf  ...                 ¿Quieres que te mande el artículo?\n",
              "1                      arf  ...              Dame únicamente el dato más relevante\n",
              "2                      arf  ...  Hay varios cines cerca de tu hotel. ¿Estas bus...\n",
              "3                      arf  ...                 Los niños tienen mucha imaginación\n",
              "4                      arf  ...  Los presidentes están muy peleados por el últi...\n",
              "...                    ...  ...                                                ...\n",
              "3916                   arf  ...         De postre voy a servir peras al vino tinto\n",
              "3917                   arf  ...  ¿Cuántos años tiene el último campeón de fórmu...\n",
              "3918                   arf  ...                       Mañana a la noche va a nevar\n",
              "3919                   arf  ...  Tradicionalmente la comida italiana se acompañ...\n",
              "3920                   arf  ...                         Se me esta cayendo el pelo\n",
              "\n",
              "[3921 rows x 4 columns]"
            ]
          },
          "metadata": {
            "tags": []
          },
          "execution_count": 80
        }
      ]
    },
    {
      "cell_type": "markdown",
      "metadata": {
        "id": "a1AWyaPr5Hax"
      },
      "source": [
        "#Creating a list with all the files from each South American Spanish accent folder\r\n",
        "\r\n",
        "* Argentinian female speakers\r\n",
        "* Argentinian male speakers\r\n",
        "* Colombian female speakers\r\n",
        "* Colombian male speakers\r\n",
        "* Peruvian female speakers\r\n",
        "* Peruvian male speakers\r\n",
        "* Venezuelan female speakers\r\n",
        "* Venezuelan male speakers\r\n",
        "* Chilean female speakers\r\n",
        "* Chilean male speakers"
      ]
    },
    {
      "cell_type": "code",
      "metadata": {
        "id": "n6ZpbS1dIauT"
      },
      "source": [
        "import glob \n",
        "all_files_list= []\n",
        "for audiofile in glob.glob(\"*/*/*.wav\"):\n",
        "  all_files_list.append(audiofile)"
      ],
      "execution_count": null,
      "outputs": []
    },
    {
      "cell_type": "markdown",
      "metadata": {
        "id": "cIGYFbQl5SIq"
      },
      "source": [
        "# Checking the total of wav files in my dataset "
      ]
    },
    {
      "cell_type": "code",
      "metadata": {
        "id": "XRy_NlPpyV1-",
        "colab": {
          "base_uri": "https://localhost:8080/"
        },
        "outputId": "2dda2d9c-dc6a-45de-b66c-1bbeaeb8b4a5"
      },
      "source": [
        "print(\"The total number of audio files in the dataset is\", len(all_files_list))"
      ],
      "execution_count": null,
      "outputs": [
        {
          "output_type": "stream",
          "text": [
            "The total number of audio files in the dataset is 22988\n"
          ],
          "name": "stdout"
        }
      ]
    },
    {
      "cell_type": "markdown",
      "metadata": {
        "id": "NheW6lMO-vMU"
      },
      "source": [
        "# Defining the list with my targets (accent  + gender) "
      ]
    },
    {
      "cell_type": "markdown",
      "metadata": {
        "id": "xGLCcK2Szd3E"
      },
      "source": [
        "The elements contained in the list of targets correspond to the labels of the audio files (excluded the identification n. that signals the speaker and recordId ex. **es_ar_male**/`arm_07049_01173663195.wav` ). As can be seen, the first part indicates the accent (ex. `es_ar` for Argentinian, `es_co` for Colombian, etc.), while the last part signals the gender of the speaker (`female/male`). "
      ]
    },
    {
      "cell_type": "code",
      "metadata": {
        "id": "Q9hpTASG1i7d"
      },
      "source": [
        "target= [\"es_ar_female\", \"es_ar_male\", \"es_co_female\", \"es_co_male\", \"es_pe_female\", \"es_pe_male\", \"es_ve_female\", \"es_ve_male\", \"es_cl_female\",\"es_cl_male\"]"
      ],
      "execution_count": null,
      "outputs": []
    },
    {
      "cell_type": "markdown",
      "metadata": {
        "id": "iifoUSP15WZ3"
      },
      "source": [
        "#Dividing the files per target group (target is the label for each accent - female or male) "
      ]
    },
    {
      "cell_type": "markdown",
      "metadata": {
        "id": "JVkww53h6EFH"
      },
      "source": [
        "Here I am creating a list with sublists for each accent type and gender. So in the end there will be 10 lists containing elements of the above defined targets. "
      ]
    },
    {
      "cell_type": "code",
      "metadata": {
        "id": "ZAi5zkIP3wrv"
      },
      "source": [
        "#files per target group\r\n",
        "files_list=[[] for i in range(len(target))]\r\n",
        "for f in all_files_list:\r\n",
        "  w = f.split('/')[1]\r\n",
        "  files_list[target.index(w)].append(f)"
      ],
      "execution_count": null,
      "outputs": []
    },
    {
      "cell_type": "code",
      "metadata": {
        "colab": {
          "base_uri": "https://localhost:8080/"
        },
        "id": "LI9jCypV9EjC",
        "outputId": "7cd39abd-e7ee-40fe-e51d-dc205b66d0f4"
      },
      "source": [
        "len(files_list)"
      ],
      "execution_count": null,
      "outputs": [
        {
          "output_type": "execute_result",
          "data": {
            "text/plain": [
              "10"
            ]
          },
          "metadata": {
            "tags": []
          },
          "execution_count": 37
        }
      ]
    },
    {
      "cell_type": "markdown",
      "metadata": {
        "id": "fi5y3pLJl7uh"
      },
      "source": [
        "Not choosing the amount of files per target in each sublist"
      ]
    },
    {
      "cell_type": "code",
      "metadata": {
        "id": "CuZu9TQsl67d"
      },
      "source": [
        "import numpy as np\r\n",
        "for i in range(len(files_list)):\r\n",
        "  _tmp = np.random.permutation(files_list[i])         \r\n",
        "  #_tmp = [files_list[i][r] for r in rand_idx]\r\n",
        "  files_list[i]=_tmp"
      ],
      "execution_count": null,
      "outputs": []
    },
    {
      "cell_type": "markdown",
      "metadata": {
        "id": "7iqYellCQDdn"
      },
      "source": [
        "# Checking the number of files per each target(label)\r\n",
        "\r\n",
        "Here we can see the number of audio files available from the dataset for each target. The greatest number of data comes from Argentinian female speakers (recordings from Argentinian speakers are also the majority). The less data is instead available for Venezuelan female speakers (and the Venezuelan accent group)."
      ]
    },
    {
      "cell_type": "code",
      "metadata": {
        "id": "3WOwp4voC_SG",
        "colab": {
          "base_uri": "https://localhost:8080/"
        },
        "outputId": "e7c356e4-1617-4eb9-92c8-5566ac63250f"
      },
      "source": [
        "files_per_target=[] \r\n",
        "for f,l in zip(files_list,target):\r\n",
        "  files_per_target.append((l,len(f)))                                               \r\n",
        "files_per_target"
      ],
      "execution_count": null,
      "outputs": [
        {
          "output_type": "execute_result",
          "data": {
            "text/plain": [
              "[('es_ar_female', 3531),\n",
              " ('es_ar_male', 1818),\n",
              " ('es_co_female', 2369),\n",
              " ('es_co_male', 2534),\n",
              " ('es_pe_female', 2529),\n",
              " ('es_pe_male', 2918),\n",
              " ('es_ve_female', 1161),\n",
              " ('es_ve_male', 1754),\n",
              " ('es_cl_female', 1738),\n",
              " ('es_cl_male', 2636)]"
            ]
          },
          "metadata": {
            "tags": []
          },
          "execution_count": 82
        }
      ]
    },
    {
      "cell_type": "code",
      "metadata": {
        "colab": {
          "base_uri": "https://localhost:8080/"
        },
        "id": "pJ_o81P39L5i",
        "outputId": "3cfb7cbc-3f91-463e-9381-e2755de18ebf"
      },
      "source": [
        "for e,n in files_per_target: \r\n",
        "  print(\"For the target group\", e, \"there are\", n, \"available audio files.\")"
      ],
      "execution_count": null,
      "outputs": [
        {
          "output_type": "stream",
          "text": [
            "For the target group es_ar_female there are 3531 available audio files.\n",
            "For the target group es_ar_male there are 1818 available audio files.\n",
            "For the target group es_co_female there are 2369 available audio files.\n",
            "For the target group es_co_male there are 2534 available audio files.\n",
            "For the target group es_pe_female there are 2529 available audio files.\n",
            "For the target group es_pe_male there are 2918 available audio files.\n",
            "For the target group es_ve_female there are 1161 available audio files.\n",
            "For the target group es_ve_male there are 1754 available audio files.\n",
            "For the target group es_cl_female there are 1738 available audio files.\n",
            "For the target group es_cl_male there are 2636 available audio files.\n"
          ],
          "name": "stdout"
        }
      ]
    },
    {
      "cell_type": "markdown",
      "metadata": {
        "id": "y3Pw7P3CmaP2"
      },
      "source": [
        "# Reducing the data considered from the dataset\r\n",
        "\r\n",
        "In order to be able to use Colab (with its limitations), but also to have different results to compare, 5 experiments are executed with datasets of different length (reduced versions of the original dataset with 22.988 audio files). \r\n",
        "\r\n",
        "\r\n",
        "\r\n",
        "1.   1.000 audio files in total (selecting 100 speakers per target accent)\r\n",
        "2.   2.000 audio files in total (selecting 200 speakers per target accent)\r\n",
        "3.   4.000 audio files in total (selecting 400 speakers per target accent)\r\n",
        "4.   10% of 22988 audiofiles (without equal number of speakers per target)\r\n",
        "5.   20% of 22988 audiofiles (without equal number of speakers per target)\r\n",
        "\r\n"
      ]
    },
    {
      "cell_type": "code",
      "metadata": {
        "id": "c65wMwtd9l_s"
      },
      "source": [
        "#function to select the number of speakers per target accent to take into consideration\r\n",
        "\r\n",
        "import random \r\n",
        "\r\n",
        "red_dataset1= []\r\n",
        "red_dataset2= []\r\n",
        "red_dataset4= []\r\n",
        "\r\n",
        "def files_per_t_red(final_list,desired_number):\r\n",
        "  for audiofile in files_list:\r\n",
        "    random.shuffle(audiofile)                       #shuffling here because the audio files are ordered per speaker \r\n",
        "    final_list.append(audiofile[:desired_number])\r\n",
        "  return final_list\r\n"
      ],
      "execution_count": null,
      "outputs": []
    },
    {
      "cell_type": "code",
      "metadata": {
        "id": "sDh8uH-2-K6e"
      },
      "source": [
        "files_per_t_red(red_dataset1, 100)"
      ],
      "execution_count": null,
      "outputs": []
    },
    {
      "cell_type": "code",
      "metadata": {
        "id": "3MyCtGTF-gsm"
      },
      "source": [
        "files_per_t_red(red_dataset2, 200)"
      ],
      "execution_count": null,
      "outputs": []
    },
    {
      "cell_type": "code",
      "metadata": {
        "id": "xseDQB4O-kJd"
      },
      "source": [
        "files_per_t_red(red_dataset4, 400)"
      ],
      "execution_count": null,
      "outputs": []
    },
    {
      "cell_type": "code",
      "metadata": {
        "id": "mI10UQE_oOV8"
      },
      "source": [
        "files_per_target1=[]\r\n",
        "files_per_target2=[] \r\n",
        "files_per_target4=[] \r\n",
        "\r\n",
        "def check_files_per_target(reduced_dataset, list_fin): \r\n",
        "  for f,l in zip(reduced_dataset,target):\r\n",
        "    list_fin.append((l,len(f)))                                      \r\n",
        "  return list_fin"
      ],
      "execution_count": null,
      "outputs": []
    },
    {
      "cell_type": "markdown",
      "metadata": {
        "id": "4XnYiNWcoizf"
      },
      "source": [
        "Now the dataset contains 1000 audiofiles, 100 per each target. "
      ]
    },
    {
      "cell_type": "code",
      "metadata": {
        "colab": {
          "base_uri": "https://localhost:8080/"
        },
        "id": "6xaNSG0O_MHv",
        "outputId": "e5caf5bd-a485-48c8-f396-0fa5d8ed1807"
      },
      "source": [
        "check_files_per_target(red_dataset1, files_per_target1)"
      ],
      "execution_count": null,
      "outputs": [
        {
          "output_type": "execute_result",
          "data": {
            "text/plain": [
              "[('es_ar_female', 100),\n",
              " ('es_ar_male', 100),\n",
              " ('es_co_female', 100),\n",
              " ('es_co_male', 100),\n",
              " ('es_pe_female', 100),\n",
              " ('es_pe_male', 100),\n",
              " ('es_ve_female', 100),\n",
              " ('es_ve_male', 100),\n",
              " ('es_cl_female', 100),\n",
              " ('es_cl_male', 100)]"
            ]
          },
          "metadata": {
            "tags": []
          },
          "execution_count": 30
        }
      ]
    },
    {
      "cell_type": "markdown",
      "metadata": {
        "id": "e_zbDbuDnOzd"
      },
      "source": [
        "Now the dataset contains 2000 audiofiles, 200 per each target. "
      ]
    },
    {
      "cell_type": "code",
      "metadata": {
        "colab": {
          "base_uri": "https://localhost:8080/"
        },
        "id": "S1lXKWXaACXg",
        "outputId": "5b570c38-1a4e-47cd-a543-3eab3f57b67d"
      },
      "source": [
        "check_files_per_target(red_dataset2, files_per_target2)"
      ],
      "execution_count": null,
      "outputs": [
        {
          "output_type": "execute_result",
          "data": {
            "text/plain": [
              "[('es_ar_female', 200),\n",
              " ('es_ar_male', 200),\n",
              " ('es_co_female', 200),\n",
              " ('es_co_male', 200),\n",
              " ('es_pe_female', 200),\n",
              " ('es_pe_male', 200),\n",
              " ('es_ve_female', 200),\n",
              " ('es_ve_male', 200),\n",
              " ('es_cl_female', 200),\n",
              " ('es_cl_male', 200)]"
            ]
          },
          "metadata": {
            "tags": []
          },
          "execution_count": 31
        }
      ]
    },
    {
      "cell_type": "markdown",
      "metadata": {
        "id": "vszXzQINnS0w"
      },
      "source": [
        "Now the dataset contains 4000 audiofiles, 400 per each target. "
      ]
    },
    {
      "cell_type": "code",
      "metadata": {
        "colab": {
          "base_uri": "https://localhost:8080/"
        },
        "id": "NX4GryaM8njI",
        "outputId": "11381015-f192-4b02-ef51-e45262fb77a0"
      },
      "source": [
        "check_files_per_target(red_dataset4, files_per_target4)"
      ],
      "execution_count": null,
      "outputs": [
        {
          "output_type": "execute_result",
          "data": {
            "text/plain": [
              "[('es_ar_female', 400),\n",
              " ('es_ar_male', 400),\n",
              " ('es_co_female', 400),\n",
              " ('es_co_male', 400),\n",
              " ('es_pe_female', 400),\n",
              " ('es_pe_male', 400),\n",
              " ('es_ve_female', 400),\n",
              " ('es_ve_male', 400),\n",
              " ('es_cl_female', 400),\n",
              " ('es_cl_male', 400)]"
            ]
          },
          "metadata": {
            "tags": []
          },
          "execution_count": 32
        }
      ]
    },
    {
      "cell_type": "markdown",
      "metadata": {
        "id": "SlqjLZ7z54dP"
      },
      "source": [
        "#Dividing the data for training (70%), validation(15%) and testing (15%)"
      ]
    },
    {
      "cell_type": "code",
      "metadata": {
        "id": "OaggmSM97_sw"
      },
      "source": [
        "partitions={}                   #dict of partitions (keys= train,test,valid, values=audio files x part.)\r\n",
        "partitions[\"train\"]=[]\r\n",
        "partitions[\"valid\"]=[]\r\n",
        "partitions[\"test\"]=[]\r\n",
        "\r\n",
        "def data_division(reduced_dataset):\r\n",
        "  for i in range(len(reduced_dataset)): \r\n",
        "    train_pct = int(len(reduced_dataset[i])*0.7)\r\n",
        "    valid_pct = int((len(reduced_dataset[i])-train_pct)*0.5)\r\n",
        "    test_pct=len(reduced_dataset[i])-train_pct-valid_pct\r\n",
        "    #print(test_pct, \"Files in test set per label in targets\")    #files considered per each accent and speakers' gender\r\n",
        "    partitions[\"train\"].extend(reduced_dataset[i][:train_pct])\r\n",
        "    partitions[\"valid\"].extend(reduced_dataset[i][train_pct:train_pct+valid_pct])\r\n",
        "    partitions[\"test\"].extend(reduced_dataset[i][train_pct+valid_pct:])\r\n",
        "\r\n",
        "  print(\"Total number of files in this dataset:\", sum([ len(listElem) for listElem in reduced_dataset]) )\r\n",
        "  print(\"Number of audio files in the training set:\",len(partitions[\"train\"]))\r\n",
        "  print(\"Number of audiofiles in the validation set:\",len(partitions[\"valid\"]))\r\n",
        "  print(\"Number of audiofiles in the test set:\",len(partitions[\"test\"]))\r\n",
        "  "
      ],
      "execution_count": null,
      "outputs": []
    },
    {
      "cell_type": "markdown",
      "metadata": {
        "id": "x2CoyP6dmOpp"
      },
      "source": [
        "Considering the whole dataset (with all files) for experiments 4 and 5"
      ]
    },
    {
      "cell_type": "code",
      "metadata": {
        "colab": {
          "base_uri": "https://localhost:8080/"
        },
        "id": "rsQB2AetmIYB",
        "outputId": "0266eb32-1bd5-4abf-c849-97de2552b9e4"
      },
      "source": [
        "data_division(files_list)\r\n"
      ],
      "execution_count": null,
      "outputs": [
        {
          "output_type": "stream",
          "text": [
            "530 Files in test set per label in targets\n",
            "273 Files in test set per label in targets\n",
            "356 Files in test set per label in targets\n",
            "381 Files in test set per label in targets\n",
            "380 Files in test set per label in targets\n",
            "438 Files in test set per label in targets\n",
            "175 Files in test set per label in targets\n",
            "264 Files in test set per label in targets\n",
            "261 Files in test set per label in targets\n",
            "396 Files in test set per label in targets\n",
            "Total number of files in this dataset: 22988\n",
            "Number of audio files in the training set: 16086\n",
            "Number of audiofiles in the validation set: 3448\n",
            "Number of audiofiles in the test set: 3454\n"
          ],
          "name": "stdout"
        }
      ]
    },
    {
      "cell_type": "code",
      "metadata": {
        "colab": {
          "base_uri": "https://localhost:8080/"
        },
        "id": "4NLL8leh8h_7",
        "outputId": "30917071-50f7-4dd8-af70-6f4102f9a294"
      },
      "source": [
        "#data 1st experiment 100 files per target group\r\n",
        "\r\n",
        "data_division(red_dataset1)"
      ],
      "execution_count": null,
      "outputs": [
        {
          "output_type": "stream",
          "text": [
            "Total number of files in this dataset: 1000\n",
            "Number of audio files in the training set: 700\n",
            "Number of audiofiles in the validation set: 150\n",
            "Number of audiofiles in the test set: 150\n"
          ],
          "name": "stdout"
        }
      ]
    },
    {
      "cell_type": "code",
      "metadata": {
        "colab": {
          "base_uri": "https://localhost:8080/"
        },
        "id": "JqkOsRUhDFQT",
        "outputId": "e94f4847-e3c7-4357-8422-09c50300bf55"
      },
      "source": [
        "#data 2nd experiment 200 files per target group\r\n",
        "\r\n",
        "data_division(red_dataset2)"
      ],
      "execution_count": null,
      "outputs": [
        {
          "output_type": "stream",
          "text": [
            "Total number of files in this dataset: 2000\n",
            "Number of audio files in the training set: 1400\n",
            "Number of audiofiles in the validation set: 300\n",
            "Number of audiofiles in the test set: 300\n"
          ],
          "name": "stdout"
        }
      ]
    },
    {
      "cell_type": "code",
      "metadata": {
        "colab": {
          "base_uri": "https://localhost:8080/"
        },
        "id": "4H7Dlxz1DOFR",
        "outputId": "8776b526-236f-48b6-a321-7bbb6f07fe19"
      },
      "source": [
        "#data 3rd experiment  400 files per target group\r\n",
        "\r\n",
        "data_division(red_dataset4)"
      ],
      "execution_count": null,
      "outputs": [
        {
          "output_type": "stream",
          "text": [
            "Total number of files in this dataset: 4000\n",
            "Number of audio files in the training set: 2800\n",
            "Number of audiofiles in the validation set: 600\n",
            "Number of audiofiles in the test set: 600\n"
          ],
          "name": "stdout"
        }
      ]
    },
    {
      "cell_type": "markdown",
      "metadata": {
        "id": "NlvRUk37yOHp"
      },
      "source": [
        "# Shuffling the data inside each partition\r\n",
        "\r\n",
        "*(because they were ordered per target group)*"
      ]
    },
    {
      "cell_type": "code",
      "metadata": {
        "id": "wCog3ePz-rKf"
      },
      "source": [
        "import numpy as np\r\n",
        "\r\n",
        "for key in partitions:\r\n",
        "  np.random.shuffle(partitions[key])"
      ],
      "execution_count": null,
      "outputs": []
    },
    {
      "cell_type": "markdown",
      "metadata": {
        "id": "ErNVidQPn2IO"
      },
      "source": [
        "# Creating csv files for each partition, to have **fixed** elements in each partition "
      ]
    },
    {
      "cell_type": "code",
      "metadata": {
        "id": "J_akq0OtaCmB"
      },
      "source": [
        "def write_list_to_file(partition_list, filename):\r\n",
        "\r\n",
        "    with open(filename, \"w\") as outfile:\r\n",
        "        for wavfile in partition_list:\r\n",
        "            outfile.write(wavfile)\r\n",
        "            outfile.write(\"\\n\")\r\n"
      ],
      "execution_count": null,
      "outputs": []
    },
    {
      "cell_type": "code",
      "metadata": {
        "id": "1cUutJYWqGVP"
      },
      "source": [
        "write_list_to_file(partitions[\"valid\"], \"reduced_dataset/SASA_data/valid_data4.csv\")"
      ],
      "execution_count": null,
      "outputs": []
    },
    {
      "cell_type": "code",
      "metadata": {
        "id": "fyknh0rXqLGu"
      },
      "source": [
        "write_list_to_file(partitions[\"test\"], \"reduced_dataset/SASA_data/test_data4.csv\")"
      ],
      "execution_count": null,
      "outputs": []
    },
    {
      "cell_type": "code",
      "metadata": {
        "id": "CnMrEyvW9A0q"
      },
      "source": [
        "write_list_to_file(partitions[\"train\"], \"reduced_dataset/SASA_data/train_data4.csv\")"
      ],
      "execution_count": null,
      "outputs": []
    },
    {
      "cell_type": "markdown",
      "metadata": {
        "id": "HGvlayaGn-kO"
      },
      "source": [
        "#Checking what is inside csv files \r\n",
        "\r\n",
        "Each csv file contains shuffled audio files from each target group with different speakers. The distribution of data for each speakers group is equal. "
      ]
    },
    {
      "cell_type": "markdown",
      "metadata": {
        "id": "zN42D99M6cco"
      },
      "source": [
        "# Dataloader taking the files from csv lines to provide data for the model\r\n"
      ]
    },
    {
      "cell_type": "markdown",
      "metadata": {
        "id": "ZnEXfwVG28h3"
      },
      "source": [
        "This dataloader takes the audio files according to the information provided in the csv files, where they are stored mixed and divided per training, validation and test set. \r\n",
        "\r\n",
        "The max length to be considered is 64000 samples or 4s and the windows length is 0.02. When loading the audio files, the sampling rate is 1600 and the length of the original recording is limited to 4s. The dataloader returns the Melspectrogram on 40 Mel filterbanks and the labels (target name). \r\n",
        "Considered experiments and data amounts: \r\n",
        "\r\n",
        "* total audio files= 1000 (750 training, 150 test, 150 valid. sets)\r\n",
        "* total audio files= 2000 (1400 training, 300 test, 300 valid. sets)\r\n",
        "* total audio files= 4000 (2800 training, 600 test, 600 valid. sets)\r\n",
        "* total audiofiles=  22988 : \r\n",
        "1. (1608,6 training, 345,4 test, 344,8 valid sets / 3448 valid, 3454 test) 10%\r\n",
        "2. ( 3.217,2 training, 3448 valid, 3454 test) 20%"
      ]
    },
    {
      "cell_type": "code",
      "metadata": {
        "id": "dKfpT7Jy03S5"
      },
      "source": [
        "import torch\r\n",
        "from torch.utils import data\r\n",
        "import librosa\r\n",
        "import numpy as np\r\n",
        "from scipy import signal \r\n",
        "\r\n",
        "class SASA_data(data.Dataset): \r\n",
        "  def __init__(self, csvfilename, target, max_len=64000, win_len=0.02):                #setting properties of dataloader\r\n",
        "    self.max_len = max_len \r\n",
        "    self.win_len = win_len                                                             #windows length --> 0.02\r\n",
        "    self.eps = np.finfo(np.float64).eps                                                #n epochs\r\n",
        "    self.audioid = []                                                                  #wav files' id\r\n",
        "    self.target = target                                                               #labels\r\n",
        "\r\n",
        "    with open(csvfilename) as fcsv:\r\n",
        "      lines= fcsv.readlines()\r\n",
        "                                                                \r\n",
        "      lines = lines[:int(len(lines))]                        #reduced training/test/valid (len(lines)*0.1 --> 10% of the whole data\r\n",
        "\r\n",
        "      for l in lines:\r\n",
        "        l= l.replace(\"\\n\", \"\")\r\n",
        "        self.audioid.append(l)\r\n",
        "\r\n",
        "\r\n",
        "  def __len__(self): \r\n",
        "    return len(self.audioid)                                             #return how big datset is \r\n",
        "\r\n",
        "  def __getitem__(self,index):          \r\n",
        "    audiofile = self.audioid[index]                                       #loading this audiofile\r\n",
        "    #print(audiofile)                                                     #REMEMBER TO REMOVE if you don't want to check  \r\n",
        "    wavfile_label = audiofile.split(\"/\")[1]                               #label\r\n",
        "    label = self.target.index(wavfile_label) if wavfile_label in target else len(self.target)-1  #label for that  file \r\n",
        "\r\n",
        "    x,sr= librosa.load(audiofile,sr=16000)                              #transforming the original frequency (downsizing 64000 to 16000)\r\n",
        "    x= x[:self.max_len]                                                 #cutting the file lenght to 4 sec\r\n",
        "    if len(x) < self.max_len:\r\n",
        "      xx=np.pad(x, [(0,self.max_len-x.shape[0]),],mode=\"constant\")\r\n",
        "      x=xx\r\n",
        "\r\n",
        "    n_fft= int(self.win_len*sr)                                         #frequency bins\r\n",
        "    filters= librosa.filters.mel(sr, n_fft, n_mels= 40)                 #40 Mel filterbanks (features)\r\n",
        "    window= signal.hamming(int(n_fft), sym=False)\r\n",
        "    spectrogram= np.abs(librosa.stft(y= x+self.eps, n_fft= n_fft, win_length= n_fft, hop_length= n_fft//2, center= True, window= window))\r\n",
        "    melspectrum= np.log(np.dot(filters, spectrogram)+self.eps)         #getting Mel spectrogram\r\n",
        "\r\n",
        "    \r\n",
        "    return torch.from_numpy(melspectrum), label\r\n"
      ],
      "execution_count": null,
      "outputs": []
    },
    {
      "cell_type": "markdown",
      "metadata": {
        "id": "A2roUIdNAU_M"
      },
      "source": [
        "# Model for training (CNNNet)"
      ]
    },
    {
      "cell_type": "markdown",
      "metadata": {
        "id": "AAzBh2ue6XAC"
      },
      "source": [
        "The model used to perform the task consists of a small model with convoluted neural networks. \r\n"
      ]
    },
    {
      "cell_type": "code",
      "metadata": {
        "id": "cLmPOYQjLVs8"
      },
      "source": [
        "import torch.nn as nn\r\n",
        "import torch.nn.functional as F\r\n",
        "class CNNNet(nn.Module):\r\n",
        "    def __init__(self, n_frames=401, n_feats=40, n_class=10, kernel=(8,20), max_pooling=2):                     #n_class=10 targets\r\n",
        "        super(CNNNet, self).__init__()\r\n",
        "        self.conv1 = nn.Conv2d(1, 64, kernel_size=kernel, stride=(1,1))\r\n",
        "        self.maxpool1=nn.MaxPool2d(kernel_size=(2, 2), stride=(2, 2), padding=0, dilation=1, ceil_mode=False)\r\n",
        "        self.conv2 = nn.Conv2d(64, 64, kernel_size=(4, 10), stride=(1, 1))\r\n",
        "        self.maxpool2 = nn.MaxPool2d(kernel_size=(1, 1), stride=(1, 1), padding=0, dilation=1, ceil_mode=False)\r\n",
        "        self.conv2_drop = nn.Dropout2d()\r\n",
        "\r\n",
        " \r\n",
        "\r\n",
        "        self.fc1 = nn.Linear(in_features=151424, out_features=128, bias=True)\r\n",
        "        self.fc2 = nn.Linear(128, n_class)\r\n",
        "        self.drop = nn.Dropout()\r\n",
        "\r\n",
        " \r\n",
        "\r\n",
        "    def forward(self, x):\r\n",
        "        x = self.conv1(x.unsqueeze(1))\r\n",
        "\r\n",
        " \r\n",
        "\r\n",
        "        x = F.relu(self.maxpool1(x))\r\n",
        "\r\n",
        " \r\n",
        "\r\n",
        "        x = self.conv2(x)\r\n",
        "        x = F.relu(self.maxpool2(x))\r\n",
        "        x=self.conv2_drop(x)\r\n",
        "\r\n",
        " \r\n",
        "\r\n",
        "        x = x.view(x.size(0),-1)\r\n",
        "\r\n",
        " \r\n",
        "\r\n",
        "        x = F.relu(self.fc1(x))\r\n",
        "        x = self.drop(x)\r\n",
        "        x = self.fc2(x)\r\n",
        "\r\n",
        " \r\n",
        "\r\n",
        "        return x"
      ],
      "execution_count": null,
      "outputs": []
    },
    {
      "cell_type": "code",
      "metadata": {
        "id": "xmfd-8DJo5eZ"
      },
      "source": [
        "model = CNNNet()"
      ],
      "execution_count": null,
      "outputs": []
    },
    {
      "cell_type": "code",
      "metadata": {
        "id": "KHK3t43Wo8Te",
        "colab": {
          "base_uri": "https://localhost:8080/"
        },
        "outputId": "f6def63d-3f34-4ef3-cab0-624eec82f494"
      },
      "source": [
        "#model details \r\n",
        "\r\n",
        "print(model)"
      ],
      "execution_count": null,
      "outputs": [
        {
          "output_type": "stream",
          "text": [
            "CNNNet(\n",
            "  (conv1): Conv2d(1, 64, kernel_size=(8, 20), stride=(1, 1))\n",
            "  (maxpool1): MaxPool2d(kernel_size=(2, 2), stride=(2, 2), padding=0, dilation=1, ceil_mode=False)\n",
            "  (conv2): Conv2d(64, 64, kernel_size=(4, 10), stride=(1, 1))\n",
            "  (maxpool2): MaxPool2d(kernel_size=(1, 1), stride=(1, 1), padding=0, dilation=1, ceil_mode=False)\n",
            "  (conv2_drop): Dropout2d(p=0.5, inplace=False)\n",
            "  (fc1): Linear(in_features=151424, out_features=128, bias=True)\n",
            "  (fc2): Linear(in_features=128, out_features=10, bias=True)\n",
            "  (drop): Dropout(p=0.5, inplace=False)\n",
            ")\n"
          ],
          "name": "stdout"
        }
      ]
    },
    {
      "cell_type": "code",
      "metadata": {
        "id": "-569-yr3GjHW",
        "colab": {
          "base_uri": "https://localhost:8080/"
        },
        "outputId": "223709b3-feba-4f45-e34f-8a3f44a138a5"
      },
      "source": [
        "inp_feats= torch.rand(6,40,401)  \n",
        "print(model(inp_feats).shape)"
      ],
      "execution_count": null,
      "outputs": [
        {
          "output_type": "stream",
          "text": [
            "torch.Size([6, 10])\n"
          ],
          "name": "stdout"
        }
      ]
    },
    {
      "cell_type": "markdown",
      "metadata": {
        "id": "X15RE_c9pxFF"
      },
      "source": [
        "# Instantiating the dataloaders for training, validation and test sets "
      ]
    },
    {
      "cell_type": "code",
      "metadata": {
        "id": "HMDO5BhNm5Tw"
      },
      "source": [
        "#using the whole dataset but 10%/20% of files per partition\r\n",
        "\r\n",
        "import numpy as np\r\n",
        "\r\n",
        "train_set= SASA_data(\"reduced_dataset/SASA_data/train_data_whole.csv\", target)\r\n",
        "training_parameters= {\"batch_size\":50, \"shuffle\":True}                   \r\n",
        "train_set_generator= data.DataLoader(train_set, **training_parameters)\r\n",
        "\r\n",
        "valid_set= SASA_data(\"reduced_dataset/SASA_data/valid_data_whole.csv\", target)\r\n",
        "valid_parameters= {\"batch_size\":50, \"shuffle\":False}                   \r\n",
        "valid_set_generator= data.DataLoader(valid_set, **valid_parameters)\r\n",
        "\r\n",
        "test_set= SASA_data(\"reduced_dataset/SASA_data/test_data_whole.csv\", target)\r\n",
        "test_parameters= {\"batch_size\":50, \"shuffle\":False}                   \r\n",
        "test_set_generator= data.DataLoader(test_set, **test_parameters)"
      ],
      "execution_count": null,
      "outputs": []
    },
    {
      "cell_type": "code",
      "metadata": {
        "id": "USlW8VSOqgYZ"
      },
      "source": [
        "#using the 1st reduced dataset (1000 audiofiles- 750 x training)\r\n",
        "\r\n",
        "import numpy as np\r\n",
        "\r\n",
        "train_set= SASA_data(\"reduced_dataset/SASA_data/train_data1.csv\", target)\r\n",
        "training_parameters= {\"batch_size\":50, \"shuffle\":True}                   \r\n",
        "train_set_generator= data.DataLoader(train_set, **training_parameters)\r\n",
        "\r\n",
        "valid_set= SASA_data(\"reduced_dataset/SASA_data/valid_data1.csv\", target)\r\n",
        "valid_parameters= {\"batch_size\":50, \"shuffle\":False}                   \r\n",
        "valid_set_generator= data.DataLoader(valid_set, **valid_parameters)\r\n",
        "\r\n",
        "test_set= SASA_data(\"reduced_dataset/SASA_data/test_data1.csv\", target)\r\n",
        "test_parameters= {\"batch_size\":50, \"shuffle\":False}                   \r\n",
        "test_set_generator= data.DataLoader(test_set, **test_parameters)"
      ],
      "execution_count": null,
      "outputs": []
    },
    {
      "cell_type": "code",
      "metadata": {
        "id": "8czf0CTIIvpD"
      },
      "source": [
        "#2nd reduced dataset (2000 files total)\r\n",
        "\r\n",
        "import numpy as np\r\n",
        "\r\n",
        "train_set= SASA_data(\"reduced_dataset/SASA_data/train_data2.csv\", target)\r\n",
        "training_parameters= {\"batch_size\":50, \"shuffle\":True}                   \r\n",
        "train_set_generator= data.DataLoader(train_set, **training_parameters)\r\n",
        "\r\n",
        "valid_set= SASA_data(\"reduced_dataset/SASA_data/valid_data2.csv\", target)\r\n",
        "valid_parameters= {\"batch_size\":50, \"shuffle\":False}                   \r\n",
        "valid_set_generator= data.DataLoader(valid_set, **valid_parameters)\r\n",
        "\r\n",
        "test_set= SASA_data(\"reduced_dataset/SASA_data/test_data2.csv\", target)\r\n",
        "test_parameters= {\"batch_size\":50, \"shuffle\":False}                   \r\n",
        "test_set_generator= data.DataLoader(test_set, **test_parameters)"
      ],
      "execution_count": null,
      "outputs": []
    },
    {
      "cell_type": "code",
      "metadata": {
        "id": "q2r9mMzZ9HA8"
      },
      "source": [
        "#3rd reduced dataset (4000 audiofiles total)\r\n",
        "import numpy as np\r\n",
        "\r\n",
        "train_set= SASA_data(\"reduced_dataset/SASA_data/train_data4.csv\", target)\r\n",
        "training_parameters= {\"batch_size\":50, \"shuffle\":True}                   \r\n",
        "train_set_generator= data.DataLoader(train_set, **training_parameters)\r\n",
        "\r\n",
        "valid_set= SASA_data(\"reduced_dataset/SASA_data/valid_data4.csv\", target)\r\n",
        "valid_parameters= {\"batch_size\":50, \"shuffle\":False}                   \r\n",
        "valid_set_generator= data.DataLoader(valid_set, **valid_parameters)\r\n",
        "\r\n",
        "test_set= SASA_data(\"reduced_dataset/SASA_data/test_data4.csv\", target)\r\n",
        "test_parameters= {\"batch_size\":50, \"shuffle\":False}                   \r\n",
        "test_set_generator= data.DataLoader(test_set, **test_parameters)"
      ],
      "execution_count": null,
      "outputs": []
    },
    {
      "cell_type": "markdown",
      "metadata": {
        "id": "3QLziRUG5-mw"
      },
      "source": [
        "# Checking CUDA availability"
      ]
    },
    {
      "cell_type": "code",
      "metadata": {
        "id": "pfLKVODvBgRE",
        "colab": {
          "base_uri": "https://localhost:8080/"
        },
        "outputId": "5b6a72d1-0e1b-4cec-bd2a-f044a51c78ac"
      },
      "source": [
        "\n",
        "print(torch.cuda.is_available())\n",
        "print(torch.cuda.get_device_name())\n",
        "print(torch.cuda.get_device_properties(\"cuda:0\"))"
      ],
      "execution_count": null,
      "outputs": [
        {
          "output_type": "stream",
          "text": [
            "True\n",
            "Tesla T4\n",
            "_CudaDeviceProperties(name='Tesla T4', major=7, minor=5, total_memory=15079MB, multi_processor_count=40)\n"
          ],
          "name": "stdout"
        }
      ]
    },
    {
      "cell_type": "markdown",
      "metadata": {
        "id": "p60DQC2Mq4qA"
      },
      "source": [
        "# Training using the reduced datasets"
      ]
    },
    {
      "cell_type": "markdown",
      "metadata": {
        "id": "7mMzKVBzXY9x"
      },
      "source": [
        "# 1st attempt (dataset -> 1000 total audiofiles)\r\n",
        "\r\n",
        "*17% accuracy*"
      ]
    },
    {
      "cell_type": "code",
      "metadata": {
        "colab": {
          "base_uri": "https://localhost:8080/"
        },
        "id": "ulZ75QCHqxsk",
        "outputId": "968ad833-ed65-40e1-c6a2-1d6ef49bf897"
      },
      "source": [
        "import copy\r\n",
        "import torch.optim as optim\r\n",
        "from sklearn.metrics import confusion_matrix\r\n",
        "\r\n",
        "####to store the printing in a txt file \r\n",
        "#import sys \r\n",
        "#original_stdout = sys.stdout -->saving a ref to the standard ouput \r\n",
        "\r\n",
        "\r\n",
        "optimizer = optim.SGD(model.parameters(),lr = 0.001)\r\n",
        "criterion = torch.nn.CrossEntropyLoss()\r\n",
        "\r\n",
        "\r\n",
        "model.train()\r\n",
        "model.cuda()\r\n",
        "best_accuracy = 0\r\n",
        "max_epochs= 10\r\n",
        "\r\n",
        "#with open(\"training_red_SASA.txt\", \"w\") as f:\r\n",
        "# sys.stdout = f -->redirecting the ouput to the txt file \r\n",
        "\r\n",
        "for e in range(max_epochs):\r\n",
        "  for i, d in enumerate(train_set_generator):\r\n",
        "    f,l = d\r\n",
        "    y = model(f.float().cuda())\r\n",
        "    loss = criterion(y,l.cuda())\r\n",
        "    print(\"Iteration %d in epoch %d, loss = %.4f\"%(i,e,loss.item()))\r\n",
        "    loss.backward()\r\n",
        "    optimizer.step()\r\n",
        "    optimizer.zero_grad()\r\n",
        "    if i%20==0:\r\n",
        "      print(\"Validation\")\r\n",
        "      \r\n",
        "      model.eval()\r\n",
        "      correct=[]\r\n",
        "      for j, valid_data in enumerate(valid_set_generator):\r\n",
        "        #print(j)        #remember you CAN REMOVE THIS\r\n",
        "        feats, labels=valid_data\r\n",
        "        y_eval=model(feats.float().cuda())\r\n",
        "        _,pred=torch.max(y_eval.detach().cpu(), dim=1)\r\n",
        "        correct.append((pred==labels.float()))\r\n",
        "\r\n",
        "      acc=np.mean(np.hstack(correct))\r\n",
        "      iter_acc = 'iteration %d epoch %d--> %f'%(i,e,acc)\r\n",
        "      print(iter_acc)\r\n",
        "      \r\n",
        "      if acc > best_accuracy:\r\n",
        "        improved_accuracy = 'Current accuracy = %f (%f), updating best model'%(acc,best_accuracy)\r\n",
        "        print(improved_accuracy)\r\n",
        "        best_accuracy = acc\r\n",
        "        best_epoch= e\r\n",
        "        torch.save(model.state_dict(), \"reduced_dataset/best_model_SASA_red1.pkl\")  #best_model_SASA.pkl\r\n",
        "      model.train()\r\n",
        "\r\n",
        "#sys.stdout = original_stdout  --> resetting standard output\r\n",
        "\r\n",
        "matrix= confusion_matrix(labels,pred)\r\n",
        "print(matrix)\r\n",
        "\r\n"
      ],
      "execution_count": null,
      "outputs": [
        {
          "output_type": "stream",
          "text": [
            "Iteration 0 in epoch 0, loss = 2.2739\n",
            "Validation\n",
            "iteration 0 epoch 0--> 0.120000\n",
            "Current accuracy = 0.120000 (0.000000), updating best model\n",
            "Iteration 1 in epoch 0, loss = 2.2978\n",
            "Iteration 2 in epoch 0, loss = 2.4728\n",
            "Iteration 3 in epoch 0, loss = 2.3610\n",
            "Iteration 4 in epoch 0, loss = 2.3450\n",
            "Iteration 5 in epoch 0, loss = 2.3775\n",
            "Iteration 6 in epoch 0, loss = 2.3168\n",
            "Iteration 7 in epoch 0, loss = 2.3194\n",
            "Iteration 8 in epoch 0, loss = 2.2862\n",
            "Iteration 9 in epoch 0, loss = 2.3432\n",
            "Iteration 10 in epoch 0, loss = 2.3031\n",
            "Iteration 11 in epoch 0, loss = 2.3222\n",
            "Iteration 12 in epoch 0, loss = 2.3162\n",
            "Iteration 13 in epoch 0, loss = 2.3172\n",
            "Iteration 0 in epoch 1, loss = 2.2937\n",
            "Validation\n",
            "iteration 0 epoch 1--> 0.140000\n",
            "Current accuracy = 0.140000 (0.120000), updating best model\n",
            "Iteration 1 in epoch 1, loss = 2.2945\n",
            "Iteration 2 in epoch 1, loss = 2.2791\n",
            "Iteration 3 in epoch 1, loss = 2.3279\n",
            "Iteration 4 in epoch 1, loss = 2.2853\n",
            "Iteration 5 in epoch 1, loss = 2.2779\n",
            "Iteration 6 in epoch 1, loss = 2.3029\n",
            "Iteration 7 in epoch 1, loss = 2.3111\n",
            "Iteration 8 in epoch 1, loss = 2.2676\n",
            "Iteration 9 in epoch 1, loss = 2.3097\n",
            "Iteration 10 in epoch 1, loss = 2.3023\n",
            "Iteration 11 in epoch 1, loss = 2.3026\n",
            "Iteration 12 in epoch 1, loss = 2.3084\n",
            "Iteration 13 in epoch 1, loss = 2.2993\n",
            "Iteration 0 in epoch 2, loss = 2.2891\n",
            "Validation\n",
            "iteration 0 epoch 2--> 0.093333\n",
            "Iteration 1 in epoch 2, loss = 2.2905\n",
            "Iteration 2 in epoch 2, loss = 2.2876\n",
            "Iteration 3 in epoch 2, loss = 2.3026\n",
            "Iteration 4 in epoch 2, loss = 2.2875\n",
            "Iteration 5 in epoch 2, loss = 2.2571\n",
            "Iteration 6 in epoch 2, loss = 2.3371\n",
            "Iteration 7 in epoch 2, loss = 2.2859\n",
            "Iteration 8 in epoch 2, loss = 2.3339\n",
            "Iteration 9 in epoch 2, loss = 2.2956\n",
            "Iteration 10 in epoch 2, loss = 2.2809\n",
            "Iteration 11 in epoch 2, loss = 2.3033\n",
            "Iteration 12 in epoch 2, loss = 2.2923\n",
            "Iteration 13 in epoch 2, loss = 2.2929\n",
            "Iteration 0 in epoch 3, loss = 2.2702\n",
            "Validation\n",
            "iteration 0 epoch 3--> 0.160000\n",
            "Current accuracy = 0.160000 (0.140000), updating best model\n",
            "Iteration 1 in epoch 3, loss = 2.3060\n",
            "Iteration 2 in epoch 3, loss = 2.2974\n",
            "Iteration 3 in epoch 3, loss = 2.2663\n",
            "Iteration 4 in epoch 3, loss = 2.2482\n",
            "Iteration 5 in epoch 3, loss = 2.2346\n",
            "Iteration 6 in epoch 3, loss = 2.2650\n",
            "Iteration 7 in epoch 3, loss = 2.2531\n",
            "Iteration 8 in epoch 3, loss = 2.2377\n",
            "Iteration 9 in epoch 3, loss = 2.3045\n",
            "Iteration 10 in epoch 3, loss = 2.2427\n",
            "Iteration 11 in epoch 3, loss = 2.3238\n",
            "Iteration 12 in epoch 3, loss = 2.2591\n",
            "Iteration 13 in epoch 3, loss = 2.2276\n",
            "Iteration 0 in epoch 4, loss = 2.3287\n",
            "Validation\n",
            "iteration 0 epoch 4--> 0.153333\n",
            "Iteration 1 in epoch 4, loss = 2.3025\n",
            "Iteration 2 in epoch 4, loss = 2.2560\n",
            "Iteration 3 in epoch 4, loss = 2.2536\n",
            "Iteration 4 in epoch 4, loss = 2.2776\n",
            "Iteration 5 in epoch 4, loss = 2.2176\n",
            "Iteration 6 in epoch 4, loss = 2.2417\n",
            "Iteration 7 in epoch 4, loss = 2.2841\n",
            "Iteration 8 in epoch 4, loss = 2.2627\n",
            "Iteration 9 in epoch 4, loss = 2.2967\n",
            "Iteration 10 in epoch 4, loss = 2.2129\n",
            "Iteration 11 in epoch 4, loss = 2.3219\n",
            "Iteration 12 in epoch 4, loss = 2.2823\n",
            "Iteration 13 in epoch 4, loss = 2.2864\n",
            "Iteration 0 in epoch 5, loss = 2.2610\n",
            "Validation\n",
            "iteration 0 epoch 5--> 0.133333\n",
            "Iteration 1 in epoch 5, loss = 2.2580\n",
            "Iteration 2 in epoch 5, loss = 2.2374\n",
            "Iteration 3 in epoch 5, loss = 2.2564\n",
            "Iteration 4 in epoch 5, loss = 2.2476\n",
            "Iteration 5 in epoch 5, loss = 2.2228\n",
            "Iteration 6 in epoch 5, loss = 2.2052\n",
            "Iteration 7 in epoch 5, loss = 2.2515\n",
            "Iteration 8 in epoch 5, loss = 2.3669\n",
            "Iteration 9 in epoch 5, loss = 2.2196\n",
            "Iteration 10 in epoch 5, loss = 2.2777\n",
            "Iteration 11 in epoch 5, loss = 2.2938\n",
            "Iteration 12 in epoch 5, loss = 2.2499\n",
            "Iteration 13 in epoch 5, loss = 2.2453\n",
            "Iteration 0 in epoch 6, loss = 2.2745\n",
            "Validation\n",
            "iteration 0 epoch 6--> 0.126667\n",
            "Iteration 1 in epoch 6, loss = 2.2017\n",
            "Iteration 2 in epoch 6, loss = 2.2875\n",
            "Iteration 3 in epoch 6, loss = 2.2390\n",
            "Iteration 4 in epoch 6, loss = 2.2798\n",
            "Iteration 5 in epoch 6, loss = 2.2998\n",
            "Iteration 6 in epoch 6, loss = 2.2231\n",
            "Iteration 7 in epoch 6, loss = 2.2268\n",
            "Iteration 8 in epoch 6, loss = 2.2454\n",
            "Iteration 9 in epoch 6, loss = 2.2278\n",
            "Iteration 10 in epoch 6, loss = 2.2365\n",
            "Iteration 11 in epoch 6, loss = 2.2283\n",
            "Iteration 12 in epoch 6, loss = 2.2742\n",
            "Iteration 13 in epoch 6, loss = 2.1870\n",
            "Iteration 0 in epoch 7, loss = 2.1444\n",
            "Validation\n",
            "iteration 0 epoch 7--> 0.126667\n",
            "Iteration 1 in epoch 7, loss = 2.2897\n",
            "Iteration 2 in epoch 7, loss = 2.2464\n",
            "Iteration 3 in epoch 7, loss = 2.1697\n",
            "Iteration 4 in epoch 7, loss = 2.2113\n",
            "Iteration 5 in epoch 7, loss = 2.0843\n",
            "Iteration 6 in epoch 7, loss = 2.2260\n",
            "Iteration 7 in epoch 7, loss = 2.2359\n",
            "Iteration 8 in epoch 7, loss = 2.1757\n",
            "Iteration 9 in epoch 7, loss = 2.2141\n",
            "Iteration 10 in epoch 7, loss = 2.2666\n",
            "Iteration 11 in epoch 7, loss = 2.2429\n",
            "Iteration 12 in epoch 7, loss = 2.1884\n",
            "Iteration 13 in epoch 7, loss = 2.2439\n",
            "Iteration 0 in epoch 8, loss = 2.1810\n",
            "Validation\n",
            "iteration 0 epoch 8--> 0.113333\n",
            "Iteration 1 in epoch 8, loss = 2.1517\n",
            "Iteration 2 in epoch 8, loss = 2.1701\n",
            "Iteration 3 in epoch 8, loss = 2.2089\n",
            "Iteration 4 in epoch 8, loss = 2.1505\n",
            "Iteration 5 in epoch 8, loss = 2.2662\n",
            "Iteration 6 in epoch 8, loss = 2.1839\n",
            "Iteration 7 in epoch 8, loss = 2.2534\n",
            "Iteration 8 in epoch 8, loss = 2.1277\n",
            "Iteration 9 in epoch 8, loss = 2.3656\n",
            "Iteration 10 in epoch 8, loss = 2.2555\n",
            "Iteration 11 in epoch 8, loss = 2.2157\n",
            "Iteration 12 in epoch 8, loss = 2.2266\n",
            "Iteration 13 in epoch 8, loss = 2.1740\n",
            "Iteration 0 in epoch 9, loss = 2.2577\n",
            "Validation\n",
            "iteration 0 epoch 9--> 0.173333\n",
            "Current accuracy = 0.173333 (0.160000), updating best model\n",
            "Iteration 1 in epoch 9, loss = 2.1267\n",
            "Iteration 2 in epoch 9, loss = 2.1695\n",
            "Iteration 3 in epoch 9, loss = 2.2707\n",
            "Iteration 4 in epoch 9, loss = 2.2452\n",
            "Iteration 5 in epoch 9, loss = 2.1735\n",
            "Iteration 6 in epoch 9, loss = 2.2186\n",
            "Iteration 7 in epoch 9, loss = 2.1236\n",
            "Iteration 8 in epoch 9, loss = 2.2039\n",
            "Iteration 9 in epoch 9, loss = 2.1406\n",
            "Iteration 10 in epoch 9, loss = 2.1813\n",
            "Iteration 11 in epoch 9, loss = 2.2940\n",
            "Iteration 12 in epoch 9, loss = 2.1923\n",
            "Iteration 13 in epoch 9, loss = 2.2161\n",
            "[[0 0 0 1 0 0 0 3 0 1]\n",
            " [0 0 0 0 1 0 0 2 0 2]\n",
            " [0 0 2 0 0 0 0 2 0 1]\n",
            " [0 0 0 2 0 0 0 2 0 2]\n",
            " [0 0 0 0 3 0 0 0 0 1]\n",
            " [0 0 0 0 0 0 0 1 0 1]\n",
            " [1 0 1 0 2 0 0 2 0 1]\n",
            " [0 0 0 0 1 0 0 2 0 1]\n",
            " [2 1 0 0 1 0 0 1 0 1]\n",
            " [0 0 1 0 0 0 0 0 0 5]]\n"
          ],
          "name": "stdout"
        }
      ]
    },
    {
      "cell_type": "markdown",
      "metadata": {
        "id": "hG89gOEjExpC"
      },
      "source": [
        "# Plotting the accuracy and loss curves (from the training) "
      ]
    },
    {
      "cell_type": "code",
      "metadata": {
        "id": "QD36QpkNEZA_"
      },
      "source": [
        "import re\r\n",
        "\r\n",
        "total_loss= [] \r\n",
        "total_acc= []\r\n",
        "\r\n",
        "def plotting_train_data(file): \r\n",
        "  with open(file) as inp:\r\n",
        "    for line in inp:\r\n",
        "      if \"loss = \" in line: \r\n",
        "        loss= re.findall(r\"\\= (.*)$\", line)\r\n",
        "        for e in loss:\r\n",
        "          total_loss.append(float(e))\r\n",
        "      if \"-->\" in line: \r\n",
        "        acc= re.findall(r\"\\--> (.*)$\", line)\r\n",
        "        for e in acc:\r\n",
        "          total_acc.append(float(e))\r\n",
        "#total_loss\r\n",
        "#total_acc"
      ],
      "execution_count": null,
      "outputs": []
    },
    {
      "cell_type": "code",
      "metadata": {
        "id": "wKgM3I-YKwqu"
      },
      "source": [
        "plotting_train_data(\"reduced_dataset/training_red_SASA.txt\")"
      ],
      "execution_count": null,
      "outputs": []
    },
    {
      "cell_type": "code",
      "metadata": {
        "colab": {
          "base_uri": "https://localhost:8080/",
          "height": 295
        },
        "id": "ag1eAA8BE3qU",
        "outputId": "9123f1d3-127d-402c-f7ad-e60bde92b561"
      },
      "source": [
        "import matplotlib.pyplot as plt\r\n",
        "\r\n",
        "plt.title(\"Loss curve\")      \r\n",
        "plt.xlabel(\"Loss\")\r\n",
        "plt.plot(total_loss, color= \"indigo\")\r\n",
        "plt.show()"
      ],
      "execution_count": null,
      "outputs": [
        {
          "output_type": "display_data",
          "data": {
            "image/png": "[encoded data removed]",
            "text/plain": [
              "<Figure size 432x288 with 1 Axes>"
            ]
          },
          "metadata": {
            "tags": [],
            "needs_background": "light"
          }
        }
      ]
    },
    {
      "cell_type": "markdown",
      "metadata": {
        "id": "vveP_zyd0cwd"
      },
      "source": [
        "# Evaluating the saved models \r\n",
        "(re-defining variables to be able to excecute these cells alone not the entire script) "
      ]
    },
    {
      "cell_type": "markdown",
      "metadata": {
        "id": "NpzD02rDXlHg"
      },
      "source": [
        "# 1st red.dataset -> 150 per test & valid set\r\n"
      ]
    },
    {
      "cell_type": "markdown",
      "metadata": {
        "id": "d6bkmIva23ye"
      },
      "source": [
        "# Declaring model and loading trained params "
      ]
    },
    {
      "cell_type": "code",
      "metadata": {
        "id": "_KeVo8kcuwBA"
      },
      "source": [
        "target= [\"es_ar_female\", \"es_ar_male\", \"es_co_female\", \"es_co_male\", \"es_pe_female\", \"es_pe_male\", \"es_ve_female\", \"es_ve_male\", \"es_cl_female\",\"es_cl_male\"]"
      ],
      "execution_count": null,
      "outputs": []
    },
    {
      "cell_type": "code",
      "metadata": {
        "id": "PCBHvfxN22va",
        "colab": {
          "base_uri": "https://localhost:8080/"
        },
        "outputId": "412926a2-7206-4163-ede3-ea6e8ac255d9"
      },
      "source": [
        "model= CNNNet(n_class=len(target))\r\n",
        "model.load_state_dict(torch.load(\"reduced_dataset/best_model_SASA_red1.pkl\"))\r\n",
        "model.eval()\r\n",
        "model.cuda()"
      ],
      "execution_count": null,
      "outputs": [
        {
          "output_type": "execute_result",
          "data": {
            "text/plain": [
              "CNNNet(\n",
              "  (conv1): Conv2d(1, 64, kernel_size=(8, 20), stride=(1, 1))\n",
              "  (maxpool1): MaxPool2d(kernel_size=(2, 2), stride=(2, 2), padding=0, dilation=1, ceil_mode=False)\n",
              "  (conv2): Conv2d(64, 64, kernel_size=(4, 10), stride=(1, 1))\n",
              "  (maxpool2): MaxPool2d(kernel_size=(1, 1), stride=(1, 1), padding=0, dilation=1, ceil_mode=False)\n",
              "  (conv2_drop): Dropout2d(p=0.5, inplace=False)\n",
              "  (fc1): Linear(in_features=151424, out_features=128, bias=True)\n",
              "  (fc2): Linear(in_features=128, out_features=10, bias=True)\n",
              "  (drop): Dropout(p=0.5, inplace=False)\n",
              ")"
            ]
          },
          "metadata": {
            "tags": []
          },
          "execution_count": 15
        }
      ]
    },
    {
      "cell_type": "markdown",
      "metadata": {
        "id": "glxp5TUxgCPX"
      },
      "source": [
        "# Function to check accuracy on test set "
      ]
    },
    {
      "cell_type": "code",
      "metadata": {
        "id": "3EQULLJbQhuv"
      },
      "source": [
        "import time                               #to check the required time \r\n",
        "from sklearn.metrics import confusion_matrix\r\n",
        "import matplotlib.pyplot as plt\r\n",
        "\r\n",
        "\r\n",
        "test_correct= []                         #list correct selections\r\n",
        "totalstarttime=time.time()\r\n",
        "#checking the test\r\n",
        "\r\n",
        "def acc_test_set(test_set_generator= test_set_generator, test_set= test_set, batch_size=50):\r\n",
        "  for i, test_data in enumerate(test_set_generator): \r\n",
        "    starttime= time.time()\r\n",
        "    feats,labels= test_data\r\n",
        "    out= model(feats.float().cuda())\r\n",
        "    _,pred= torch.max(out.cpu(), dim=1)\r\n",
        "    test_correct.append((pred==labels).float())\r\n",
        "    print('Iteration %d (%d/%d), time taken: %f' %(i,i*batch_size,len(test_set), time.time()-starttime))\r\n",
        "\r\n",
        "  mat_test=confusion_matrix(labels, pred)              \r\n",
        "  print(mat_test)   \r\n",
        "\r\n",
        "  test_accuracy = np.mean(np.hstack(test_correct))\r\n",
        "  print('The accuracy on the  test set is %f' %test_accuracy)\r\n",
        "  print('It took %f seconds'%(time.time()-totalstarttime))\r\n",
        "\r\n",
        "  return mat_test\r\n",
        "\r\n"
      ],
      "execution_count": null,
      "outputs": []
    },
    {
      "cell_type": "markdown",
      "metadata": {
        "id": "-Lxartyv6Ftg"
      },
      "source": [
        "# Checking the accuracy on test set \r\n",
        "*15% accuracy*\r\n",
        "---\r\n",
        "\r\n"
      ]
    },
    {
      "cell_type": "code",
      "metadata": {
        "id": "N1RoOyq3u_Z_"
      },
      "source": [
        "test_set= SASA_data(\"reduced_dataset/SASA_data/test_data1.csv\", target)\r\n",
        "batch_size= 50 \r\n",
        "params_test= {\"batch_size\" : batch_size, \r\n",
        "              \"shuffle\" : False}\r\n",
        "test_set_generator= data.DataLoader(test_set, **params_test)"
      ],
      "execution_count": null,
      "outputs": []
    },
    {
      "cell_type": "markdown",
      "metadata": {
        "id": "ZTvubcC7g82f"
      },
      "source": [
        "# Function to check the accuracy on validation set "
      ]
    },
    {
      "cell_type": "code",
      "metadata": {
        "id": "1NQ5KbSbilVA"
      },
      "source": [
        "import time                               #to check the required time \r\n",
        "from sklearn.metrics import confusion_matrix\r\n",
        "\r\n",
        "\r\n",
        "\r\n",
        "valid_correct= []                         #list correct selections\r\n",
        "totalstarttime=time.time()\r\n",
        "#checking the test\r\n",
        "\r\n",
        "def acc_val_set(valid_set_generator=valid_set_generator , valid_set= valid_set, batch_size=50):\r\n",
        "  for i, valid_data in enumerate(valid_set_generator): \r\n",
        "    starttime= time.time()\r\n",
        "    feats,labels= valid_data\r\n",
        "    out= model(feats.float().cuda())\r\n",
        "    _,pred= torch.max(out.cpu(), dim=1)\r\n",
        "    valid_correct.append((pred==labels).float())\r\n",
        "    print('Iteration %d (%d/%d), time taken: %f' %(i,i*batch_size,len(valid_set), time.time()-starttime))\r\n",
        "\r\n",
        "\r\n",
        "\r\n",
        "  mat_valid=confusion_matrix(labels, pred)              \r\n",
        "  print(mat_valid)   \r\n",
        "\r\n",
        "  valid_accuracy = np.mean(np.hstack(valid_correct))\r\n",
        "  print('The accuracy on the validation set is %f' %valid_accuracy)\r\n",
        "  print('It took %f seconds'%(time.time()-totalstarttime))\r\n",
        "\r\n",
        "  return mat_valid"
      ],
      "execution_count": null,
      "outputs": []
    },
    {
      "cell_type": "markdown",
      "metadata": {
        "id": "IyMPmEqmBUPJ"
      },
      "source": [
        "# Validation \r\n",
        "\r\n",
        "17%"
      ]
    },
    {
      "cell_type": "code",
      "metadata": {
        "id": "DQGVagogUEj1"
      },
      "source": [
        "valid_set= SASA_data(\"reduced_dataset/SASA_data/valid_data1.csv\", target)\r\n",
        "batch_size= 50 \r\n",
        "params_valid= {\"batch_size\" : batch_size, \r\n",
        "              \"shuffle\" : False}\r\n",
        "valid_set_generator= data.DataLoader(valid_set, **params_valid)"
      ],
      "execution_count": null,
      "outputs": []
    },
    {
      "cell_type": "code",
      "metadata": {
        "id": "FouPHNjhc0h2",
        "colab": {
          "base_uri": "https://localhost:8080/"
        },
        "outputId": "9be30459-4c3a-4c0c-d6a1-078c9025d9f0"
      },
      "source": [
        "val_1= acc_val_set()"
      ],
      "execution_count": null,
      "outputs": [
        {
          "output_type": "stream",
          "text": [
            "Iteration 0 (0/150), time taken: 0.027867\n",
            "Iteration 1 (50/150), time taken: 0.028327\n",
            "Iteration 2 (100/150), time taken: 0.027761\n",
            "[[0 0 0 1 0 0 0 3 0 1]\n",
            " [0 0 0 0 1 0 0 2 0 2]\n",
            " [0 0 2 0 0 0 0 2 0 1]\n",
            " [0 0 0 2 0 0 0 2 0 2]\n",
            " [0 0 0 0 3 0 0 0 0 1]\n",
            " [0 0 0 0 0 0 0 1 0 1]\n",
            " [1 0 1 0 2 0 0 2 0 1]\n",
            " [0 0 0 0 1 0 0 2 0 1]\n",
            " [2 1 0 0 1 0 0 1 0 1]\n",
            " [0 0 1 0 0 0 0 0 0 5]]\n",
            "The accuracy on the validation set is 0.173333\n",
            "It took 77.064629 seconds\n"
          ],
          "name": "stdout"
        }
      ]
    },
    {
      "cell_type": "markdown",
      "metadata": {
        "id": "oqlU3yFJAhe1"
      },
      "source": [
        "# 2nd attempt-> 2000 data total (1400 training)\r\n",
        "\r\n",
        "*17% accuracy *"
      ]
    },
    {
      "cell_type": "code",
      "metadata": {
        "colab": {
          "base_uri": "https://localhost:8080/"
        },
        "id": "PCxm1j8vI6dZ",
        "outputId": "4f814ab8-3359-476e-83e5-582e4e108fa9"
      },
      "source": [
        "import copy\r\n",
        "import torch.optim as optim\r\n",
        "from sklearn.metrics import confusion_matrix\r\n",
        "\r\n",
        "####to store the printing in a txt file \r\n",
        "#import sys \r\n",
        "#original_stdout = sys.stdout -->saving a ref to the standard ouput \r\n",
        "\r\n",
        "\r\n",
        "optimizer = optim.SGD(model.parameters(),lr = 0.001)\r\n",
        "criterion = torch.nn.CrossEntropyLoss()\r\n",
        "\r\n",
        "\r\n",
        "model.train()\r\n",
        "model.cuda()\r\n",
        "best_accuracy = 0\r\n",
        "max_epochs= 10\r\n",
        "\r\n",
        "#with open(\"SASA_red_2000_train.txt\", \"w\") as f:\r\n",
        "# sys.stdout = f -->redirecting the ouput to the txt file \r\n",
        "\r\n",
        "for e in range(max_epochs):\r\n",
        "  for i, d in enumerate(train_set_generator):\r\n",
        "    f,l = d\r\n",
        "    y = model(f.float().cuda())\r\n",
        "    loss = criterion(y,l.cuda())\r\n",
        "    print(\"Iteration %d in epoch %d, loss = %.4f\"%(i,e,loss.item()))\r\n",
        "    loss.backward()\r\n",
        "    optimizer.step()\r\n",
        "    optimizer.zero_grad()\r\n",
        "    if i%20==0:\r\n",
        "      print(\"Validation\")\r\n",
        "\r\n",
        "      model.eval()\r\n",
        "      correct=[]\r\n",
        "      for j, valid_data in enumerate(valid_set_generator):\r\n",
        "        #print(j)        #remember you CAN REMOVE THIS\r\n",
        "        feats, labels=valid_data\r\n",
        "        y_eval=model(feats.float().cuda())\r\n",
        "        _,pred=torch.max(y_eval.detach().cpu(), dim=1)\r\n",
        "        correct.append((pred==labels.float()))\r\n",
        "\r\n",
        "      acc=np.mean(np.hstack(correct))\r\n",
        "      iter_acc = 'iteration %d epoch %d--> %f'%(i,e,acc)\r\n",
        "      print(iter_acc)\r\n",
        "      \r\n",
        "      if acc > best_accuracy:\r\n",
        "        improved_accuracy = 'Current accuracy = %f (%f), updating best model'%(acc,best_accuracy)\r\n",
        "        print(improved_accuracy)\r\n",
        "        best_accuracy = acc\r\n",
        "        best_epoch= e\r\n",
        "        torch.save(model.state_dict(), \"reduced_dataset/best_model_SASA_red_2.pkl\")  #best_model_SASA.pkl\r\n",
        "      model.train()\r\n",
        "\r\n",
        "#sys.stdout = original_stdout  --> resetting standard output\r\n",
        "\r\n",
        "matrix2= confusion_matrix(labels,pred)\r\n",
        "print(matrix2)"
      ],
      "execution_count": null,
      "outputs": [
        {
          "output_type": "stream",
          "text": [
            "Iteration 0 in epoch 0, loss = 2.8095\n",
            "Validation\n",
            "iteration 0 epoch 0--> 0.100000\n",
            "Current accuracy = 0.100000 (0.000000), updating best model\n",
            "Iteration 1 in epoch 0, loss = 3.7949\n",
            "Iteration 2 in epoch 0, loss = 3.1063\n",
            "Iteration 3 in epoch 0, loss = 2.2975\n",
            "Iteration 4 in epoch 0, loss = 2.3349\n",
            "Iteration 5 in epoch 0, loss = 2.3046\n",
            "Iteration 6 in epoch 0, loss = 2.3164\n",
            "Iteration 7 in epoch 0, loss = 2.3059\n",
            "Iteration 8 in epoch 0, loss = 2.3117\n",
            "Iteration 9 in epoch 0, loss = 2.3143\n",
            "Iteration 10 in epoch 0, loss = 2.3051\n",
            "Iteration 11 in epoch 0, loss = 2.3065\n",
            "Iteration 12 in epoch 0, loss = 2.3070\n",
            "Iteration 13 in epoch 0, loss = 2.3095\n",
            "Iteration 14 in epoch 0, loss = 2.2984\n",
            "Iteration 15 in epoch 0, loss = 2.3084\n",
            "Iteration 16 in epoch 0, loss = 2.3077\n",
            "Iteration 17 in epoch 0, loss = 2.2932\n",
            "Iteration 18 in epoch 0, loss = 2.3064\n",
            "Iteration 19 in epoch 0, loss = 2.2868\n",
            "Iteration 20 in epoch 0, loss = 2.2962\n",
            "Validation\n",
            "iteration 20 epoch 0--> 0.106667\n",
            "Current accuracy = 0.106667 (0.100000), updating best model\n",
            "Iteration 21 in epoch 0, loss = 2.3261\n",
            "Iteration 22 in epoch 0, loss = 2.3118\n",
            "Iteration 23 in epoch 0, loss = 2.3226\n",
            "Iteration 24 in epoch 0, loss = 2.2951\n",
            "Iteration 25 in epoch 0, loss = 2.2885\n",
            "Iteration 26 in epoch 0, loss = 2.3399\n",
            "Iteration 27 in epoch 0, loss = 2.3012\n",
            "Iteration 0 in epoch 1, loss = 2.2635\n",
            "Validation\n",
            "iteration 0 epoch 1--> 0.110000\n",
            "Current accuracy = 0.110000 (0.106667), updating best model\n",
            "Iteration 1 in epoch 1, loss = 2.3440\n",
            "Iteration 2 in epoch 1, loss = 2.3234\n",
            "Iteration 3 in epoch 1, loss = 2.3050\n",
            "Iteration 4 in epoch 1, loss = 2.3094\n",
            "Iteration 5 in epoch 1, loss = 2.2977\n",
            "Iteration 6 in epoch 1, loss = 2.3061\n",
            "Iteration 7 in epoch 1, loss = 2.2900\n",
            "Iteration 8 in epoch 1, loss = 2.3020\n",
            "Iteration 9 in epoch 1, loss = 2.3047\n",
            "Iteration 10 in epoch 1, loss = 2.3115\n",
            "Iteration 11 in epoch 1, loss = 2.3068\n",
            "Iteration 12 in epoch 1, loss = 2.3112\n",
            "Iteration 13 in epoch 1, loss = 2.2894\n",
            "Iteration 14 in epoch 1, loss = 2.3075\n",
            "Iteration 15 in epoch 1, loss = 2.2885\n",
            "Iteration 16 in epoch 1, loss = 2.3349\n",
            "Iteration 17 in epoch 1, loss = 2.3099\n",
            "Iteration 18 in epoch 1, loss = 2.2846\n",
            "Iteration 19 in epoch 1, loss = 2.3222\n",
            "Iteration 20 in epoch 1, loss = 2.3014\n",
            "Validation\n",
            "iteration 20 epoch 1--> 0.113333\n",
            "Current accuracy = 0.113333 (0.110000), updating best model\n",
            "Iteration 21 in epoch 1, loss = 2.3014\n",
            "Iteration 22 in epoch 1, loss = 2.2981\n",
            "Iteration 23 in epoch 1, loss = 2.3089\n",
            "Iteration 24 in epoch 1, loss = 2.2985\n",
            "Iteration 25 in epoch 1, loss = 2.2957\n",
            "Iteration 26 in epoch 1, loss = 2.2919\n",
            "Iteration 27 in epoch 1, loss = 2.3098\n",
            "Iteration 0 in epoch 2, loss = 2.3240\n",
            "Validation\n",
            "iteration 0 epoch 2--> 0.086667\n",
            "Iteration 1 in epoch 2, loss = 2.3266\n",
            "Iteration 2 in epoch 2, loss = 2.3034\n",
            "Iteration 3 in epoch 2, loss = 2.3064\n",
            "Iteration 4 in epoch 2, loss = 2.3153\n",
            "Iteration 5 in epoch 2, loss = 2.2887\n",
            "Iteration 6 in epoch 2, loss = 2.2960\n",
            "Iteration 7 in epoch 2, loss = 2.3029\n",
            "Iteration 8 in epoch 2, loss = 2.3025\n",
            "Iteration 9 in epoch 2, loss = 2.2909\n",
            "Iteration 10 in epoch 2, loss = 2.3063\n",
            "Iteration 11 in epoch 2, loss = 2.3151\n",
            "Iteration 12 in epoch 2, loss = 2.3035\n",
            "Iteration 13 in epoch 2, loss = 2.2876\n",
            "Iteration 14 in epoch 2, loss = 2.2795\n",
            "Iteration 15 in epoch 2, loss = 2.2684\n",
            "Iteration 16 in epoch 2, loss = 2.2868\n",
            "Iteration 17 in epoch 2, loss = 2.3451\n",
            "Iteration 18 in epoch 2, loss = 2.3140\n",
            "Iteration 19 in epoch 2, loss = 2.3014\n",
            "Iteration 20 in epoch 2, loss = 2.3072\n",
            "Validation\n",
            "iteration 20 epoch 2--> 0.120000\n",
            "Current accuracy = 0.120000 (0.113333), updating best model\n",
            "Iteration 21 in epoch 2, loss = 2.2973\n",
            "Iteration 22 in epoch 2, loss = 2.2922\n",
            "Iteration 23 in epoch 2, loss = 2.2998\n",
            "Iteration 24 in epoch 2, loss = 2.2914\n",
            "Iteration 25 in epoch 2, loss = 2.2967\n",
            "Iteration 26 in epoch 2, loss = 2.2884\n",
            "Iteration 27 in epoch 2, loss = 2.2867\n",
            "Iteration 0 in epoch 3, loss = 2.3209\n",
            "Validation\n",
            "iteration 0 epoch 3--> 0.126667\n",
            "Current accuracy = 0.126667 (0.120000), updating best model\n",
            "Iteration 1 in epoch 3, loss = 2.2889\n",
            "Iteration 2 in epoch 3, loss = 2.2995\n",
            "Iteration 3 in epoch 3, loss = 2.3052\n",
            "Iteration 4 in epoch 3, loss = 2.2999\n",
            "Iteration 5 in epoch 3, loss = 2.3110\n",
            "Iteration 6 in epoch 3, loss = 2.3104\n",
            "Iteration 7 in epoch 3, loss = 2.2966\n",
            "Iteration 8 in epoch 3, loss = 2.3212\n",
            "Iteration 9 in epoch 3, loss = 2.2807\n",
            "Iteration 10 in epoch 3, loss = 2.2864\n",
            "Iteration 11 in epoch 3, loss = 2.3000\n",
            "Iteration 12 in epoch 3, loss = 2.3034\n",
            "Iteration 13 in epoch 3, loss = 2.3020\n",
            "Iteration 14 in epoch 3, loss = 2.3071\n",
            "Iteration 15 in epoch 3, loss = 2.3066\n",
            "Iteration 16 in epoch 3, loss = 2.3071\n",
            "Iteration 17 in epoch 3, loss = 2.2961\n",
            "Iteration 18 in epoch 3, loss = 2.2994\n",
            "Iteration 19 in epoch 3, loss = 2.2989\n",
            "Iteration 20 in epoch 3, loss = 2.2992\n",
            "Validation\n",
            "iteration 20 epoch 3--> 0.136667\n",
            "Current accuracy = 0.136667 (0.126667), updating best model\n",
            "Iteration 21 in epoch 3, loss = 2.3005\n",
            "Iteration 22 in epoch 3, loss = 2.2822\n",
            "Iteration 23 in epoch 3, loss = 2.2905\n",
            "Iteration 24 in epoch 3, loss = 2.2872\n",
            "Iteration 25 in epoch 3, loss = 2.2882\n",
            "Iteration 26 in epoch 3, loss = 2.2674\n",
            "Iteration 27 in epoch 3, loss = 2.2790\n",
            "Iteration 0 in epoch 4, loss = 2.3196\n",
            "Validation\n",
            "iteration 0 epoch 4--> 0.123333\n",
            "Iteration 1 in epoch 4, loss = 2.3103\n",
            "Iteration 2 in epoch 4, loss = 2.3112\n",
            "Iteration 3 in epoch 4, loss = 2.2854\n",
            "Iteration 4 in epoch 4, loss = 2.2719\n",
            "Iteration 5 in epoch 4, loss = 2.3096\n",
            "Iteration 6 in epoch 4, loss = 2.3092\n",
            "Iteration 7 in epoch 4, loss = 2.3157\n",
            "Iteration 8 in epoch 4, loss = 2.3009\n",
            "Iteration 9 in epoch 4, loss = 2.2892\n",
            "Iteration 10 in epoch 4, loss = 2.2951\n",
            "Iteration 11 in epoch 4, loss = 2.3012\n",
            "Iteration 12 in epoch 4, loss = 2.3047\n",
            "Iteration 13 in epoch 4, loss = 2.2690\n",
            "Iteration 14 in epoch 4, loss = 2.3587\n",
            "Iteration 15 in epoch 4, loss = 2.2942\n",
            "Iteration 16 in epoch 4, loss = 2.2993\n",
            "Iteration 17 in epoch 4, loss = 2.3084\n",
            "Iteration 18 in epoch 4, loss = 2.3079\n",
            "Iteration 19 in epoch 4, loss = 2.3027\n",
            "Iteration 20 in epoch 4, loss = 2.2818\n",
            "Validation\n",
            "iteration 20 epoch 4--> 0.103333\n",
            "Iteration 21 in epoch 4, loss = 2.3488\n",
            "Iteration 22 in epoch 4, loss = 2.2916\n",
            "Iteration 23 in epoch 4, loss = 2.2832\n",
            "Iteration 24 in epoch 4, loss = 2.2802\n",
            "Iteration 25 in epoch 4, loss = 2.2706\n",
            "Iteration 26 in epoch 4, loss = 2.2709\n",
            "Iteration 27 in epoch 4, loss = 2.3335\n",
            "Iteration 0 in epoch 5, loss = 2.2754\n",
            "Validation\n",
            "iteration 0 epoch 5--> 0.103333\n",
            "Iteration 1 in epoch 5, loss = 2.2834\n",
            "Iteration 2 in epoch 5, loss = 2.2943\n",
            "Iteration 3 in epoch 5, loss = 2.2944\n",
            "Iteration 4 in epoch 5, loss = 2.2990\n",
            "Iteration 5 in epoch 5, loss = 2.3004\n",
            "Iteration 6 in epoch 5, loss = 2.3020\n",
            "Iteration 7 in epoch 5, loss = 2.2892\n",
            "Iteration 8 in epoch 5, loss = 2.2848\n",
            "Iteration 9 in epoch 5, loss = 2.2979\n",
            "Iteration 10 in epoch 5, loss = 2.2958\n",
            "Iteration 11 in epoch 5, loss = 2.2894\n",
            "Iteration 12 in epoch 5, loss = 2.2874\n",
            "Iteration 13 in epoch 5, loss = 2.2454\n",
            "Iteration 14 in epoch 5, loss = 2.3676\n",
            "Iteration 15 in epoch 5, loss = 2.2973\n",
            "Iteration 16 in epoch 5, loss = 2.2922\n",
            "Iteration 17 in epoch 5, loss = 2.2828\n",
            "Iteration 18 in epoch 5, loss = 2.3080\n",
            "Iteration 19 in epoch 5, loss = 2.2911\n",
            "Iteration 20 in epoch 5, loss = 2.3022\n",
            "Validation\n",
            "iteration 20 epoch 5--> 0.153333\n",
            "Current accuracy = 0.153333 (0.136667), updating best model\n",
            "Iteration 21 in epoch 5, loss = 2.2939\n",
            "Iteration 22 in epoch 5, loss = 2.2991\n",
            "Iteration 23 in epoch 5, loss = 2.3052\n",
            "Iteration 24 in epoch 5, loss = 2.2912\n",
            "Iteration 25 in epoch 5, loss = 2.3121\n",
            "Iteration 26 in epoch 5, loss = 2.2794\n",
            "Iteration 27 in epoch 5, loss = 2.3097\n",
            "Iteration 0 in epoch 6, loss = 2.3070\n",
            "Validation\n",
            "iteration 0 epoch 6--> 0.133333\n",
            "Iteration 1 in epoch 6, loss = 2.2932\n",
            "Iteration 2 in epoch 6, loss = 2.3090\n",
            "Iteration 3 in epoch 6, loss = 2.2866\n",
            "Iteration 4 in epoch 6, loss = 2.2982\n",
            "Iteration 5 in epoch 6, loss = 2.2891\n",
            "Iteration 6 in epoch 6, loss = 2.3102\n",
            "Iteration 7 in epoch 6, loss = 2.2911\n",
            "Iteration 8 in epoch 6, loss = 2.2667\n",
            "Iteration 9 in epoch 6, loss = 2.2948\n",
            "Iteration 10 in epoch 6, loss = 2.2811\n",
            "Iteration 11 in epoch 6, loss = 2.2802\n",
            "Iteration 12 in epoch 6, loss = 2.3192\n",
            "Iteration 13 in epoch 6, loss = 2.3141\n",
            "Iteration 14 in epoch 6, loss = 2.3067\n",
            "Iteration 15 in epoch 6, loss = 2.3082\n",
            "Iteration 16 in epoch 6, loss = 2.2849\n",
            "Iteration 17 in epoch 6, loss = 2.2881\n",
            "Iteration 18 in epoch 6, loss = 2.3058\n",
            "Iteration 19 in epoch 6, loss = 2.2717\n",
            "Iteration 20 in epoch 6, loss = 2.2946\n",
            "Validation\n",
            "iteration 20 epoch 6--> 0.126667\n",
            "Iteration 21 in epoch 6, loss = 2.2647\n",
            "Iteration 22 in epoch 6, loss = 2.3172\n",
            "Iteration 23 in epoch 6, loss = 2.2898\n",
            "Iteration 24 in epoch 6, loss = 2.2793\n",
            "Iteration 25 in epoch 6, loss = 2.3070\n",
            "Iteration 26 in epoch 6, loss = 2.2905\n",
            "Iteration 27 in epoch 6, loss = 2.2847\n",
            "Iteration 0 in epoch 7, loss = 2.2806\n",
            "Validation\n",
            "iteration 0 epoch 7--> 0.156667\n",
            "Current accuracy = 0.156667 (0.153333), updating best model\n",
            "Iteration 1 in epoch 7, loss = 2.2683\n",
            "Iteration 2 in epoch 7, loss = 2.3095\n",
            "Iteration 3 in epoch 7, loss = 2.3645\n",
            "Iteration 4 in epoch 7, loss = 2.3056\n",
            "Iteration 5 in epoch 7, loss = 2.2795\n",
            "Iteration 6 in epoch 7, loss = 2.2747\n",
            "Iteration 7 in epoch 7, loss = 2.2570\n",
            "Iteration 8 in epoch 7, loss = 2.2926\n",
            "Iteration 9 in epoch 7, loss = 2.2917\n",
            "Iteration 10 in epoch 7, loss = 2.2753\n",
            "Iteration 11 in epoch 7, loss = 2.2847\n",
            "Iteration 12 in epoch 7, loss = 2.2499\n",
            "Iteration 13 in epoch 7, loss = 2.3033\n",
            "Iteration 14 in epoch 7, loss = 2.2872\n",
            "Iteration 15 in epoch 7, loss = 2.3069\n",
            "Iteration 16 in epoch 7, loss = 2.3021\n",
            "Iteration 17 in epoch 7, loss = 2.2548\n",
            "Iteration 18 in epoch 7, loss = 2.2911\n",
            "Iteration 19 in epoch 7, loss = 2.2758\n",
            "Iteration 20 in epoch 7, loss = 2.2846\n",
            "Validation\n",
            "iteration 20 epoch 7--> 0.100000\n",
            "Iteration 21 in epoch 7, loss = 2.3051\n",
            "Iteration 22 in epoch 7, loss = 2.3179\n",
            "Iteration 23 in epoch 7, loss = 2.2927\n",
            "Iteration 24 in epoch 7, loss = 2.2855\n",
            "Iteration 25 in epoch 7, loss = 2.2948\n",
            "Iteration 26 in epoch 7, loss = 2.2944\n",
            "Iteration 27 in epoch 7, loss = 2.2651\n",
            "Iteration 0 in epoch 8, loss = 2.2950\n",
            "Validation\n",
            "iteration 0 epoch 8--> 0.123333\n",
            "Iteration 1 in epoch 8, loss = 2.2943\n",
            "Iteration 2 in epoch 8, loss = 2.2961\n",
            "Iteration 3 in epoch 8, loss = 2.2248\n",
            "Iteration 4 in epoch 8, loss = 2.3088\n",
            "Iteration 5 in epoch 8, loss = 2.2366\n",
            "Iteration 6 in epoch 8, loss = 2.3330\n",
            "Iteration 7 in epoch 8, loss = 2.3076\n",
            "Iteration 8 in epoch 8, loss = 2.2727\n",
            "Iteration 9 in epoch 8, loss = 2.2653\n",
            "Iteration 10 in epoch 8, loss = 2.2762\n",
            "Iteration 11 in epoch 8, loss = 2.2742\n",
            "Iteration 12 in epoch 8, loss = 2.2450\n",
            "Iteration 13 in epoch 8, loss = 2.3142\n",
            "Iteration 14 in epoch 8, loss = 2.2632\n",
            "Iteration 15 in epoch 8, loss = 2.2536\n",
            "Iteration 16 in epoch 8, loss = 2.2839\n",
            "Iteration 17 in epoch 8, loss = 2.3120\n",
            "Iteration 18 in epoch 8, loss = 2.2768\n",
            "Iteration 19 in epoch 8, loss = 2.2577\n",
            "Iteration 20 in epoch 8, loss = 2.3062\n",
            "Validation\n",
            "iteration 20 epoch 8--> 0.153333\n",
            "Iteration 21 in epoch 8, loss = 2.2776\n",
            "Iteration 22 in epoch 8, loss = 2.2718\n",
            "Iteration 23 in epoch 8, loss = 2.2709\n",
            "Iteration 24 in epoch 8, loss = 2.2453\n",
            "Iteration 25 in epoch 8, loss = 2.3111\n",
            "Iteration 26 in epoch 8, loss = 2.2469\n",
            "Iteration 27 in epoch 8, loss = 2.2825\n",
            "Iteration 0 in epoch 9, loss = 2.2824\n",
            "Validation\n",
            "iteration 0 epoch 9--> 0.130000\n",
            "Iteration 1 in epoch 9, loss = 2.2479\n",
            "Iteration 2 in epoch 9, loss = 2.3293\n",
            "Iteration 3 in epoch 9, loss = 2.2788\n",
            "Iteration 4 in epoch 9, loss = 2.2466\n",
            "Iteration 5 in epoch 9, loss = 2.2460\n",
            "Iteration 6 in epoch 9, loss = 2.3227\n",
            "Iteration 7 in epoch 9, loss = 2.2859\n",
            "Iteration 8 in epoch 9, loss = 2.2751\n",
            "Iteration 9 in epoch 9, loss = 2.2648\n",
            "Iteration 10 in epoch 9, loss = 2.2815\n",
            "Iteration 11 in epoch 9, loss = 2.2800\n",
            "Iteration 12 in epoch 9, loss = 2.2820\n",
            "Iteration 13 in epoch 9, loss = 2.2883\n",
            "Iteration 14 in epoch 9, loss = 2.2641\n",
            "Iteration 15 in epoch 9, loss = 2.2875\n",
            "Iteration 16 in epoch 9, loss = 2.2409\n",
            "Iteration 17 in epoch 9, loss = 2.2520\n",
            "Iteration 18 in epoch 9, loss = 2.2823\n",
            "Iteration 19 in epoch 9, loss = 2.2980\n",
            "Iteration 20 in epoch 9, loss = 2.2613\n",
            "Validation\n",
            "iteration 20 epoch 9--> 0.170000\n",
            "Current accuracy = 0.170000 (0.156667), updating best model\n",
            "Iteration 21 in epoch 9, loss = 2.2687\n",
            "Iteration 22 in epoch 9, loss = 2.2914\n",
            "Iteration 23 in epoch 9, loss = 2.2450\n",
            "Iteration 24 in epoch 9, loss = 2.2802\n",
            "Iteration 25 in epoch 9, loss = 2.2668\n",
            "Iteration 26 in epoch 9, loss = 2.2771\n",
            "Iteration 27 in epoch 9, loss = 2.2222\n",
            "[[0 0 0 0 0 0 0 0 0 2]\n",
            " [1 1 1 0 0 0 0 0 0 3]\n",
            " [0 1 2 1 0 0 1 0 1 0]\n",
            " [0 0 2 0 1 0 0 1 0 2]\n",
            " [0 0 1 0 1 0 0 0 0 0]\n",
            " [0 0 2 1 4 0 0 0 0 0]\n",
            " [1 0 2 1 2 0 0 0 0 0]\n",
            " [0 0 2 0 0 0 0 2 0 1]\n",
            " [0 0 3 0 0 0 0 0 1 0]\n",
            " [0 0 1 0 0 0 0 1 1 3]]\n"
          ],
          "name": "stdout"
        }
      ]
    },
    {
      "cell_type": "code",
      "metadata": {
        "id": "2qBi45a8Jq43",
        "colab": {
          "base_uri": "https://localhost:8080/",
          "height": 265
        },
        "outputId": "9eebdbe5-1b33-42e4-9fef-d73a66f9421c"
      },
      "source": [
        "import matplotlib.pyplot as plt\r\n",
        "\r\n",
        "plt.figure()\r\n",
        "plt.imshow(matrix2)\r\n",
        "plt.show()\r\n",
        "\r\n",
        "#Chilean male speakers (followed by Colombian female speakers & Venezuelan male speakers)"
      ],
      "execution_count": null,
      "outputs": [
        {
          "output_type": "display_data",
          "data": {
            "image/png": "[encoded data removed]",
            "text/plain": [
              "<Figure size 432x288 with 1 Axes>"
            ]
          },
          "metadata": {
            "tags": [],
            "needs_background": "light"
          }
        }
      ]
    },
    {
      "cell_type": "markdown",
      "metadata": {
        "id": "P2s-pnGcLk5H"
      },
      "source": [
        "# Plotting training loss/acc. 2nd experiment"
      ]
    },
    {
      "cell_type": "code",
      "metadata": {
        "id": "CAXVbhmxLJ7E"
      },
      "source": [
        "plotting_train_data(\"reduced_dataset/SASA_red_2000_train.txt\")"
      ],
      "execution_count": null,
      "outputs": []
    },
    {
      "cell_type": "code",
      "metadata": {
        "colab": {
          "base_uri": "https://localhost:8080/",
          "height": 295
        },
        "id": "qv0fmeexLWuc",
        "outputId": "ab874b40-9981-4cc8-ac02-8c0dfc4db5c8"
      },
      "source": [
        "import matplotlib.pyplot as plt\r\n",
        "\r\n",
        "plt.title(\"Loss curve\")      \r\n",
        "plt.xlabel(\"Loss\")\r\n",
        "plt.plot(total_loss, color= \"pink\")\r\n",
        "plt.show()\r\n",
        "\r\n",
        "#apparently the model is not working"
      ],
      "execution_count": null,
      "outputs": [
        {
          "output_type": "display_data",
          "data": {
            "image/png": "[encoded data removed]",
            "text/plain": [
              "<Figure size 432x288 with 1 Axes>"
            ]
          },
          "metadata": {
            "tags": [],
            "needs_background": "light"
          }
        }
      ]
    },
    {
      "cell_type": "code",
      "metadata": {
        "colab": {
          "base_uri": "https://localhost:8080/",
          "height": 295
        },
        "id": "WP_DpzI9LYAX",
        "outputId": "265e351e-b4d9-4922-a5cb-58141a4416f5"
      },
      "source": [
        "plt.title(\"Accuracy curve\")      \r\n",
        "plt.xlabel(\"Accuracy\")\r\n",
        "plt.plot(total_acc, color= \"red\")\r\n",
        "plt.show()"
      ],
      "execution_count": null,
      "outputs": [
        {
          "output_type": "display_data",
          "data": {
            "image/png": "[encoded data removed]",
            "text/plain": [
              "<Figure size 432x288 with 1 Axes>"
            ]
          },
          "metadata": {
            "tags": [],
            "needs_background": "light"
          }
        }
      ]
    },
    {
      "cell_type": "markdown",
      "metadata": {
        "id": "hHRz-J8cAnSP"
      },
      "source": [
        "# Evaluation 2nd attempt (300 audiofiles per test & valid. set)"
      ]
    },
    {
      "cell_type": "code",
      "metadata": {
        "id": "Voi1e-JS4GS0",
        "colab": {
          "base_uri": "https://localhost:8080/"
        },
        "outputId": "c71d8f8f-7566-4393-c395-a7f0d3ace633"
      },
      "source": [
        "#2000 audiofiles per training \r\n",
        "model= CNNNet(n_class=len(target))\r\n",
        "model.load_state_dict(torch.load(\"reduced_dataset/best_model_SASA_red_2.pkl\"))\r\n",
        "model.eval()\r\n",
        "model.cuda()"
      ],
      "execution_count": null,
      "outputs": [
        {
          "output_type": "execute_result",
          "data": {
            "text/plain": [
              "CNNNet(\n",
              "  (conv1): Conv2d(1, 64, kernel_size=(8, 20), stride=(1, 1))\n",
              "  (maxpool1): MaxPool2d(kernel_size=(2, 2), stride=(2, 2), padding=0, dilation=1, ceil_mode=False)\n",
              "  (conv2): Conv2d(64, 64, kernel_size=(4, 10), stride=(1, 1))\n",
              "  (maxpool2): MaxPool2d(kernel_size=(1, 1), stride=(1, 1), padding=0, dilation=1, ceil_mode=False)\n",
              "  (conv2_drop): Dropout2d(p=0.5, inplace=False)\n",
              "  (fc1): Linear(in_features=151424, out_features=128, bias=True)\n",
              "  (fc2): Linear(in_features=128, out_features=10, bias=True)\n",
              "  (drop): Dropout(p=0.5, inplace=False)\n",
              ")"
            ]
          },
          "metadata": {
            "tags": []
          },
          "execution_count": 19
        }
      ]
    },
    {
      "cell_type": "markdown",
      "metadata": {
        "id": "buNX3QFxxIiL"
      },
      "source": [
        "# Checking accuracy on test set (2nd attempt)\r\n",
        "*17% accuracy*"
      ]
    },
    {
      "cell_type": "code",
      "metadata": {
        "id": "C10v4ACwWHvg"
      },
      "source": [
        "\r\n",
        "test_set= SASA_data(\"reduced_dataset/SASA_data/test_data2.csv\", target)\r\n",
        "batch_size= 50 \r\n",
        "params_test= {\"batch_size\" : batch_size, \r\n",
        "              \"shuffle\" : False}\r\n",
        "test_set_generator= data.DataLoader(test_set, **params_test)"
      ],
      "execution_count": null,
      "outputs": []
    },
    {
      "cell_type": "code",
      "metadata": {
        "id": "cSCkNTxq4Wpm",
        "colab": {
          "base_uri": "https://localhost:8080/"
        },
        "outputId": "38b034a0-42a9-415c-e115-de2b2cde2251"
      },
      "source": [
        "test_2= acc_test_set()"
      ],
      "execution_count": null,
      "outputs": [
        {
          "output_type": "stream",
          "text": [
            "Iteration 0 (0/300), time taken: 0.084811\n",
            "Iteration 1 (50/300), time taken: 0.078928\n",
            "Iteration 2 (100/300), time taken: 0.079256\n",
            "Iteration 3 (150/300), time taken: 0.079247\n",
            "Iteration 4 (200/300), time taken: 0.079342\n",
            "Iteration 5 (250/300), time taken: 0.078921\n",
            "[[1 0 1 0 0 0 0 2 0 1]\n",
            " [0 0 1 0 0 0 0 1 0 0]\n",
            " [0 1 1 0 0 0 0 0 2 1]\n",
            " [0 0 3 1 0 0 0 0 1 1]\n",
            " [1 0 0 0 2 0 0 1 0 1]\n",
            " [0 1 0 3 0 0 0 1 0 2]\n",
            " [0 0 0 0 0 0 0 0 2 3]\n",
            " [0 0 1 1 0 0 0 0 0 2]\n",
            " [0 0 3 0 0 0 0 0 1 2]\n",
            " [0 0 1 0 0 0 0 0 0 4]]\n",
            "The accuracy on the test set is 0.170000\n",
            "It took 258.305727 seconds\n"
          ],
          "name": "stdout"
        }
      ]
    },
    {
      "cell_type": "code",
      "metadata": {
        "colab": {
          "base_uri": "https://localhost:8080/",
          "height": 265
        },
        "id": "C0nQTakp4vCq",
        "outputId": "367a6e9f-df77-4f39-a92a-83f277fe35ed"
      },
      "source": [
        "plt.figure()\r\n",
        "plt.imshow(test_2)\r\n",
        "plt.show()\r\n",
        "\r\n",
        "#Chilean male speakers (followed by Peruvian female speakers)"
      ],
      "execution_count": null,
      "outputs": [
        {
          "output_type": "display_data",
          "data": {
            "image/png": "[encoded data removed]",
            "text/plain": [
              "<Figure size 432x288 with 1 Axes>"
            ]
          },
          "metadata": {
            "tags": [],
            "needs_background": "light"
          }
        }
      ]
    },
    {
      "cell_type": "markdown",
      "metadata": {
        "id": "VWTgqaELwLWK"
      },
      "source": [
        "# Checking the accuracy on validation set (2nd attempt)\r\n",
        "*20% accuracy*"
      ]
    },
    {
      "cell_type": "code",
      "metadata": {
        "id": "lPwAF5e7XAxB"
      },
      "source": [
        "valid_set= SASA_data(\"reduced_dataset/SASA_data/valid_data_2.csv\", target)\r\n",
        "batch_size= 50 \r\n",
        "params_valid= {\"batch_size\" : batch_size, \r\n",
        "              \"shuffle\" : False}\r\n",
        "valid_set_generator= data.DataLoader(valid_set, **params_valid)"
      ],
      "execution_count": null,
      "outputs": []
    },
    {
      "cell_type": "code",
      "metadata": {
        "id": "x1tg3utHG34r",
        "colab": {
          "base_uri": "https://localhost:8080/"
        },
        "outputId": "e7a4ee72-c2be-4f6a-e35e-0110ed00c4ed"
      },
      "source": [
        "#using 300 files per validation (2 attempt)\r\n",
        "\r\n",
        "val_2= acc_val_set()"
      ],
      "execution_count": null,
      "outputs": [
        {
          "output_type": "stream",
          "text": [
            "Iteration 0 (0/300), time taken: 0.079695\n",
            "Iteration 1 (50/300), time taken: 0.079516\n",
            "Iteration 2 (100/300), time taken: 0.079532\n",
            "Iteration 3 (150/300), time taken: 0.079072\n",
            "Iteration 4 (200/300), time taken: 0.079251\n",
            "Iteration 5 (250/300), time taken: 0.079141\n",
            "[[0 0 0 0 0 0 0 0 0 2]\n",
            " [1 1 1 0 0 0 0 0 0 3]\n",
            " [0 1 2 1 0 0 1 0 1 0]\n",
            " [0 0 2 0 1 0 0 1 0 2]\n",
            " [0 0 1 0 1 0 0 0 0 0]\n",
            " [0 0 2 1 4 0 0 0 0 0]\n",
            " [1 0 2 1 2 0 0 0 0 0]\n",
            " [0 0 2 0 0 0 0 2 0 1]\n",
            " [0 0 3 0 0 0 0 0 1 0]\n",
            " [0 0 1 0 0 0 0 1 1 3]]\n",
            "The accuracy on the validation set is 0.200000\n",
            "It took 246.866563 seconds\n"
          ],
          "name": "stdout"
        }
      ]
    },
    {
      "cell_type": "code",
      "metadata": {
        "colab": {
          "base_uri": "https://localhost:8080/",
          "height": 265
        },
        "id": "Bl7AQl4I48Hr",
        "outputId": "d4a84053-e331-4a05-833a-edc70bb4e626"
      },
      "source": [
        "plt.figure()\r\n",
        "plt.imshow(val_2)\r\n",
        "plt.show()\r\n",
        "\r\n",
        "#Chilean male speakers (followed by Venezuelan male speakers)"
      ],
      "execution_count": null,
      "outputs": [
        {
          "output_type": "display_data",
          "data": {
            "image/png": "[encoded data removed]",
            "text/plain": [
              "<Figure size 432x288 with 1 Axes>"
            ]
          },
          "metadata": {
            "tags": [],
            "needs_background": "light"
          }
        }
      ]
    },
    {
      "cell_type": "markdown",
      "metadata": {
        "id": "qOU_iUMyBgBO"
      },
      "source": [
        "# 3rd attempt (4000 total audiofiles in considered dataset)\r\n",
        "\r\n",
        "19% accuracy , *interrupted, not such different improvements*"
      ]
    },
    {
      "cell_type": "code",
      "metadata": {
        "colab": {
          "base_uri": "https://localhost:8080/"
        },
        "id": "cWVDtqcV9QDI",
        "outputId": "42ace9af-9967-44aa-90ce-630b6b78a8ee"
      },
      "source": [
        "import copy\r\n",
        "import torch.optim as optim\r\n",
        "from sklearn.metrics import confusion_matrix\r\n",
        "\r\n",
        "####to store the printing in a txt file \r\n",
        "\r\n",
        "#import sys \r\n",
        "#original_stdout = sys.stdout -->saving a ref to the standard ouput \r\n",
        "\r\n",
        "\r\n",
        "optimizer = optim.SGD(model.parameters(),lr = 0.001)\r\n",
        "criterion = torch.nn.CrossEntropyLoss()\r\n",
        "\r\n",
        "\r\n",
        "model.train()\r\n",
        "model.cuda()\r\n",
        "best_accuracy = 0\r\n",
        "max_epochs= 10\r\n",
        "\r\n",
        "#with open(\"output_training_red_4.txt\", \"w\") as f:\r\n",
        "# sys.stdout = f -->redirecting the ouput to the txt file \r\n",
        "\r\n",
        "for e in range(max_epochs-e):\r\n",
        "  for i, d in enumerate(train_set_generator):\r\n",
        "    f,l = d\r\n",
        "    #y = model(f.float().cuda())\r\n",
        "    #loss = criterion(y,l.cuda())\r\n",
        "    print(\"Iteration %d in epoch %d, loss = %.4f\"%(i,e,loss.item()))\r\n",
        "    loss.backward()\r\n",
        "    optimizer.step()\r\n",
        "    optimizer.zero_grad()\r\n",
        "    if i%20==0:\r\n",
        "      print(\"Validation\")\r\n",
        "\r\n",
        "      model.eval()\r\n",
        "      correct=[]\r\n",
        "      for j, valid_data in enumerate(valid_set_generator):\r\n",
        "        #print(j)        #remember you CAN REMOVE THIS\r\n",
        "        feats, labels=valid_data\r\n",
        "        y_eval=model(feats.float().cuda())\r\n",
        "        _,pred=torch.max(y_eval.detach().cpu(), dim=1)\r\n",
        "        correct.append((pred==labels.float()))\r\n",
        "\r\n",
        "      acc=np.mean(np.hstack(correct))\r\n",
        "      iter_acc = 'iteration %d epoch %d--> %f'%(i,e,acc)\r\n",
        "      print(iter_acc)\r\n",
        "      \r\n",
        "      if acc > best_accuracy:\r\n",
        "        improved_accuracy = 'Current accuracy = %f (%f), updating best model'%(acc,best_accuracy)\r\n",
        "        print(improved_accuracy)\r\n",
        "        best_accuracy = acc\r\n",
        "        best_epoch= e\r\n",
        "        torch.save(model.state_dict(), \"reduced_dataset/best_model_SASA_red4.1.pkl\")  #best_model_SASA.pkl\r\n",
        "      model.train()\r\n",
        "\r\n",
        "matrix5= confusion_matrix(labels,pred)\r\n",
        "print(matrix5)"
      ],
      "execution_count": null,
      "outputs": [
        {
          "output_type": "stream",
          "text": [
            "Iteration 0 in epoch 0, loss = 3.0436\n",
            "Validation\n",
            "iteration 0 epoch 0--> 0.100000\n",
            "Current accuracy = 0.100000 (0.000000), updating best model\n",
            "Iteration 1 in epoch 0, loss = 6.6261\n",
            "Iteration 2 in epoch 0, loss = 3.0195\n",
            "Iteration 3 in epoch 0, loss = 2.3415\n",
            "Iteration 4 in epoch 0, loss = 2.2904\n",
            "Iteration 5 in epoch 0, loss = 2.2950\n",
            "Iteration 6 in epoch 0, loss = 2.3292\n",
            "Iteration 7 in epoch 0, loss = 2.3118\n",
            "Iteration 8 in epoch 0, loss = 2.3136\n",
            "Iteration 9 in epoch 0, loss = 2.3253\n",
            "Iteration 10 in epoch 0, loss = 2.2766\n",
            "Iteration 11 in epoch 0, loss = 2.2889\n",
            "Iteration 12 in epoch 0, loss = 2.2892\n",
            "Iteration 13 in epoch 0, loss = 2.3013\n",
            "Iteration 14 in epoch 0, loss = 2.3163\n",
            "Iteration 15 in epoch 0, loss = 2.2853\n",
            "Iteration 16 in epoch 0, loss = 2.2968\n",
            "Iteration 17 in epoch 0, loss = 2.3204\n",
            "Iteration 18 in epoch 0, loss = 2.3337\n",
            "Iteration 19 in epoch 0, loss = 2.2989\n",
            "Iteration 20 in epoch 0, loss = 2.2851\n",
            "Validation\n",
            "iteration 20 epoch 0--> 0.105000\n",
            "Current accuracy = 0.105000 (0.100000), updating best model\n",
            "Iteration 21 in epoch 0, loss = 2.2880\n",
            "Iteration 22 in epoch 0, loss = 2.3102\n",
            "Iteration 23 in epoch 0, loss = 2.2922\n",
            "Iteration 24 in epoch 0, loss = 2.2861\n",
            "Iteration 25 in epoch 0, loss = 2.3158\n",
            "Iteration 26 in epoch 0, loss = 2.3212\n",
            "Iteration 27 in epoch 0, loss = 2.2956\n",
            "Iteration 28 in epoch 0, loss = 2.2995\n",
            "Iteration 29 in epoch 0, loss = 2.3143\n",
            "Iteration 30 in epoch 0, loss = 2.2994\n",
            "Iteration 31 in epoch 0, loss = 2.3002\n",
            "Iteration 32 in epoch 0, loss = 2.3019\n",
            "Iteration 33 in epoch 0, loss = 2.3013\n",
            "Iteration 34 in epoch 0, loss = 2.3061\n",
            "Iteration 35 in epoch 0, loss = 2.3006\n",
            "Iteration 36 in epoch 0, loss = 2.3137\n",
            "Iteration 37 in epoch 0, loss = 2.2995\n",
            "Iteration 38 in epoch 0, loss = 2.3103\n",
            "Iteration 39 in epoch 0, loss = 2.3179\n",
            "Iteration 40 in epoch 0, loss = 2.2875\n",
            "Validation\n",
            "iteration 40 epoch 0--> 0.120000\n",
            "Current accuracy = 0.120000 (0.105000), updating best model\n",
            "Iteration 41 in epoch 0, loss = 2.3089\n",
            "Iteration 42 in epoch 0, loss = 2.2951\n",
            "Iteration 43 in epoch 0, loss = 2.3024\n",
            "Iteration 44 in epoch 0, loss = 2.3002\n",
            "Iteration 45 in epoch 0, loss = 2.2979\n",
            "Iteration 46 in epoch 0, loss = 2.3180\n",
            "Iteration 47 in epoch 0, loss = 2.3065\n",
            "Iteration 48 in epoch 0, loss = 2.2949\n",
            "Iteration 49 in epoch 0, loss = 2.3072\n",
            "Iteration 50 in epoch 0, loss = 2.2948\n",
            "Iteration 51 in epoch 0, loss = 2.2966\n",
            "Iteration 52 in epoch 0, loss = 2.3096\n",
            "Iteration 53 in epoch 0, loss = 2.2904\n",
            "Iteration 54 in epoch 0, loss = 2.3071\n",
            "Iteration 55 in epoch 0, loss = 2.3165\n",
            "Iteration 0 in epoch 1, loss = 2.2945\n",
            "Validation\n",
            "iteration 0 epoch 1--> 0.113333\n",
            "Iteration 1 in epoch 1, loss = 2.3209\n",
            "Iteration 2 in epoch 1, loss = 2.2865\n",
            "Iteration 3 in epoch 1, loss = 2.2992\n",
            "Iteration 4 in epoch 1, loss = 2.3019\n",
            "Iteration 5 in epoch 1, loss = 2.2991\n",
            "Iteration 6 in epoch 1, loss = 2.2867\n",
            "Iteration 7 in epoch 1, loss = 2.3001\n",
            "Iteration 8 in epoch 1, loss = 2.2810\n",
            "Iteration 9 in epoch 1, loss = 2.2973\n",
            "Iteration 10 in epoch 1, loss = 2.3367\n",
            "Iteration 11 in epoch 1, loss = 2.2932\n",
            "Iteration 12 in epoch 1, loss = 2.2905\n",
            "Iteration 13 in epoch 1, loss = 2.2902\n",
            "Iteration 14 in epoch 1, loss = 2.3134\n",
            "Iteration 15 in epoch 1, loss = 2.2943\n",
            "Iteration 16 in epoch 1, loss = 2.3040\n",
            "Iteration 17 in epoch 1, loss = 2.2927\n",
            "Iteration 18 in epoch 1, loss = 2.2900\n",
            "Iteration 19 in epoch 1, loss = 2.3138\n",
            "Iteration 20 in epoch 1, loss = 2.3030\n",
            "Validation\n",
            "iteration 20 epoch 1--> 0.115000\n",
            "Iteration 21 in epoch 1, loss = 2.3026\n",
            "Iteration 22 in epoch 1, loss = 2.2862\n",
            "Iteration 23 in epoch 1, loss = 2.2759\n",
            "Iteration 24 in epoch 1, loss = 2.3498\n",
            "Iteration 25 in epoch 1, loss = 2.2883\n",
            "Iteration 26 in epoch 1, loss = 2.2935\n",
            "Iteration 27 in epoch 1, loss = 2.2684\n",
            "Iteration 28 in epoch 1, loss = 2.3035\n",
            "Iteration 29 in epoch 1, loss = 2.3071\n",
            "Iteration 30 in epoch 1, loss = 2.3185\n",
            "Iteration 31 in epoch 1, loss = 2.3112\n",
            "Iteration 32 in epoch 1, loss = 2.2990\n",
            "Iteration 33 in epoch 1, loss = 2.3018\n",
            "Iteration 34 in epoch 1, loss = 2.2896\n",
            "Iteration 35 in epoch 1, loss = 2.2975\n",
            "Iteration 36 in epoch 1, loss = 2.3089\n",
            "Iteration 37 in epoch 1, loss = 2.3022\n",
            "Iteration 38 in epoch 1, loss = 2.2889\n",
            "Iteration 39 in epoch 1, loss = 2.2798\n",
            "Iteration 40 in epoch 1, loss = 2.3034\n",
            "Validation\n",
            "iteration 40 epoch 1--> 0.148333\n",
            "Current accuracy = 0.148333 (0.120000), updating best model\n",
            "Iteration 41 in epoch 1, loss = 2.3113\n",
            "Iteration 42 in epoch 1, loss = 2.2986\n",
            "Iteration 43 in epoch 1, loss = 2.3050\n",
            "Iteration 44 in epoch 1, loss = 2.3102\n",
            "Iteration 45 in epoch 1, loss = 2.2987\n",
            "Iteration 46 in epoch 1, loss = 2.2766\n",
            "Iteration 47 in epoch 1, loss = 2.2899\n",
            "Iteration 48 in epoch 1, loss = 2.2668\n",
            "Iteration 49 in epoch 1, loss = 2.2564\n",
            "Iteration 50 in epoch 1, loss = 2.2862\n",
            "Iteration 51 in epoch 1, loss = 2.3048\n",
            "Iteration 52 in epoch 1, loss = 2.3447\n",
            "Iteration 53 in epoch 1, loss = 2.3108\n",
            "Iteration 54 in epoch 1, loss = 2.3163\n",
            "Iteration 55 in epoch 1, loss = 2.2917\n",
            "Iteration 0 in epoch 2, loss = 2.2934\n",
            "Validation\n",
            "iteration 0 epoch 2--> 0.106667\n",
            "Iteration 1 in epoch 2, loss = 2.2948\n",
            "Iteration 2 in epoch 2, loss = 2.2753\n",
            "Iteration 3 in epoch 2, loss = 2.2790\n",
            "Iteration 4 in epoch 2, loss = 2.2923\n",
            "Iteration 5 in epoch 2, loss = 2.3046\n",
            "Iteration 6 in epoch 2, loss = 2.2760\n",
            "Iteration 7 in epoch 2, loss = 2.2773\n",
            "Iteration 8 in epoch 2, loss = 2.2909\n",
            "Iteration 9 in epoch 2, loss = 2.2847\n",
            "Iteration 10 in epoch 2, loss = 2.2582\n",
            "Iteration 11 in epoch 2, loss = 2.2675\n",
            "Iteration 12 in epoch 2, loss = 2.2793\n",
            "Iteration 13 in epoch 2, loss = 2.2926\n",
            "Iteration 14 in epoch 2, loss = 2.3378\n",
            "Iteration 15 in epoch 2, loss = 2.3026\n",
            "Iteration 16 in epoch 2, loss = 2.2885\n",
            "Iteration 17 in epoch 2, loss = 2.2840\n",
            "Iteration 18 in epoch 2, loss = 2.2880\n",
            "Iteration 19 in epoch 2, loss = 2.2772\n",
            "Iteration 20 in epoch 2, loss = 2.2909\n",
            "Validation\n",
            "iteration 20 epoch 2--> 0.106667\n",
            "Iteration 21 in epoch 2, loss = 2.2793\n",
            "Iteration 22 in epoch 2, loss = 2.2731\n",
            "Iteration 23 in epoch 2, loss = 2.2952\n",
            "Iteration 24 in epoch 2, loss = 2.2755\n",
            "Iteration 25 in epoch 2, loss = 2.2635\n",
            "Iteration 26 in epoch 2, loss = 2.2648\n",
            "Iteration 27 in epoch 2, loss = 2.3145\n",
            "Iteration 28 in epoch 2, loss = 2.2979\n",
            "Iteration 29 in epoch 2, loss = 2.3198\n",
            "Iteration 30 in epoch 2, loss = 2.2946\n",
            "Iteration 31 in epoch 2, loss = 2.3163\n",
            "Iteration 32 in epoch 2, loss = 2.2887\n",
            "Iteration 33 in epoch 2, loss = 2.2730\n",
            "Iteration 34 in epoch 2, loss = 2.2830\n",
            "Iteration 35 in epoch 2, loss = 2.3126\n",
            "Iteration 36 in epoch 2, loss = 2.2830\n",
            "Iteration 37 in epoch 2, loss = 2.2878\n",
            "Iteration 38 in epoch 2, loss = 2.2963\n",
            "Iteration 39 in epoch 2, loss = 2.3071\n",
            "Iteration 40 in epoch 2, loss = 2.3028\n",
            "Validation\n",
            "iteration 40 epoch 2--> 0.141667\n",
            "Iteration 41 in epoch 2, loss = 2.2920\n",
            "Iteration 42 in epoch 2, loss = 2.3130\n",
            "Iteration 43 in epoch 2, loss = 2.2907\n",
            "Iteration 44 in epoch 2, loss = 2.2723\n",
            "Iteration 45 in epoch 2, loss = 2.2474\n",
            "Iteration 46 in epoch 2, loss = 2.2717\n",
            "Iteration 47 in epoch 2, loss = 2.2530\n",
            "Iteration 48 in epoch 2, loss = 2.3528\n",
            "Iteration 49 in epoch 2, loss = 2.2840\n",
            "Iteration 50 in epoch 2, loss = 2.3181\n",
            "Iteration 51 in epoch 2, loss = 2.3104\n",
            "Iteration 52 in epoch 2, loss = 2.3033\n",
            "Iteration 53 in epoch 2, loss = 2.2778\n",
            "Iteration 54 in epoch 2, loss = 2.2874\n",
            "Iteration 55 in epoch 2, loss = 2.2665\n",
            "Iteration 0 in epoch 3, loss = 2.2871\n",
            "Validation\n",
            "iteration 0 epoch 3--> 0.125000\n",
            "Iteration 1 in epoch 3, loss = 2.2866\n",
            "Iteration 2 in epoch 3, loss = 2.2752\n",
            "Iteration 3 in epoch 3, loss = 2.2873\n",
            "Iteration 4 in epoch 3, loss = 2.3120\n",
            "Iteration 5 in epoch 3, loss = 2.2815\n",
            "Iteration 6 in epoch 3, loss = 2.2832\n",
            "Iteration 7 in epoch 3, loss = 2.2841\n",
            "Iteration 8 in epoch 3, loss = 2.2813\n",
            "Iteration 9 in epoch 3, loss = 2.2770\n",
            "Iteration 10 in epoch 3, loss = 2.3341\n",
            "Iteration 11 in epoch 3, loss = 2.2887\n",
            "Iteration 12 in epoch 3, loss = 2.2690\n",
            "Iteration 13 in epoch 3, loss = 2.2646\n",
            "Iteration 14 in epoch 3, loss = 2.3054\n",
            "Iteration 15 in epoch 3, loss = 2.2708\n",
            "Iteration 16 in epoch 3, loss = 2.3092\n",
            "Iteration 17 in epoch 3, loss = 2.2643\n",
            "Iteration 18 in epoch 3, loss = 2.3429\n",
            "Iteration 19 in epoch 3, loss = 2.2984\n",
            "Iteration 20 in epoch 3, loss = 2.2921\n",
            "Validation\n",
            "iteration 20 epoch 3--> 0.138333\n",
            "Iteration 21 in epoch 3, loss = 2.2872\n",
            "Iteration 22 in epoch 3, loss = 2.2744\n",
            "Iteration 23 in epoch 3, loss = 2.2994\n",
            "Iteration 24 in epoch 3, loss = 2.2936\n",
            "Iteration 25 in epoch 3, loss = 2.2814\n",
            "Iteration 26 in epoch 3, loss = 2.2871\n",
            "Iteration 27 in epoch 3, loss = 2.2853\n",
            "Iteration 28 in epoch 3, loss = 2.3087\n",
            "Iteration 29 in epoch 3, loss = 2.2973\n",
            "Iteration 30 in epoch 3, loss = 2.3009\n",
            "Iteration 31 in epoch 3, loss = 2.2700\n",
            "Iteration 32 in epoch 3, loss = 2.2428\n",
            "Iteration 33 in epoch 3, loss = 2.2788\n",
            "Iteration 34 in epoch 3, loss = 2.2855\n",
            "Iteration 35 in epoch 3, loss = 2.2974\n",
            "Iteration 36 in epoch 3, loss = 2.2924\n",
            "Iteration 37 in epoch 3, loss = 2.2812\n",
            "Iteration 38 in epoch 3, loss = 2.2906\n",
            "Iteration 39 in epoch 3, loss = 2.2415\n",
            "Iteration 40 in epoch 3, loss = 2.2912\n",
            "Validation\n",
            "iteration 40 epoch 3--> 0.135000\n",
            "Iteration 41 in epoch 3, loss = 2.2958\n",
            "Iteration 42 in epoch 3, loss = 2.2668\n",
            "Iteration 43 in epoch 3, loss = 2.2998\n",
            "Iteration 44 in epoch 3, loss = 2.2622\n",
            "Iteration 45 in epoch 3, loss = 2.2424\n",
            "Iteration 46 in epoch 3, loss = 2.2922\n",
            "Iteration 47 in epoch 3, loss = 2.2858\n",
            "Iteration 48 in epoch 3, loss = 2.3401\n",
            "Iteration 49 in epoch 3, loss = 2.2814\n",
            "Iteration 50 in epoch 3, loss = 2.2322\n",
            "Iteration 51 in epoch 3, loss = 2.3089\n",
            "Iteration 52 in epoch 3, loss = 2.2233\n",
            "Iteration 53 in epoch 3, loss = 2.3663\n",
            "Iteration 54 in epoch 3, loss = 2.2798\n",
            "Iteration 55 in epoch 3, loss = 2.3063\n",
            "Iteration 0 in epoch 4, loss = 2.2765\n",
            "Validation\n",
            "iteration 0 epoch 4--> 0.108333\n",
            "Iteration 1 in epoch 4, loss = 2.2503\n",
            "Iteration 2 in epoch 4, loss = 2.2834\n",
            "Iteration 3 in epoch 4, loss = 2.2621\n",
            "Iteration 4 in epoch 4, loss = 2.3536\n",
            "Iteration 5 in epoch 4, loss = 2.2795\n",
            "Iteration 6 in epoch 4, loss = 2.2683\n",
            "Iteration 7 in epoch 4, loss = 2.2757\n",
            "Iteration 8 in epoch 4, loss = 2.3220\n",
            "Iteration 9 in epoch 4, loss = 2.2660\n",
            "Iteration 10 in epoch 4, loss = 2.2842\n",
            "Iteration 11 in epoch 4, loss = 2.3102\n",
            "Iteration 12 in epoch 4, loss = 2.2654\n",
            "Iteration 13 in epoch 4, loss = 2.3004\n",
            "Iteration 14 in epoch 4, loss = 2.2533\n",
            "Iteration 15 in epoch 4, loss = 2.2639\n",
            "Iteration 16 in epoch 4, loss = 2.3087\n",
            "Iteration 17 in epoch 4, loss = 2.2519\n",
            "Iteration 18 in epoch 4, loss = 2.2579\n",
            "Iteration 19 in epoch 4, loss = 2.2705\n",
            "Iteration 20 in epoch 4, loss = 2.2231\n",
            "Validation\n",
            "iteration 20 epoch 4--> 0.151667\n",
            "Current accuracy = 0.151667 (0.148333), updating best model\n",
            "Iteration 21 in epoch 4, loss = 2.2824\n",
            "Iteration 22 in epoch 4, loss = 2.2673\n",
            "Iteration 23 in epoch 4, loss = 2.2458\n",
            "Iteration 24 in epoch 4, loss = 2.3128\n",
            "Iteration 25 in epoch 4, loss = 2.2621\n",
            "Iteration 26 in epoch 4, loss = 2.3242\n",
            "Iteration 27 in epoch 4, loss = 2.3023\n",
            "Iteration 28 in epoch 4, loss = 2.2867\n",
            "Iteration 29 in epoch 4, loss = 2.2847\n",
            "Iteration 30 in epoch 4, loss = 2.2820\n",
            "Iteration 31 in epoch 4, loss = 2.2667\n",
            "Iteration 32 in epoch 4, loss = 2.2859\n",
            "Iteration 33 in epoch 4, loss = 2.2616\n",
            "Iteration 34 in epoch 4, loss = 2.3120\n",
            "Iteration 35 in epoch 4, loss = 2.2758\n",
            "Iteration 36 in epoch 4, loss = 2.2746\n",
            "Iteration 37 in epoch 4, loss = 2.2331\n",
            "Iteration 38 in epoch 4, loss = 2.2666\n",
            "Iteration 39 in epoch 4, loss = 2.2709\n",
            "Iteration 40 in epoch 4, loss = 2.3129\n",
            "Validation\n",
            "iteration 40 epoch 4--> 0.148333\n",
            "Iteration 41 in epoch 4, loss = 2.2749\n",
            "Iteration 42 in epoch 4, loss = 2.2685\n",
            "Iteration 43 in epoch 4, loss = 2.2995\n",
            "Iteration 44 in epoch 4, loss = 2.2893\n",
            "Iteration 45 in epoch 4, loss = 2.2766\n",
            "Iteration 46 in epoch 4, loss = 2.2675\n",
            "Iteration 47 in epoch 4, loss = 2.2447\n",
            "Iteration 48 in epoch 4, loss = 2.2468\n",
            "Iteration 49 in epoch 4, loss = 2.3330\n",
            "Iteration 50 in epoch 4, loss = 2.2482\n",
            "Iteration 51 in epoch 4, loss = 2.3017\n",
            "Iteration 52 in epoch 4, loss = 2.2872\n",
            "Iteration 53 in epoch 4, loss = 2.2711\n",
            "Iteration 54 in epoch 4, loss = 2.2524\n",
            "Iteration 55 in epoch 4, loss = 2.3178\n",
            "Iteration 0 in epoch 5, loss = 2.3142\n",
            "Validation\n",
            "iteration 0 epoch 5--> 0.158333\n",
            "Current accuracy = 0.158333 (0.151667), updating best model\n",
            "Iteration 1 in epoch 5, loss = 2.2575\n",
            "Iteration 2 in epoch 5, loss = 2.2766\n",
            "Iteration 3 in epoch 5, loss = 2.2886\n",
            "Iteration 4 in epoch 5, loss = 2.2759\n",
            "Iteration 5 in epoch 5, loss = 2.2640\n",
            "Iteration 6 in epoch 5, loss = 2.2841\n",
            "Iteration 7 in epoch 5, loss = 2.2689\n",
            "Iteration 8 in epoch 5, loss = 2.2681\n",
            "Iteration 9 in epoch 5, loss = 2.2598\n",
            "Iteration 10 in epoch 5, loss = 2.2611\n",
            "Iteration 11 in epoch 5, loss = 2.2940\n",
            "Iteration 12 in epoch 5, loss = 2.2754\n",
            "Iteration 13 in epoch 5, loss = 2.2787\n",
            "Iteration 14 in epoch 5, loss = 2.2295\n",
            "Iteration 15 in epoch 5, loss = 2.2532\n",
            "Iteration 16 in epoch 5, loss = 2.2257\n",
            "Iteration 17 in epoch 5, loss = 2.2789\n",
            "Iteration 18 in epoch 5, loss = 2.2926\n",
            "Iteration 19 in epoch 5, loss = 2.2275\n",
            "Iteration 20 in epoch 5, loss = 2.2415\n",
            "Validation\n",
            "iteration 20 epoch 5--> 0.160000\n",
            "Current accuracy = 0.160000 (0.158333), updating best model\n",
            "Iteration 21 in epoch 5, loss = 2.2965\n",
            "Iteration 22 in epoch 5, loss = 2.3292\n",
            "Iteration 23 in epoch 5, loss = 2.2704\n",
            "Iteration 24 in epoch 5, loss = 2.2847\n",
            "Iteration 25 in epoch 5, loss = 2.2079\n",
            "Iteration 26 in epoch 5, loss = 2.2573\n",
            "Iteration 27 in epoch 5, loss = 2.2926\n",
            "Iteration 28 in epoch 5, loss = 2.2600\n",
            "Iteration 29 in epoch 5, loss = 2.2262\n",
            "Iteration 30 in epoch 5, loss = 2.2357\n",
            "Iteration 31 in epoch 5, loss = 2.2275\n",
            "Iteration 32 in epoch 5, loss = 2.3296\n",
            "Iteration 33 in epoch 5, loss = 2.2902\n",
            "Iteration 34 in epoch 5, loss = 2.2208\n",
            "Iteration 35 in epoch 5, loss = 2.2212\n",
            "Iteration 36 in epoch 5, loss = 2.2314\n",
            "Iteration 37 in epoch 5, loss = 2.2014\n",
            "Iteration 38 in epoch 5, loss = 2.1897\n",
            "Iteration 39 in epoch 5, loss = 2.2091\n",
            "Iteration 40 in epoch 5, loss = 2.2361\n",
            "Validation\n",
            "iteration 40 epoch 5--> 0.143333\n",
            "Iteration 41 in epoch 5, loss = 2.2971\n",
            "Iteration 42 in epoch 5, loss = 2.3572\n",
            "Iteration 43 in epoch 5, loss = 2.2673\n",
            "Iteration 44 in epoch 5, loss = 2.2598\n",
            "Iteration 45 in epoch 5, loss = 2.2404\n",
            "Iteration 46 in epoch 5, loss = 2.2563\n",
            "Iteration 47 in epoch 5, loss = 2.2787\n",
            "Iteration 48 in epoch 5, loss = 2.2401\n",
            "Iteration 49 in epoch 5, loss = 2.2858\n",
            "Iteration 50 in epoch 5, loss = 2.2725\n",
            "Iteration 51 in epoch 5, loss = 2.2429\n",
            "Iteration 52 in epoch 5, loss = 2.2248\n",
            "Iteration 53 in epoch 5, loss = 2.3102\n",
            "Iteration 54 in epoch 5, loss = 2.2923\n",
            "Iteration 55 in epoch 5, loss = 2.2592\n",
            "Iteration 0 in epoch 6, loss = 2.2810\n",
            "Validation\n",
            "iteration 0 epoch 6--> 0.138333\n",
            "Iteration 1 in epoch 6, loss = 2.2355\n",
            "Iteration 2 in epoch 6, loss = 2.2197\n",
            "Iteration 3 in epoch 6, loss = 2.2523\n",
            "Iteration 4 in epoch 6, loss = 2.2904\n",
            "Iteration 5 in epoch 6, loss = 2.2468\n",
            "Iteration 6 in epoch 6, loss = 2.2570\n",
            "Iteration 7 in epoch 6, loss = 2.2864\n",
            "Iteration 8 in epoch 6, loss = 2.1817\n",
            "Iteration 9 in epoch 6, loss = 2.3147\n",
            "Iteration 10 in epoch 6, loss = 2.2481\n",
            "Iteration 11 in epoch 6, loss = 2.2905\n",
            "Iteration 12 in epoch 6, loss = 2.2290\n",
            "Iteration 13 in epoch 6, loss = 2.2246\n",
            "Iteration 14 in epoch 6, loss = 2.2521\n",
            "Iteration 15 in epoch 6, loss = 2.2120\n",
            "Iteration 16 in epoch 6, loss = 2.2248\n",
            "Iteration 17 in epoch 6, loss = 2.2957\n",
            "Iteration 18 in epoch 6, loss = 2.2613\n",
            "Iteration 19 in epoch 6, loss = 2.2138\n",
            "Iteration 20 in epoch 6, loss = 2.2256\n",
            "Validation\n",
            "iteration 20 epoch 6--> 0.136667\n",
            "Iteration 21 in epoch 6, loss = 2.1650\n",
            "Iteration 22 in epoch 6, loss = 2.2743\n",
            "Iteration 23 in epoch 6, loss = 2.2640\n",
            "Iteration 24 in epoch 6, loss = 2.2889\n",
            "Iteration 25 in epoch 6, loss = 2.2653\n",
            "Iteration 26 in epoch 6, loss = 2.2858\n",
            "Iteration 27 in epoch 6, loss = 2.2220\n",
            "Iteration 28 in epoch 6, loss = 2.3341\n",
            "Iteration 29 in epoch 6, loss = 2.2441\n",
            "Iteration 30 in epoch 6, loss = 2.2744\n",
            "Iteration 31 in epoch 6, loss = 2.2464\n",
            "Iteration 32 in epoch 6, loss = 2.2847\n",
            "Iteration 33 in epoch 6, loss = 2.2456\n",
            "Iteration 34 in epoch 6, loss = 2.2615\n",
            "Iteration 35 in epoch 6, loss = 2.2338\n",
            "Iteration 36 in epoch 6, loss = 2.2548\n",
            "Iteration 37 in epoch 6, loss = 2.2366\n",
            "Iteration 38 in epoch 6, loss = 2.2454\n",
            "Iteration 39 in epoch 6, loss = 2.2250\n",
            "Iteration 40 in epoch 6, loss = 2.2774\n",
            "Validation\n",
            "iteration 40 epoch 6--> 0.170000\n",
            "Current accuracy = 0.170000 (0.160000), updating best model\n",
            "Iteration 41 in epoch 6, loss = 2.2395\n",
            "Iteration 42 in epoch 6, loss = 2.2331\n",
            "Iteration 43 in epoch 6, loss = 2.1935\n",
            "Iteration 44 in epoch 6, loss = 2.3016\n",
            "Iteration 45 in epoch 6, loss = 2.3270\n",
            "Iteration 46 in epoch 6, loss = 2.2209\n",
            "Iteration 47 in epoch 6, loss = 2.3096\n",
            "Iteration 48 in epoch 6, loss = 2.2414\n",
            "Iteration 49 in epoch 6, loss = 2.2121\n",
            "Iteration 50 in epoch 6, loss = 2.2897\n",
            "Iteration 51 in epoch 6, loss = 2.2348\n",
            "Iteration 52 in epoch 6, loss = 2.1637\n",
            "Iteration 53 in epoch 6, loss = 2.2552\n",
            "Iteration 54 in epoch 6, loss = 2.2229\n",
            "Iteration 55 in epoch 6, loss = 2.2197\n",
            "Iteration 0 in epoch 7, loss = 2.1591\n",
            "Validation\n",
            "iteration 0 epoch 7--> 0.166667\n",
            "Iteration 1 in epoch 7, loss = 2.2611\n",
            "Iteration 2 in epoch 7, loss = 2.2140\n",
            "Iteration 3 in epoch 7, loss = 2.2493\n",
            "Iteration 4 in epoch 7, loss = 2.2841\n",
            "Iteration 5 in epoch 7, loss = 2.2225\n",
            "Iteration 6 in epoch 7, loss = 2.1298\n",
            "Iteration 7 in epoch 7, loss = 2.2507\n",
            "Iteration 8 in epoch 7, loss = 2.3136\n",
            "Iteration 9 in epoch 7, loss = 2.2693\n",
            "Iteration 10 in epoch 7, loss = 2.1571\n",
            "Iteration 11 in epoch 7, loss = 2.2115\n",
            "Iteration 12 in epoch 7, loss = 2.1438\n",
            "Iteration 13 in epoch 7, loss = 2.1695\n",
            "Iteration 14 in epoch 7, loss = 2.2863\n",
            "Iteration 15 in epoch 7, loss = 2.2606\n",
            "Iteration 16 in epoch 7, loss = 2.2805\n",
            "Iteration 17 in epoch 7, loss = 2.2155\n",
            "Iteration 18 in epoch 7, loss = 2.2034\n",
            "Iteration 19 in epoch 7, loss = 2.2150\n",
            "Iteration 20 in epoch 7, loss = 2.1813\n",
            "Validation\n",
            "iteration 20 epoch 7--> 0.135000\n",
            "Iteration 21 in epoch 7, loss = 2.2527\n",
            "Iteration 22 in epoch 7, loss = 2.2550\n",
            "Iteration 23 in epoch 7, loss = 2.1855\n",
            "Iteration 24 in epoch 7, loss = 2.2184\n",
            "Iteration 25 in epoch 7, loss = 2.1839\n",
            "Iteration 26 in epoch 7, loss = 2.2285\n",
            "Iteration 27 in epoch 7, loss = 2.2836\n",
            "Iteration 28 in epoch 7, loss = 2.2010\n",
            "Iteration 29 in epoch 7, loss = 2.2186\n",
            "Iteration 30 in epoch 7, loss = 2.2883\n",
            "Iteration 31 in epoch 7, loss = 2.1606\n",
            "Iteration 32 in epoch 7, loss = 2.1992\n",
            "Iteration 33 in epoch 7, loss = 2.2120\n",
            "Iteration 34 in epoch 7, loss = 2.2445\n",
            "Iteration 35 in epoch 7, loss = 2.2378\n",
            "Iteration 36 in epoch 7, loss = 2.1862\n",
            "Iteration 37 in epoch 7, loss = 2.2896\n",
            "Iteration 38 in epoch 7, loss = 2.2076\n",
            "Iteration 39 in epoch 7, loss = 2.1837\n",
            "Iteration 40 in epoch 7, loss = 2.2950\n",
            "Validation\n",
            "iteration 40 epoch 7--> 0.176667\n",
            "Current accuracy = 0.176667 (0.170000), updating best model\n",
            "Iteration 41 in epoch 7, loss = 2.2599\n",
            "Iteration 42 in epoch 7, loss = 2.1932\n",
            "Iteration 43 in epoch 7, loss = 2.2046\n",
            "Iteration 44 in epoch 7, loss = 2.2161\n",
            "Iteration 45 in epoch 7, loss = 2.1771\n",
            "Iteration 46 in epoch 7, loss = 2.3032\n",
            "Iteration 47 in epoch 7, loss = 2.1612\n",
            "Iteration 48 in epoch 7, loss = 2.2939\n",
            "Iteration 49 in epoch 7, loss = 2.2749\n",
            "Iteration 50 in epoch 7, loss = 2.2035\n",
            "Iteration 51 in epoch 7, loss = 2.1900\n",
            "Iteration 52 in epoch 7, loss = 2.2593\n",
            "Iteration 53 in epoch 7, loss = 2.2320\n",
            "Iteration 54 in epoch 7, loss = 2.2532\n",
            "Iteration 55 in epoch 7, loss = 2.2962\n",
            "Iteration 0 in epoch 8, loss = 2.2373\n",
            "Validation\n",
            "iteration 0 epoch 8--> 0.185000\n",
            "Current accuracy = 0.185000 (0.176667), updating best model\n",
            "Iteration 1 in epoch 8, loss = 2.2063\n",
            "Iteration 2 in epoch 8, loss = 2.1216\n",
            "Iteration 3 in epoch 8, loss = 2.2438\n",
            "Iteration 4 in epoch 8, loss = 2.2529\n",
            "Iteration 5 in epoch 8, loss = 2.2024\n",
            "Iteration 6 in epoch 8, loss = 2.2328\n",
            "Iteration 7 in epoch 8, loss = 2.2402\n",
            "Iteration 8 in epoch 8, loss = 2.2137\n",
            "Iteration 9 in epoch 8, loss = 2.2670\n",
            "Iteration 10 in epoch 8, loss = 2.1969\n",
            "Iteration 11 in epoch 8, loss = 2.1712\n",
            "Iteration 12 in epoch 8, loss = 2.2583\n",
            "Iteration 13 in epoch 8, loss = 2.1861\n",
            "Iteration 14 in epoch 8, loss = 2.2446\n",
            "Iteration 15 in epoch 8, loss = 2.2761\n",
            "Iteration 16 in epoch 8, loss = 2.2489\n",
            "Iteration 17 in epoch 8, loss = 2.1728\n",
            "Iteration 18 in epoch 8, loss = 2.2557\n",
            "Iteration 19 in epoch 8, loss = 2.2669\n",
            "Iteration 20 in epoch 8, loss = 2.1699\n",
            "Validation\n",
            "iteration 20 epoch 8--> 0.170000\n",
            "Iteration 21 in epoch 8, loss = 2.2267\n",
            "Iteration 22 in epoch 8, loss = 2.2674\n",
            "Iteration 23 in epoch 8, loss = 2.2167\n",
            "Iteration 24 in epoch 8, loss = 2.2371\n",
            "Iteration 25 in epoch 8, loss = 2.2189\n",
            "Iteration 26 in epoch 8, loss = 2.2894\n",
            "Iteration 27 in epoch 8, loss = 2.2635\n",
            "Iteration 28 in epoch 8, loss = 2.1772\n",
            "Iteration 29 in epoch 8, loss = 2.2118\n",
            "Iteration 30 in epoch 8, loss = 2.2197\n",
            "Iteration 31 in epoch 8, loss = 2.2249\n",
            "Iteration 32 in epoch 8, loss = 2.2178\n",
            "Iteration 33 in epoch 8, loss = 2.1258\n",
            "Iteration 34 in epoch 8, loss = 2.2442\n",
            "Iteration 35 in epoch 8, loss = 2.1911\n",
            "Iteration 36 in epoch 8, loss = 2.1489\n",
            "Iteration 37 in epoch 8, loss = 2.2350\n",
            "Iteration 38 in epoch 8, loss = 2.2231\n",
            "Iteration 39 in epoch 8, loss = 2.2308\n",
            "Iteration 40 in epoch 8, loss = 2.1668\n",
            "Validation\n",
            "iteration 40 epoch 8--> 0.191667\n",
            "Current accuracy = 0.191667 (0.185000), updating best model\n",
            "Iteration 41 in epoch 8, loss = 2.2539\n",
            "Iteration 42 in epoch 8, loss = 2.1897\n",
            "Iteration 43 in epoch 8, loss = 2.2013\n",
            "Iteration 44 in epoch 8, loss = 2.1257\n",
            "Iteration 45 in epoch 8, loss = 2.1693\n",
            "Iteration 46 in epoch 8, loss = 2.1940\n",
            "Iteration 47 in epoch 8, loss = 2.2194\n",
            "Iteration 48 in epoch 8, loss = 2.2288\n",
            "Iteration 49 in epoch 8, loss = 2.1615\n",
            "Iteration 50 in epoch 8, loss = 2.1582\n",
            "Iteration 51 in epoch 8, loss = 2.1554\n",
            "Iteration 52 in epoch 8, loss = 2.2798\n",
            "Iteration 53 in epoch 8, loss = 2.2224\n",
            "Iteration 54 in epoch 8, loss = 2.1174\n",
            "Iteration 55 in epoch 8, loss = 2.1920\n",
            "Iteration 0 in epoch 9, loss = 2.2086\n",
            "Validation\n"
          ],
          "name": "stdout"
        }
      ]
    },
    {
      "cell_type": "markdown",
      "metadata": {
        "id": "Z8oQI8KnnWDd"
      },
      "source": [
        "# 4th attempt 10% whole datasets \r\n",
        "\r\n",
        "18%  accuracy on test set \r\n",
        "\r\n",
        "In this case, there is not the same number of elements for each target group\r\n",
        "\r\n",
        "\r\n",
        "\r\n",
        "*   1608,6 files training set\r\n",
        "*   344,8 validation set\r\n",
        "*   345,4 test set  \r\n",
        "\r\n",
        "\r\n"
      ]
    },
    {
      "cell_type": "code",
      "metadata": {
        "colab": {
          "base_uri": "https://localhost:8080/"
        },
        "id": "0p4CEL5TnRrW",
        "outputId": "c79fdf50-9b49-458c-c02c-d296ea9608ca"
      },
      "source": [
        "import copy\r\n",
        "import torch.optim as optim\r\n",
        "from sklearn.metrics import confusion_matrix\r\n",
        "\r\n",
        "####to store the printing in a txt file \r\n",
        "#import sys \r\n",
        "#original_stdout = sys.stdout -->saving a ref to the standard ouput \r\n",
        "\r\n",
        "\r\n",
        "optimizer = optim.SGD(model.parameters(),lr = 0.001)\r\n",
        "criterion = torch.nn.CrossEntropyLoss()\r\n",
        "\r\n",
        "\r\n",
        "model.train()\r\n",
        "model.cuda()\r\n",
        "best_accuracy = 0\r\n",
        "max_epochs= 10\r\n",
        "\r\n",
        "#with open(\"SASA_10_whole_train.txt\", \"w\") as f:\r\n",
        "# sys.stdout = f -->redirecting the ouput to the txt file \r\n",
        "\r\n",
        "for e in range(max_epochs):\r\n",
        "  for i, d in enumerate(train_set_generator):\r\n",
        "    f,l = d\r\n",
        "    y = model(f.float().cuda())\r\n",
        "    loss = criterion(y,l.cuda())\r\n",
        "    print(\"Iteration %d in epoch %d, loss = %.4f\"%(i,e,loss.item()))\r\n",
        "    loss.backward()\r\n",
        "    optimizer.step()\r\n",
        "    optimizer.zero_grad()\r\n",
        "    if i%20==0:\r\n",
        "      print(\"Validation\")\r\n",
        "\r\n",
        "      model.eval()\r\n",
        "      correct=[]\r\n",
        "      for j, valid_data in enumerate(valid_set_generator):\r\n",
        "        #print(j)        #remember you CAN REMOVE THIS\r\n",
        "        feats, labels=valid_data\r\n",
        "        y_eval=model(feats.float().cuda())\r\n",
        "        _,pred=torch.max(y_eval.detach().cpu(), dim=1)\r\n",
        "        correct.append((pred==labels.float()))\r\n",
        "\r\n",
        "      acc=np.mean(np.hstack(correct))\r\n",
        "      iter_acc = 'iteration %d epoch %d--> %f'%(i,e,acc)\r\n",
        "      print(iter_acc)\r\n",
        "      \r\n",
        "      if acc > best_accuracy:\r\n",
        "        improved_accuracy = 'Current accuracy = %f (%f), updating best model'%(acc,best_accuracy)\r\n",
        "        print(improved_accuracy)\r\n",
        "        best_accuracy = acc\r\n",
        "        best_epoch= e\r\n",
        "        torch.save(model.state_dict(), \"reduced_dataset/best_model_SASA_whole.pkl\")  #best_model_SASA.pkl\r\n",
        "      model.train()\r\n",
        "\r\n",
        "#sys.stdout = original_stdout  --> resetting standard output\r\n",
        "\r\n",
        "matrix_w= confusion_matrix(labels,pred)\r\n",
        "print(matrix_w)\r\n",
        "\r\n"
      ],
      "execution_count": null,
      "outputs": [
        {
          "output_type": "stream",
          "text": [
            "Iteration 0 in epoch 0, loss = 2.4174\n",
            "Validation\n",
            "iteration 0 epoch 0--> 0.084302\n",
            "Current accuracy = 0.084302 (0.000000), updating best model\n",
            "Iteration 1 in epoch 0, loss = 3.5127\n",
            "Iteration 2 in epoch 0, loss = 2.6057\n",
            "Iteration 3 in epoch 0, loss = 2.3220\n",
            "Iteration 4 in epoch 0, loss = 2.2801\n",
            "Iteration 5 in epoch 0, loss = 2.2813\n",
            "Iteration 6 in epoch 0, loss = 2.2871\n",
            "Iteration 7 in epoch 0, loss = 2.2985\n",
            "Iteration 8 in epoch 0, loss = 2.3139\n",
            "Iteration 9 in epoch 0, loss = 2.3431\n",
            "Iteration 10 in epoch 0, loss = 2.3261\n",
            "Iteration 11 in epoch 0, loss = 2.2919\n",
            "Iteration 12 in epoch 0, loss = 2.2606\n",
            "Iteration 13 in epoch 0, loss = 2.2524\n",
            "Iteration 14 in epoch 0, loss = 2.3055\n",
            "Iteration 15 in epoch 0, loss = 2.2930\n",
            "Iteration 16 in epoch 0, loss = 2.3408\n",
            "Iteration 17 in epoch 0, loss = 2.2942\n",
            "Iteration 18 in epoch 0, loss = 2.2606\n",
            "Iteration 19 in epoch 0, loss = 2.3103\n",
            "Iteration 20 in epoch 0, loss = 2.3130\n",
            "Validation\n",
            "iteration 20 epoch 0--> 0.151163\n",
            "Current accuracy = 0.151163 (0.084302), updating best model\n",
            "Iteration 21 in epoch 0, loss = 2.2600\n",
            "Iteration 22 in epoch 0, loss = 2.2742\n",
            "Iteration 23 in epoch 0, loss = 2.3096\n",
            "Iteration 24 in epoch 0, loss = 2.3087\n",
            "Iteration 25 in epoch 0, loss = 2.2543\n",
            "Iteration 26 in epoch 0, loss = 2.3483\n",
            "Iteration 27 in epoch 0, loss = 2.2439\n",
            "Iteration 28 in epoch 0, loss = 2.2813\n",
            "Iteration 29 in epoch 0, loss = 2.3036\n",
            "Iteration 30 in epoch 0, loss = 2.3667\n",
            "Iteration 31 in epoch 0, loss = 2.3104\n",
            "Iteration 32 in epoch 0, loss = 2.3266\n",
            "Iteration 0 in epoch 1, loss = 2.3150\n",
            "Validation\n",
            "iteration 0 epoch 1--> 0.133721\n",
            "Iteration 1 in epoch 1, loss = 2.3068\n",
            "Iteration 2 in epoch 1, loss = 2.2929\n",
            "Iteration 3 in epoch 1, loss = 2.2827\n",
            "Iteration 4 in epoch 1, loss = 2.2802\n",
            "Iteration 5 in epoch 1, loss = 2.3444\n",
            "Iteration 6 in epoch 1, loss = 2.3041\n",
            "Iteration 7 in epoch 1, loss = 2.2978\n",
            "Iteration 8 in epoch 1, loss = 2.3325\n",
            "Iteration 9 in epoch 1, loss = 2.2957\n",
            "Iteration 10 in epoch 1, loss = 2.2861\n",
            "Iteration 11 in epoch 1, loss = 2.3007\n",
            "Iteration 12 in epoch 1, loss = 2.2511\n",
            "Iteration 13 in epoch 1, loss = 2.2686\n",
            "Iteration 14 in epoch 1, loss = 2.3748\n",
            "Iteration 15 in epoch 1, loss = 2.3346\n",
            "Iteration 16 in epoch 1, loss = 2.3059\n",
            "Iteration 17 in epoch 1, loss = 2.3241\n",
            "Iteration 18 in epoch 1, loss = 2.2794\n",
            "Iteration 19 in epoch 1, loss = 2.2604\n",
            "Iteration 20 in epoch 1, loss = 2.2872\n",
            "Validation\n",
            "iteration 20 epoch 1--> 0.151163\n",
            "Iteration 21 in epoch 1, loss = 2.3078\n",
            "Iteration 22 in epoch 1, loss = 2.3289\n",
            "Iteration 23 in epoch 1, loss = 2.2956\n",
            "Iteration 24 in epoch 1, loss = 2.2986\n",
            "Iteration 25 in epoch 1, loss = 2.3265\n",
            "Iteration 26 in epoch 1, loss = 2.2969\n",
            "Iteration 27 in epoch 1, loss = 2.2954\n",
            "Iteration 28 in epoch 1, loss = 2.2743\n",
            "Iteration 29 in epoch 1, loss = 2.2763\n",
            "Iteration 30 in epoch 1, loss = 2.3052\n",
            "Iteration 31 in epoch 1, loss = 2.2764\n",
            "Iteration 32 in epoch 1, loss = 2.3996\n",
            "Iteration 0 in epoch 2, loss = 2.2318\n",
            "Validation\n",
            "iteration 0 epoch 2--> 0.151163\n",
            "Iteration 1 in epoch 2, loss = 2.4046\n",
            "Iteration 2 in epoch 2, loss = 2.2956\n",
            "Iteration 3 in epoch 2, loss = 2.3244\n",
            "Iteration 4 in epoch 2, loss = 2.2884\n",
            "Iteration 5 in epoch 2, loss = 2.2484\n",
            "Iteration 6 in epoch 2, loss = 2.3103\n",
            "Iteration 7 in epoch 2, loss = 2.2707\n",
            "Iteration 8 in epoch 2, loss = 2.2565\n",
            "Iteration 9 in epoch 2, loss = 2.2575\n",
            "Iteration 10 in epoch 2, loss = 2.3978\n",
            "Iteration 11 in epoch 2, loss = 2.2936\n",
            "Iteration 12 in epoch 2, loss = 2.2790\n",
            "Iteration 13 in epoch 2, loss = 2.2762\n",
            "Iteration 14 in epoch 2, loss = 2.3081\n",
            "Iteration 15 in epoch 2, loss = 2.2782\n",
            "Iteration 16 in epoch 2, loss = 2.2751\n",
            "Iteration 17 in epoch 2, loss = 2.3404\n",
            "Iteration 18 in epoch 2, loss = 2.2764\n",
            "Iteration 19 in epoch 2, loss = 2.3094\n",
            "Iteration 20 in epoch 2, loss = 2.2710\n",
            "Validation\n",
            "iteration 20 epoch 2--> 0.151163\n",
            "Iteration 21 in epoch 2, loss = 2.2958\n",
            "Iteration 22 in epoch 2, loss = 2.3164\n",
            "Iteration 23 in epoch 2, loss = 2.3143\n",
            "Iteration 24 in epoch 2, loss = 2.3082\n",
            "Iteration 25 in epoch 2, loss = 2.2765\n",
            "Iteration 26 in epoch 2, loss = 2.2330\n",
            "Iteration 27 in epoch 2, loss = 2.4012\n",
            "Iteration 28 in epoch 2, loss = 2.2815\n",
            "Iteration 29 in epoch 2, loss = 2.2691\n",
            "Iteration 30 in epoch 2, loss = 2.2991\n",
            "Iteration 31 in epoch 2, loss = 2.2992\n",
            "Iteration 32 in epoch 2, loss = 2.3239\n",
            "Iteration 0 in epoch 3, loss = 2.2758\n",
            "Validation\n",
            "iteration 0 epoch 3--> 0.151163\n",
            "Iteration 1 in epoch 3, loss = 2.3432\n",
            "Iteration 2 in epoch 3, loss = 2.2903\n",
            "Iteration 3 in epoch 3, loss = 2.2858\n",
            "Iteration 4 in epoch 3, loss = 2.2463\n",
            "Iteration 5 in epoch 3, loss = 2.3122\n",
            "Iteration 6 in epoch 3, loss = 2.2925\n",
            "Iteration 7 in epoch 3, loss = 2.2462\n",
            "Iteration 8 in epoch 3, loss = 2.4307\n",
            "Iteration 9 in epoch 3, loss = 2.3427\n",
            "Iteration 10 in epoch 3, loss = 2.2939\n",
            "Iteration 11 in epoch 3, loss = 2.2668\n",
            "Iteration 12 in epoch 3, loss = 2.2103\n",
            "Iteration 13 in epoch 3, loss = 2.2354\n",
            "Iteration 14 in epoch 3, loss = 2.3788\n",
            "Iteration 15 in epoch 3, loss = 2.2868\n",
            "Iteration 16 in epoch 3, loss = 2.2729\n",
            "Iteration 17 in epoch 3, loss = 2.3105\n",
            "Iteration 18 in epoch 3, loss = 2.2514\n",
            "Iteration 19 in epoch 3, loss = 2.2136\n",
            "Iteration 20 in epoch 3, loss = 2.2745\n",
            "Validation\n",
            "iteration 20 epoch 3--> 0.162791\n",
            "Current accuracy = 0.162791 (0.151163), updating best model\n",
            "Iteration 21 in epoch 3, loss = 2.2662\n",
            "Iteration 22 in epoch 3, loss = 2.2901\n",
            "Iteration 23 in epoch 3, loss = 2.2229\n",
            "Iteration 24 in epoch 3, loss = 2.3548\n",
            "Iteration 25 in epoch 3, loss = 2.2768\n",
            "Iteration 26 in epoch 3, loss = 2.2838\n",
            "Iteration 27 in epoch 3, loss = 2.2882\n",
            "Iteration 28 in epoch 3, loss = 2.2693\n",
            "Iteration 29 in epoch 3, loss = 2.1522\n",
            "Iteration 30 in epoch 3, loss = 2.4553\n",
            "Iteration 31 in epoch 3, loss = 2.2830\n",
            "Iteration 32 in epoch 3, loss = 2.3115\n",
            "Iteration 0 in epoch 4, loss = 2.2748\n",
            "Validation\n",
            "iteration 0 epoch 4--> 0.139535\n",
            "Iteration 1 in epoch 4, loss = 2.2992\n",
            "Iteration 2 in epoch 4, loss = 2.2980\n",
            "Iteration 3 in epoch 4, loss = 2.2617\n",
            "Iteration 4 in epoch 4, loss = 2.3589\n",
            "Iteration 5 in epoch 4, loss = 2.3117\n",
            "Iteration 6 in epoch 4, loss = 2.2919\n",
            "Iteration 7 in epoch 4, loss = 2.2604\n",
            "Iteration 8 in epoch 4, loss = 2.2071\n",
            "Iteration 9 in epoch 4, loss = 2.2248\n",
            "Iteration 10 in epoch 4, loss = 2.4943\n",
            "Iteration 11 in epoch 4, loss = 2.2998\n",
            "Iteration 12 in epoch 4, loss = 2.2668\n",
            "Iteration 13 in epoch 4, loss = 2.2405\n",
            "Iteration 14 in epoch 4, loss = 2.3550\n",
            "Iteration 15 in epoch 4, loss = 2.2580\n",
            "Iteration 16 in epoch 4, loss = 2.2889\n",
            "Iteration 17 in epoch 4, loss = 2.3151\n",
            "Iteration 18 in epoch 4, loss = 2.2858\n",
            "Iteration 19 in epoch 4, loss = 2.2503\n",
            "Iteration 20 in epoch 4, loss = 2.3324\n",
            "Validation\n",
            "iteration 20 epoch 4--> 0.151163\n",
            "Iteration 21 in epoch 4, loss = 2.2737\n",
            "Iteration 22 in epoch 4, loss = 2.3071\n",
            "Iteration 23 in epoch 4, loss = 2.2702\n",
            "Iteration 24 in epoch 4, loss = 2.2697\n",
            "Iteration 25 in epoch 4, loss = 2.3019\n",
            "Iteration 26 in epoch 4, loss = 2.3167\n",
            "Iteration 27 in epoch 4, loss = 2.3031\n",
            "Iteration 28 in epoch 4, loss = 2.3004\n",
            "Iteration 29 in epoch 4, loss = 2.2743\n",
            "Iteration 30 in epoch 4, loss = 2.2964\n",
            "Iteration 31 in epoch 4, loss = 2.2520\n",
            "Iteration 32 in epoch 4, loss = 2.0453\n",
            "Iteration 0 in epoch 5, loss = 3.4028\n",
            "Validation\n",
            "iteration 0 epoch 5--> 0.087209\n",
            "Iteration 1 in epoch 5, loss = 2.2864\n",
            "Iteration 2 in epoch 5, loss = 2.3110\n",
            "Iteration 3 in epoch 5, loss = 2.2892\n",
            "Iteration 4 in epoch 5, loss = 2.2770\n",
            "Iteration 5 in epoch 5, loss = 2.2662\n",
            "Iteration 6 in epoch 5, loss = 2.2881\n",
            "Iteration 7 in epoch 5, loss = 2.2806\n",
            "Iteration 8 in epoch 5, loss = 2.1921\n",
            "Iteration 9 in epoch 5, loss = 2.4109\n",
            "Iteration 10 in epoch 5, loss = 2.2963\n",
            "Iteration 11 in epoch 5, loss = 2.2798\n",
            "Iteration 12 in epoch 5, loss = 2.2788\n",
            "Iteration 13 in epoch 5, loss = 2.2858\n",
            "Iteration 14 in epoch 5, loss = 2.2793\n",
            "Iteration 15 in epoch 5, loss = 2.3077\n",
            "Iteration 16 in epoch 5, loss = 2.2854\n",
            "Iteration 17 in epoch 5, loss = 2.2713\n",
            "Iteration 18 in epoch 5, loss = 2.2490\n",
            "Iteration 19 in epoch 5, loss = 2.3321\n",
            "Iteration 20 in epoch 5, loss = 2.2328\n",
            "Validation\n",
            "iteration 20 epoch 5--> 0.151163\n",
            "Iteration 21 in epoch 5, loss = 2.3666\n",
            "Iteration 22 in epoch 5, loss = 2.2549\n",
            "Iteration 23 in epoch 5, loss = 2.3159\n",
            "Iteration 24 in epoch 5, loss = 2.2473\n",
            "Iteration 25 in epoch 5, loss = 2.2732\n",
            "Iteration 26 in epoch 5, loss = 2.1997\n",
            "Iteration 27 in epoch 5, loss = 2.2952\n",
            "Iteration 28 in epoch 5, loss = 2.3276\n",
            "Iteration 29 in epoch 5, loss = 2.2752\n",
            "Iteration 30 in epoch 5, loss = 2.1864\n",
            "Iteration 31 in epoch 5, loss = 2.3677\n",
            "Iteration 32 in epoch 5, loss = 2.2884\n",
            "Iteration 0 in epoch 6, loss = 2.3410\n",
            "Validation\n",
            "iteration 0 epoch 6--> 0.125000\n",
            "Iteration 1 in epoch 6, loss = 2.3043\n",
            "Iteration 2 in epoch 6, loss = 2.2421\n",
            "Iteration 3 in epoch 6, loss = 2.3246\n",
            "Iteration 4 in epoch 6, loss = 2.2451\n",
            "Iteration 5 in epoch 6, loss = 2.2446\n",
            "Iteration 6 in epoch 6, loss = 2.3536\n",
            "Iteration 7 in epoch 6, loss = 2.2717\n",
            "Iteration 8 in epoch 6, loss = 2.3313\n",
            "Iteration 9 in epoch 6, loss = 2.2794\n",
            "Iteration 10 in epoch 6, loss = 2.2679\n",
            "Iteration 11 in epoch 6, loss = 2.2667\n",
            "Iteration 12 in epoch 6, loss = 2.2330\n",
            "Iteration 13 in epoch 6, loss = 2.3116\n",
            "Iteration 14 in epoch 6, loss = 2.2467\n",
            "Iteration 15 in epoch 6, loss = 2.3061\n",
            "Iteration 16 in epoch 6, loss = 2.3110\n",
            "Iteration 17 in epoch 6, loss = 2.2923\n",
            "Iteration 18 in epoch 6, loss = 2.2844\n",
            "Iteration 19 in epoch 6, loss = 2.2656\n",
            "Iteration 20 in epoch 6, loss = 2.2675\n",
            "Validation\n",
            "iteration 20 epoch 6--> 0.151163\n",
            "Iteration 21 in epoch 6, loss = 2.2762\n",
            "Iteration 22 in epoch 6, loss = 2.2575\n",
            "Iteration 23 in epoch 6, loss = 2.2509\n",
            "Iteration 24 in epoch 6, loss = 2.2861\n",
            "Iteration 25 in epoch 6, loss = 2.2749\n",
            "Iteration 26 in epoch 6, loss = 2.2637\n",
            "Iteration 27 in epoch 6, loss = 2.2552\n",
            "Iteration 28 in epoch 6, loss = 2.2708\n",
            "Iteration 29 in epoch 6, loss = 2.3499\n",
            "Iteration 30 in epoch 6, loss = 2.2961\n",
            "Iteration 31 in epoch 6, loss = 2.2940\n",
            "Iteration 32 in epoch 6, loss = 2.2223\n",
            "Iteration 0 in epoch 7, loss = 2.2850\n",
            "Validation\n",
            "iteration 0 epoch 7--> 0.168605\n",
            "Current accuracy = 0.168605 (0.162791), updating best model\n",
            "Iteration 1 in epoch 7, loss = 2.3081\n",
            "Iteration 2 in epoch 7, loss = 2.2649\n",
            "Iteration 3 in epoch 7, loss = 2.2333\n",
            "Iteration 4 in epoch 7, loss = 2.2670\n",
            "Iteration 5 in epoch 7, loss = 2.2546\n",
            "Iteration 6 in epoch 7, loss = 2.2933\n",
            "Iteration 7 in epoch 7, loss = 2.2297\n",
            "Iteration 8 in epoch 7, loss = 2.3290\n",
            "Iteration 9 in epoch 7, loss = 2.2458\n",
            "Iteration 10 in epoch 7, loss = 2.2957\n",
            "Iteration 11 in epoch 7, loss = 2.2740\n",
            "Iteration 12 in epoch 7, loss = 2.2428\n",
            "Iteration 13 in epoch 7, loss = 2.2914\n",
            "Iteration 14 in epoch 7, loss = 2.2374\n",
            "Iteration 15 in epoch 7, loss = 2.2844\n",
            "Iteration 16 in epoch 7, loss = 2.2402\n",
            "Iteration 17 in epoch 7, loss = 2.2148\n",
            "Iteration 18 in epoch 7, loss = 2.3558\n",
            "Iteration 19 in epoch 7, loss = 2.2467\n",
            "Iteration 20 in epoch 7, loss = 2.2690\n",
            "Validation\n",
            "iteration 20 epoch 7--> 0.156977\n",
            "Iteration 21 in epoch 7, loss = 2.2245\n",
            "Iteration 22 in epoch 7, loss = 2.1944\n",
            "Iteration 23 in epoch 7, loss = 2.3040\n",
            "Iteration 24 in epoch 7, loss = 2.2436\n",
            "Iteration 25 in epoch 7, loss = 2.2304\n",
            "Iteration 26 in epoch 7, loss = 2.3424\n",
            "Iteration 27 in epoch 7, loss = 2.2525\n",
            "Iteration 28 in epoch 7, loss = 2.2095\n",
            "Iteration 29 in epoch 7, loss = 2.2169\n",
            "Iteration 30 in epoch 7, loss = 2.2026\n",
            "Iteration 31 in epoch 7, loss = 2.3498\n",
            "Iteration 32 in epoch 7, loss = 2.3175\n",
            "Iteration 0 in epoch 8, loss = 2.2470\n",
            "Validation\n",
            "iteration 0 epoch 8--> 0.154070\n",
            "Iteration 1 in epoch 8, loss = 2.2959\n",
            "Iteration 2 in epoch 8, loss = 2.2236\n",
            "Iteration 3 in epoch 8, loss = 2.2993\n",
            "Iteration 4 in epoch 8, loss = 2.2338\n",
            "Iteration 5 in epoch 8, loss = 2.3458\n",
            "Iteration 6 in epoch 8, loss = 2.2864\n",
            "Iteration 7 in epoch 8, loss = 2.2498\n",
            "Iteration 8 in epoch 8, loss = 2.3044\n",
            "Iteration 9 in epoch 8, loss = 2.2451\n",
            "Iteration 10 in epoch 8, loss = 2.2411\n",
            "Iteration 11 in epoch 8, loss = 2.2274\n",
            "Iteration 12 in epoch 8, loss = 2.1923\n",
            "Iteration 13 in epoch 8, loss = 2.2488\n",
            "Iteration 14 in epoch 8, loss = 2.2626\n",
            "Iteration 15 in epoch 8, loss = 2.2696\n",
            "Iteration 16 in epoch 8, loss = 2.2664\n",
            "Iteration 17 in epoch 8, loss = 2.2254\n",
            "Iteration 18 in epoch 8, loss = 2.2789\n",
            "Iteration 19 in epoch 8, loss = 2.2916\n",
            "Iteration 20 in epoch 8, loss = 2.3849\n",
            "Validation\n",
            "iteration 20 epoch 8--> 0.183140\n",
            "Current accuracy = 0.183140 (0.168605), updating best model\n",
            "Iteration 21 in epoch 8, loss = 2.2863\n",
            "Iteration 22 in epoch 8, loss = 2.2971\n",
            "Iteration 23 in epoch 8, loss = 2.2153\n",
            "Iteration 24 in epoch 8, loss = 2.2784\n",
            "Iteration 25 in epoch 8, loss = 2.2197\n",
            "Iteration 26 in epoch 8, loss = 2.2907\n",
            "Iteration 27 in epoch 8, loss = 2.2286\n",
            "Iteration 28 in epoch 8, loss = 2.2492\n",
            "Iteration 29 in epoch 8, loss = 2.1849\n",
            "Iteration 30 in epoch 8, loss = 2.2586\n",
            "Iteration 31 in epoch 8, loss = 2.3096\n",
            "Iteration 32 in epoch 8, loss = 2.3250\n",
            "Iteration 0 in epoch 9, loss = 2.2457\n",
            "Validation\n",
            "iteration 0 epoch 9--> 0.148256\n",
            "Iteration 1 in epoch 9, loss = 2.2589\n",
            "Iteration 2 in epoch 9, loss = 2.3041\n",
            "Iteration 3 in epoch 9, loss = 2.2566\n",
            "Iteration 4 in epoch 9, loss = 2.2534\n",
            "Iteration 5 in epoch 9, loss = 2.2629\n",
            "Iteration 6 in epoch 9, loss = 2.2956\n",
            "Iteration 7 in epoch 9, loss = 2.2563\n",
            "Iteration 8 in epoch 9, loss = 2.2752\n",
            "Iteration 9 in epoch 9, loss = 2.2576\n",
            "Iteration 10 in epoch 9, loss = 2.1849\n",
            "Iteration 11 in epoch 9, loss = 2.3085\n",
            "Iteration 12 in epoch 9, loss = 2.2728\n",
            "Iteration 13 in epoch 9, loss = 2.3154\n",
            "Iteration 14 in epoch 9, loss = 2.2930\n",
            "Iteration 15 in epoch 9, loss = 2.2897\n",
            "Iteration 16 in epoch 9, loss = 2.2788\n",
            "Iteration 17 in epoch 9, loss = 2.2359\n",
            "Iteration 18 in epoch 9, loss = 2.1806\n",
            "Iteration 19 in epoch 9, loss = 2.1299\n",
            "Iteration 20 in epoch 9, loss = 2.3755\n",
            "Validation\n",
            "iteration 20 epoch 9--> 0.165698\n",
            "Iteration 21 in epoch 9, loss = 2.2508\n",
            "Iteration 22 in epoch 9, loss = 2.1940\n",
            "Iteration 23 in epoch 9, loss = 2.2928\n",
            "Iteration 24 in epoch 9, loss = 2.3508\n",
            "Iteration 25 in epoch 9, loss = 2.2238\n",
            "Iteration 26 in epoch 9, loss = 2.1720\n",
            "Iteration 27 in epoch 9, loss = 2.2850\n",
            "Iteration 28 in epoch 9, loss = 2.2308\n",
            "Iteration 29 in epoch 9, loss = 2.3040\n",
            "Iteration 30 in epoch 9, loss = 2.2257\n",
            "Iteration 31 in epoch 9, loss = 2.2351\n",
            "Iteration 32 in epoch 9, loss = 2.3139\n",
            "[[6 0 0 0 0 2 0 0 0 0]\n",
            " [0 0 0 1 0 0 0 0 0 0]\n",
            " [3 0 0 0 0 1 0 0 0 0]\n",
            " [4 0 0 0 0 4 0 0 0 0]\n",
            " [3 0 0 0 0 0 0 0 0 0]\n",
            " [3 0 0 0 0 1 0 0 0 0]\n",
            " [1 0 0 0 0 0 0 0 0 0]\n",
            " [3 0 0 0 0 0 0 0 0 0]\n",
            " [4 0 0 0 0 1 0 0 0 0]\n",
            " [5 0 0 0 0 1 0 1 0 0]]\n"
          ],
          "name": "stdout"
        }
      ]
    },
    {
      "cell_type": "code",
      "metadata": {
        "colab": {
          "base_uri": "https://localhost:8080/",
          "height": 265
        },
        "id": "j-UZOGCmn3sY",
        "outputId": "425c0b98-a45d-40e6-f66b-fbacc14ae6af"
      },
      "source": [
        "import matplotlib.pyplot as plt\r\n",
        "plt.figure()\r\n",
        "plt.imshow(matrix_w)\r\n",
        "plt.show()\r\n",
        "\r\n",
        "#Argentinian female speakers\r\n"
      ],
      "execution_count": null,
      "outputs": [
        {
          "output_type": "display_data",
          "data": {
            "image/png": "[encoded data removed]",
            "text/plain": [
              "<Figure size 432x288 with 1 Axes>"
            ]
          },
          "metadata": {
            "tags": [],
            "needs_background": "light"
          }
        }
      ]
    },
    {
      "cell_type": "markdown",
      "metadata": {
        "id": "geB5JfnKGsyZ"
      },
      "source": [
        "# Plotting training curves (model trained on 10% data)"
      ]
    },
    {
      "cell_type": "code",
      "metadata": {
        "id": "5gEvw5lSGWA8"
      },
      "source": [
        "plotting_train_data(\"reduced_dataset/SASA_10_whole_train.txt\")"
      ],
      "execution_count": null,
      "outputs": []
    },
    {
      "cell_type": "code",
      "metadata": {
        "colab": {
          "base_uri": "https://localhost:8080/",
          "height": 295
        },
        "id": "qRaaiZ4iGjz8",
        "outputId": "f7cc64c8-a9b6-4fa5-d587-012f5cb2e8ae"
      },
      "source": [
        "import matplotlib.pyplot as plt\r\n",
        "\r\n",
        "plt.title(\"Loss curve\")      \r\n",
        "plt.xlabel(\"Loss\")\r\n",
        "plt.plot(total_loss, color= \"purple\")\r\n",
        "plt.show()"
      ],
      "execution_count": null,
      "outputs": [
        {
          "output_type": "display_data",
          "data": {
            "image/png": "[encoded data removed]",
            "text/plain": [
              "<Figure size 432x288 with 1 Axes>"
            ]
          },
          "metadata": {
            "tags": [],
            "needs_background": "light"
          }
        }
      ]
    },
    {
      "cell_type": "code",
      "metadata": {
        "colab": {
          "base_uri": "https://localhost:8080/",
          "height": 281
        },
        "id": "cZqMw6_iGxfk",
        "outputId": "6d50833e-924a-4c04-da98-81f63eb7b0fd"
      },
      "source": [
        "plt.title(\"Accuracy curve\")      \r\n",
        "plt.ylabel(\"accuracy values\")\r\n",
        "plt.plot(total_acc, color= \"blue\")\r\n",
        "plt.show()"
      ],
      "execution_count": null,
      "outputs": [
        {
          "output_type": "display_data",
          "data": {
            "image/png": "[encoded data removed]",
            "text/plain": [
              "<Figure size 432x288 with 1 Axes>"
            ]
          },
          "metadata": {
            "tags": [],
            "needs_background": "light"
          }
        }
      ]
    },
    {
      "cell_type": "code",
      "metadata": {
        "id": "wg2yrK4f9ZHv",
        "colab": {
          "base_uri": "https://localhost:8080/"
        },
        "outputId": "252bf6ea-74a2-4a0f-92c1-08114fb6343b"
      },
      "source": [
        "model= CNNNet(n_class=len(target))\r\n",
        "model.load_state_dict(torch.load(\"reduced_dataset/best_model_SASA_whole.pkl\"))\r\n",
        "model.eval()\r\n",
        "model.cuda()"
      ],
      "execution_count": null,
      "outputs": [
        {
          "output_type": "execute_result",
          "data": {
            "text/plain": [
              "CNNNet(\n",
              "  (conv1): Conv2d(1, 64, kernel_size=(8, 20), stride=(1, 1))\n",
              "  (maxpool1): MaxPool2d(kernel_size=(2, 2), stride=(2, 2), padding=0, dilation=1, ceil_mode=False)\n",
              "  (conv2): Conv2d(64, 64, kernel_size=(4, 10), stride=(1, 1))\n",
              "  (maxpool2): MaxPool2d(kernel_size=(1, 1), stride=(1, 1), padding=0, dilation=1, ceil_mode=False)\n",
              "  (conv2_drop): Dropout2d(p=0.5, inplace=False)\n",
              "  (fc1): Linear(in_features=151424, out_features=128, bias=True)\n",
              "  (fc2): Linear(in_features=128, out_features=10, bias=True)\n",
              "  (drop): Dropout(p=0.5, inplace=False)\n",
              ")"
            ]
          },
          "metadata": {
            "tags": []
          },
          "execution_count": 8
        }
      ]
    },
    {
      "cell_type": "markdown",
      "metadata": {
        "id": "h4kYdDP0xOOb"
      },
      "source": [
        "# Accuracy test set \r\n",
        "checking on 10% of the test set \r\n",
        "\r\n",
        "16,8% accuracy"
      ]
    },
    {
      "cell_type": "code",
      "metadata": {
        "id": "uvN6K9ylfiOn"
      },
      "source": [
        "test_set= SASA_data(\"reduced_dataset/SASA_data/test_data_whole.csv\", target)\r\n",
        "batch_size= 50 \r\n",
        "params_test= {\"batch_size\" : batch_size, \r\n",
        "              \"shuffle\" : False}\r\n",
        "test_set_generator= data.DataLoader(test_set, **params_test)"
      ],
      "execution_count": null,
      "outputs": []
    },
    {
      "cell_type": "code",
      "metadata": {
        "id": "2SODdwSF94H-",
        "colab": {
          "base_uri": "https://localhost:8080/"
        },
        "outputId": "607ce05a-9384-4d47-b71b-21f6e63ec0ee"
      },
      "source": [
        "test_3= acc_test_set()"
      ],
      "execution_count": null,
      "outputs": [
        {
          "output_type": "stream",
          "text": [
            "Iteration 0 (0/345), time taken: 0.029218\n",
            "Iteration 1 (50/345), time taken: 0.028197\n",
            "Iteration 2 (100/345), time taken: 0.027623\n",
            "Iteration 3 (150/345), time taken: 0.028114\n",
            "Iteration 4 (200/345), time taken: 0.027937\n",
            "Iteration 5 (250/345), time taken: 0.028169\n",
            "Iteration 6 (300/345), time taken: 0.025075\n",
            "[[2 0 0 0 0 0 0 0 0 2]\n",
            " [2 0 0 0 0 0 0 0 0 3]\n",
            " [1 0 0 0 0 3 0 0 0 2]\n",
            " [2 0 0 0 0 1 0 0 0 0]\n",
            " [3 0 0 0 0 0 0 0 0 2]\n",
            " [2 0 0 0 0 1 0 0 0 4]\n",
            " [2 0 0 0 0 1 0 0 0 1]\n",
            " [1 0 0 0 0 0 0 0 0 1]\n",
            " [1 0 0 0 0 1 0 0 0 1]\n",
            " [2 1 0 1 0 0 0 0 0 2]]\n",
            "The accuracy on the test set is 0.168116\n",
            "It took 282.080666 seconds\n"
          ],
          "name": "stdout"
        }
      ]
    },
    {
      "cell_type": "code",
      "metadata": {
        "id": "ua_gcA8o98Vy",
        "colab": {
          "base_uri": "https://localhost:8080/",
          "height": 265
        },
        "outputId": "f10602c7-5866-4e61-eb28-ebf758c7700f"
      },
      "source": [
        "plt.figure()\r\n",
        "plt.imshow(test_3)\r\n",
        "plt.show()\r\n",
        "\r\n",
        "#Chilean male speakers and Argentinian female speakers "
      ],
      "execution_count": null,
      "outputs": [
        {
          "output_type": "display_data",
          "data": {
            "image/png": "[encoded data removed]",
            "text/plain": [
              "<Figure size 432x288 with 1 Axes>"
            ]
          },
          "metadata": {
            "tags": [],
            "needs_background": "light"
          }
        }
      ]
    },
    {
      "cell_type": "markdown",
      "metadata": {
        "id": "MwFDYxhBHMuU"
      },
      "source": [
        "# Accuracy on the whole test set (although it is larger than the train set)\r\n",
        "\r\n",
        "17% accuracy"
      ]
    },
    {
      "cell_type": "code",
      "metadata": {
        "id": "bR7DLsCIHRAf"
      },
      "source": [
        "test_set= SASA_data(\"SASA_data/test_data.csv\", target)\r\n",
        "batch_size= 50 \r\n",
        "params_test= {\"batch_size\" : batch_size, \r\n",
        "              \"shuffle\" : False}\r\n",
        "test_set_generator= data.DataLoader(test_set, **params_test)"
      ],
      "execution_count": null,
      "outputs": []
    },
    {
      "cell_type": "code",
      "metadata": {
        "id": "7aStvUzqHbGu",
        "colab": {
          "base_uri": "https://localhost:8080/"
        },
        "outputId": "d8a22c76-8537-40db-f6f2-0760bda39700"
      },
      "source": [
        "test_4= acc_test_set()"
      ],
      "execution_count": null,
      "outputs": [
        {
          "output_type": "stream",
          "text": [
            "Iteration 0 (0/3454), time taken: 0.110035\n",
            "Iteration 1 (50/3454), time taken: 0.078674\n",
            "Iteration 2 (100/3454), time taken: 0.078748\n",
            "Iteration 3 (150/3454), time taken: 0.078845\n",
            "Iteration 4 (200/3454), time taken: 0.080278\n",
            "Iteration 5 (250/3454), time taken: 0.078301\n",
            "Iteration 6 (300/3454), time taken: 0.080444\n",
            "Iteration 7 (350/3454), time taken: 0.079967\n",
            "Iteration 8 (400/3454), time taken: 0.080074\n",
            "Iteration 9 (450/3454), time taken: 0.079377\n",
            "Iteration 10 (500/3454), time taken: 0.081312\n",
            "Iteration 11 (550/3454), time taken: 0.079758\n",
            "Iteration 12 (600/3454), time taken: 0.081057\n",
            "Iteration 13 (650/3454), time taken: 0.079597\n",
            "Iteration 14 (700/3454), time taken: 0.080819\n",
            "Iteration 15 (750/3454), time taken: 0.079823\n",
            "Iteration 16 (800/3454), time taken: 0.081594\n",
            "Iteration 17 (850/3454), time taken: 0.080339\n",
            "Iteration 18 (900/3454), time taken: 0.081083\n",
            "Iteration 19 (950/3454), time taken: 0.079787\n",
            "Iteration 20 (1000/3454), time taken: 0.081341\n",
            "Iteration 21 (1050/3454), time taken: 0.080158\n",
            "Iteration 22 (1100/3454), time taken: 0.081034\n",
            "Iteration 23 (1150/3454), time taken: 0.079383\n",
            "Iteration 24 (1200/3454), time taken: 0.081413\n",
            "Iteration 25 (1250/3454), time taken: 0.080010\n",
            "Iteration 26 (1300/3454), time taken: 0.082025\n",
            "Iteration 27 (1350/3454), time taken: 0.081623\n",
            "Iteration 28 (1400/3454), time taken: 0.081144\n",
            "Iteration 29 (1450/3454), time taken: 0.079857\n",
            "Iteration 30 (1500/3454), time taken: 0.081441\n",
            "Iteration 31 (1550/3454), time taken: 0.079928\n",
            "Iteration 32 (1600/3454), time taken: 0.081098\n",
            "Iteration 33 (1650/3454), time taken: 0.079662\n",
            "Iteration 34 (1700/3454), time taken: 0.081455\n",
            "Iteration 35 (1750/3454), time taken: 0.079582\n",
            "Iteration 36 (1800/3454), time taken: 0.081317\n",
            "Iteration 37 (1850/3454), time taken: 0.079445\n",
            "Iteration 38 (1900/3454), time taken: 0.081175\n",
            "Iteration 39 (1950/3454), time taken: 0.080083\n",
            "Iteration 40 (2000/3454), time taken: 0.081492\n",
            "Iteration 41 (2050/3454), time taken: 0.079686\n",
            "Iteration 42 (2100/3454), time taken: 0.081068\n",
            "Iteration 43 (2150/3454), time taken: 0.079726\n",
            "Iteration 44 (2200/3454), time taken: 0.081326\n",
            "Iteration 45 (2250/3454), time taken: 0.080074\n",
            "Iteration 46 (2300/3454), time taken: 0.081898\n",
            "Iteration 47 (2350/3454), time taken: 0.080156\n",
            "Iteration 48 (2400/3454), time taken: 0.081124\n",
            "Iteration 49 (2450/3454), time taken: 0.079758\n",
            "Iteration 50 (2500/3454), time taken: 0.081178\n",
            "Iteration 51 (2550/3454), time taken: 0.079799\n",
            "Iteration 52 (2600/3454), time taken: 0.081164\n",
            "Iteration 53 (2650/3454), time taken: 0.079599\n",
            "Iteration 54 (2700/3454), time taken: 0.081466\n",
            "Iteration 55 (2750/3454), time taken: 0.079750\n",
            "Iteration 56 (2800/3454), time taken: 0.081378\n",
            "Iteration 57 (2850/3454), time taken: 0.080462\n",
            "Iteration 58 (2900/3454), time taken: 0.081219\n",
            "Iteration 59 (2950/3454), time taken: 0.079940\n",
            "Iteration 60 (3000/3454), time taken: 0.081095\n",
            "Iteration 61 (3050/3454), time taken: 0.080167\n",
            "Iteration 62 (3100/3454), time taken: 0.079453\n",
            "Iteration 63 (3150/3454), time taken: 0.081445\n",
            "Iteration 64 (3200/3454), time taken: 0.079286\n",
            "Iteration 65 (3250/3454), time taken: 0.081479\n",
            "Iteration 66 (3300/3454), time taken: 0.079894\n",
            "Iteration 67 (3350/3454), time taken: 0.079400\n",
            "Iteration 68 (3400/3454), time taken: 0.081116\n",
            "Iteration 69 (3450/3454), time taken: 0.010275\n",
            "[[1 0 0 0]\n",
            " [1 0 0 0]\n",
            " [1 0 0 0]\n",
            " [1 0 0 0]]\n",
            "The accuracy on the entire test set is 0.174580\n",
            "It took 3571.647216 seconds\n"
          ],
          "name": "stdout"
        }
      ]
    },
    {
      "cell_type": "code",
      "metadata": {
        "id": "c2tArY5rIRRC",
        "colab": {
          "base_uri": "https://localhost:8080/",
          "height": 269
        },
        "outputId": "1b8575b9-966b-42ee-da5e-32c031f4a01e"
      },
      "source": [
        "# because the test set is more than the double of the training set. \r\n",
        "\r\n",
        "import matplotlib.pyplot as plt\r\n",
        "\r\n",
        "plt.figure()\r\n",
        "plt.imshow(test_4)\r\n",
        "plt.show()"
      ],
      "execution_count": null,
      "outputs": [
        {
          "output_type": "display_data",
          "data": {
            "image/png": "[encoded data removed]",
            "text/plain": [
              "<Figure size 432x288 with 1 Axes>"
            ]
          },
          "metadata": {
            "tags": [],
            "needs_background": "light"
          }
        }
      ]
    },
    {
      "cell_type": "code",
      "metadata": {
        "colab": {
          "base_uri": "https://localhost:8080/",
          "height": 295
        },
        "id": "p8VOjaKQxQXw",
        "outputId": "7e212bed-5ab5-4bc8-ed18-0b140ae80005"
      },
      "source": [
        "import matplotlib.pyplot as plt\r\n",
        "   \r\n",
        "sets = ['training', 'sub-training-set','test','validation']\r\n",
        "len_sets = [len(partitions[\"train\"]), len(partitions[\"train\"])*0.1,  len(partitions[\"test\"]), len(partitions[\"valid\"])]\r\n",
        "colors= [\"yellow\", \"red\", \"purple\", \"blue\"]\r\n",
        "\r\n",
        "\r\n",
        "plt.bar(sets, len_sets, color= colors)\r\n",
        "plt.title('partitions')\r\n",
        "plt.xlabel('Sets')\r\n",
        "plt.ylabel('Audiofiles per set')\r\n",
        "plt.show()"
      ],
      "execution_count": null,
      "outputs": [
        {
          "output_type": "display_data",
          "data": {
            "image/png": "[encoded data removed]",
            "text/plain": [
              "<Figure size 432x288 with 1 Axes>"
            ]
          },
          "metadata": {
            "tags": [],
            "needs_background": "light"
          }
        }
      ]
    },
    {
      "cell_type": "markdown",
      "metadata": {
        "id": "5z0wBrEexSjZ"
      },
      "source": [
        "# Accuracy validation set (10%)\r\n",
        "\r\n",
        "22% accuracy"
      ]
    },
    {
      "cell_type": "code",
      "metadata": {
        "id": "uMYQz4QVfnyK"
      },
      "source": [
        "valid_set= SASA_data(\"reduced_dataset/SASA_data/valid_data_whole.csv\", target)\r\n",
        "batch_size= 50 \r\n",
        "params_valid= {\"batch_size\" : batch_size, \r\n",
        "              \"shuffle\" : False}\r\n",
        "valid_set_generator= data.DataLoader(valid_set, **params_valid)"
      ],
      "execution_count": null,
      "outputs": []
    },
    {
      "cell_type": "code",
      "metadata": {
        "id": "LuEZ2Bid-CnY",
        "colab": {
          "base_uri": "https://localhost:8080/"
        },
        "outputId": "81921bd8-beec-4a42-ddda-69747f487b46"
      },
      "source": [
        "val_3= acc_val_set()"
      ],
      "execution_count": null,
      "outputs": [
        {
          "output_type": "stream",
          "text": [
            "Iteration 0 (0/344), time taken: 0.080605\n",
            "Iteration 1 (50/344), time taken: 0.080024\n",
            "Iteration 2 (100/344), time taken: 0.080458\n",
            "Iteration 3 (150/344), time taken: 0.080156\n",
            "Iteration 4 (200/344), time taken: 0.081457\n",
            "Iteration 5 (250/344), time taken: 0.081928\n",
            "Iteration 6 (300/344), time taken: 0.080915\n",
            "[[9 0 0 0 0 1 0 0 0 2]\n",
            " [1 0 0 0 0 0 0 0 0 0]\n",
            " [1 0 0 0 0 0 0 0 0 3]\n",
            " [6 0 0 0 0 1 0 0 0 1]\n",
            " [1 0 0 0 0 1 0 0 0 0]\n",
            " [3 1 0 1 0 0 0 0 0 5]\n",
            " [1 0 0 0 0 0 0 0 0 1]\n",
            " [1 0 0 0 0 0 0 0 0 3]\n",
            " [1 1 0 0 0 1 0 0 0 1]\n",
            " [0 0 0 1 0 0 0 0 0 2]]\n",
            "The accuracy on the validation set is 0.220000\n",
            "It took 478.870621 seconds\n"
          ],
          "name": "stdout"
        }
      ]
    },
    {
      "cell_type": "code",
      "metadata": {
        "id": "AAxvIrO2-VuW",
        "colab": {
          "base_uri": "https://localhost:8080/",
          "height": 265
        },
        "outputId": "d10e4020-b4f8-49eb-f4f0-102c8d0e63e1"
      },
      "source": [
        "plt.figure()\r\n",
        "plt.imshow(val_3)\r\n",
        "plt.show()\r\n",
        "\r\n",
        "#Argentinian female speakers"
      ],
      "execution_count": null,
      "outputs": [
        {
          "output_type": "display_data",
          "data": {
            "image/png": "[encoded data removed]",
            "text/plain": [
              "<Figure size 432x288 with 1 Axes>"
            ]
          },
          "metadata": {
            "tags": [],
            "needs_background": "light"
          }
        }
      ]
    },
    {
      "cell_type": "markdown",
      "metadata": {
        "id": "PqDUzVQiKhKc"
      },
      "source": [
        "# Using the whole validation set (not 10% but 100%)\r\n",
        "\r\n",
        "Accuracy 17%"
      ]
    },
    {
      "cell_type": "code",
      "metadata": {
        "id": "UsXPcoiJ-YLS"
      },
      "source": [
        "valid_set= SASA_data(\"SASA_data/valid_data.csv\", target)\r\n",
        "batch_size= 50 \r\n",
        "params_valid= {\"batch_size\" : batch_size, \r\n",
        "              \"shuffle\" : False}\r\n",
        "valid_set_generator= data.DataLoader(valid_set, **params_valid)"
      ],
      "execution_count": null,
      "outputs": []
    },
    {
      "cell_type": "code",
      "metadata": {
        "colab": {
          "base_uri": "https://localhost:8080/"
        },
        "id": "ORX1agNmc0O6",
        "outputId": "b2cc4430-260f-426e-f34d-3fb48c958098"
      },
      "source": [
        "val_4= acc_val_set()"
      ],
      "execution_count": null,
      "outputs": [
        {
          "output_type": "stream",
          "text": [
            "Iteration 0 (0/3448), time taken: 0.108139\n",
            "Iteration 1 (50/3448), time taken: 0.028948\n",
            "Iteration 2 (100/3448), time taken: 0.027332\n",
            "Iteration 3 (150/3448), time taken: 0.027521\n",
            "Iteration 4 (200/3448), time taken: 0.027552\n",
            "Iteration 5 (250/3448), time taken: 0.028102\n",
            "Iteration 6 (300/3448), time taken: 0.027635\n",
            "Iteration 7 (350/3448), time taken: 0.028385\n",
            "Iteration 8 (400/3448), time taken: 0.027730\n",
            "Iteration 9 (450/3448), time taken: 0.027447\n",
            "Iteration 10 (500/3448), time taken: 0.028455\n",
            "Iteration 11 (550/3448), time taken: 0.027658\n",
            "Iteration 12 (600/3448), time taken: 0.028569\n",
            "Iteration 13 (650/3448), time taken: 0.027925\n",
            "Iteration 14 (700/3448), time taken: 0.028202\n",
            "Iteration 15 (750/3448), time taken: 0.027767\n",
            "Iteration 16 (800/3448), time taken: 0.028419\n",
            "Iteration 17 (850/3448), time taken: 0.027686\n",
            "Iteration 18 (900/3448), time taken: 0.028272\n",
            "Iteration 19 (950/3448), time taken: 0.027680\n",
            "Iteration 20 (1000/3448), time taken: 0.028284\n",
            "Iteration 21 (1050/3448), time taken: 0.027931\n",
            "Iteration 22 (1100/3448), time taken: 0.028472\n",
            "Iteration 23 (1150/3448), time taken: 0.027786\n",
            "Iteration 24 (1200/3448), time taken: 0.028345\n",
            "Iteration 25 (1250/3448), time taken: 0.027658\n",
            "Iteration 26 (1300/3448), time taken: 0.027502\n",
            "Iteration 27 (1350/3448), time taken: 0.027883\n",
            "Iteration 28 (1400/3448), time taken: 0.027276\n",
            "Iteration 29 (1450/3448), time taken: 0.027581\n",
            "Iteration 30 (1500/3448), time taken: 0.027368\n",
            "Iteration 31 (1550/3448), time taken: 0.027629\n",
            "Iteration 32 (1600/3448), time taken: 0.027493\n",
            "Iteration 33 (1650/3448), time taken: 0.027637\n",
            "Iteration 34 (1700/3448), time taken: 0.027456\n",
            "Iteration 35 (1750/3448), time taken: 0.027962\n",
            "Iteration 36 (1800/3448), time taken: 0.027469\n",
            "Iteration 37 (1850/3448), time taken: 0.027518\n",
            "Iteration 38 (1900/3448), time taken: 0.027458\n",
            "Iteration 39 (1950/3448), time taken: 0.027650\n",
            "Iteration 40 (2000/3448), time taken: 0.027548\n",
            "Iteration 41 (2050/3448), time taken: 0.027716\n",
            "Iteration 42 (2100/3448), time taken: 0.027540\n",
            "Iteration 43 (2150/3448), time taken: 0.028192\n",
            "Iteration 44 (2200/3448), time taken: 0.027751\n",
            "Iteration 45 (2250/3448), time taken: 0.027391\n",
            "Iteration 46 (2300/3448), time taken: 0.029054\n",
            "Iteration 47 (2350/3448), time taken: 0.027703\n",
            "Iteration 48 (2400/3448), time taken: 0.027391\n",
            "Iteration 49 (2450/3448), time taken: 0.028744\n",
            "Iteration 50 (2500/3448), time taken: 0.027732\n",
            "Iteration 51 (2550/3448), time taken: 0.028220\n",
            "Iteration 52 (2600/3448), time taken: 0.027807\n",
            "Iteration 53 (2650/3448), time taken: 0.029108\n",
            "Iteration 54 (2700/3448), time taken: 0.027605\n",
            "Iteration 55 (2750/3448), time taken: 0.028281\n",
            "Iteration 56 (2800/3448), time taken: 0.027779\n",
            "Iteration 57 (2850/3448), time taken: 0.028076\n",
            "Iteration 58 (2900/3448), time taken: 0.027852\n",
            "Iteration 59 (2950/3448), time taken: 0.028331\n",
            "Iteration 60 (3000/3448), time taken: 0.028206\n",
            "Iteration 61 (3050/3448), time taken: 0.030183\n",
            "Iteration 62 (3100/3448), time taken: 0.027856\n",
            "Iteration 63 (3150/3448), time taken: 0.028246\n",
            "Iteration 64 (3200/3448), time taken: 0.027672\n",
            "Iteration 65 (3250/3448), time taken: 0.028490\n",
            "Iteration 66 (3300/3448), time taken: 0.027646\n",
            "Iteration 67 (3350/3448), time taken: 0.027188\n",
            "Iteration 68 (3400/3448), time taken: 0.026674\n",
            "[[3 0 0 1 0 0 0 0 0 2]\n",
            " [6 0 0 0 0 0 0 0 0 1]\n",
            " [0 1 0 1 0 1 0 0 0 1]\n",
            " [4 0 0 0 0 1 0 0 0 0]\n",
            " [3 0 0 0 0 1 0 0 0 0]\n",
            " [5 0 0 0 0 0 0 0 0 2]\n",
            " [2 1 0 0 0 0 0 0 0 0]\n",
            " [1 0 0 0 0 1 0 0 0 0]\n",
            " [2 0 0 0 0 0 0 0 0 1]\n",
            " [3 0 0 1 0 0 0 0 0 3]]\n",
            "The accuracy on the validation set is 0.172274\n",
            "It took 2943.329432 seconds\n"
          ],
          "name": "stdout"
        }
      ]
    },
    {
      "cell_type": "code",
      "metadata": {
        "id": "aFpznJigK-0E",
        "colab": {
          "base_uri": "https://localhost:8080/",
          "height": 265
        },
        "outputId": "206cc22e-ab32-4e99-e78e-464431d2e118"
      },
      "source": [
        "import matplotlib.pyplot as plt\r\n",
        "\r\n",
        "plt.figure()\r\n",
        "plt.imshow(val_4)\r\n",
        "plt.show()\r\n",
        "\r\n",
        "#Chilean male speakers, Argentinian female speakers "
      ],
      "execution_count": null,
      "outputs": [
        {
          "output_type": "display_data",
          "data": {
            "image/png": "[encoded data removed]",
            "text/plain": [
              "<Figure size 432x288 with 1 Axes>"
            ]
          },
          "metadata": {
            "tags": [],
            "needs_background": "light"
          }
        }
      ]
    },
    {
      "cell_type": "markdown",
      "metadata": {
        "id": "zuxwbEuhkXfj"
      },
      "source": [
        "# 5th Attempt \r\n",
        " \r\n",
        "Model trained on 20% of the entire training set (from original dataset)\r\n",
        "\r\n",
        "Accuracy 62%  \r\n",
        "*(see other Notebook for full training, test, valid on 20% entire dataset) *"
      ]
    },
    {
      "cell_type": "code",
      "metadata": {
        "colab": {
          "base_uri": "https://localhost:8080/"
        },
        "id": "pMvxk0QGkXBo",
        "outputId": "ff605333-184f-43a6-a988-aeb97b2f95dc"
      },
      "source": [
        "model= CNNNet(n_class=len(target))\r\n",
        "model.load_state_dict(torch.load(\"best_model_SASA.pkl\"))\r\n",
        "model.eval()\r\n",
        "model.cuda()"
      ],
      "execution_count": null,
      "outputs": [
        {
          "output_type": "execute_result",
          "data": {
            "text/plain": [
              "CNNNet(\n",
              "  (conv1): Conv2d(1, 64, kernel_size=(8, 20), stride=(1, 1))\n",
              "  (maxpool1): MaxPool2d(kernel_size=(2, 2), stride=(2, 2), padding=0, dilation=1, ceil_mode=False)\n",
              "  (conv2): Conv2d(64, 64, kernel_size=(4, 10), stride=(1, 1))\n",
              "  (maxpool2): MaxPool2d(kernel_size=(1, 1), stride=(1, 1), padding=0, dilation=1, ceil_mode=False)\n",
              "  (conv2_drop): Dropout2d(p=0.5, inplace=False)\n",
              "  (fc1): Linear(in_features=151424, out_features=128, bias=True)\n",
              "  (fc2): Linear(in_features=128, out_features=10, bias=True)\n",
              "  (drop): Dropout(p=0.5, inplace=False)\n",
              ")"
            ]
          },
          "metadata": {
            "tags": []
          },
          "execution_count": 16
        }
      ]
    },
    {
      "cell_type": "markdown",
      "metadata": {
        "id": "TYeCHPExmdNH"
      },
      "source": [
        "# Plots of Training Loss/ Accuracy curves"
      ]
    },
    {
      "cell_type": "code",
      "metadata": {
        "id": "I1wd-TYwl6GO"
      },
      "source": [
        "plotting_train_data(\"SASA_20_whole_train.txt\")"
      ],
      "execution_count": null,
      "outputs": []
    },
    {
      "cell_type": "code",
      "metadata": {
        "colab": {
          "base_uri": "https://localhost:8080/",
          "height": 295
        },
        "id": "vr_sD5m4mUji",
        "outputId": "c2c9414e-fdcd-41c3-a890-d654f677e0ae"
      },
      "source": [
        "import matplotlib.pyplot as plt\r\n",
        "\r\n",
        "plt.title(\"Loss curve\")      \r\n",
        "plt.xlabel(\"Loss\")\r\n",
        "plt.plot(total_loss, color= \"indigo\")\r\n",
        "plt.show()"
      ],
      "execution_count": null,
      "outputs": [
        {
          "output_type": "display_data",
          "data": {
            "image/png": "[encoded data removed]",
            "text/plain": [
              "<Figure size 432x288 with 1 Axes>"
            ]
          },
          "metadata": {
            "tags": [],
            "needs_background": "light"
          }
        }
      ]
    },
    {
      "cell_type": "code",
      "metadata": {
        "colab": {
          "base_uri": "https://localhost:8080/",
          "height": 281
        },
        "id": "9V5pprJQmYul",
        "outputId": "93cc74e6-a17c-41d8-96d3-ac0f755ccbc4"
      },
      "source": [
        "plt.title(\"Accuracy curve\")      \r\n",
        "plt.ylabel(\"accuracy values\")\r\n",
        "plt.plot(total_acc, color= \"blue\")\r\n",
        "plt.show()"
      ],
      "execution_count": null,
      "outputs": [
        {
          "output_type": "display_data",
          "data": {
            "image/png": "[encoded data removed]",
            "text/plain": [
              "<Figure size 432x288 with 1 Axes>"
            ]
          },
          "metadata": {
            "tags": [],
            "needs_background": "light"
          }
        }
      ]
    },
    {
      "cell_type": "markdown",
      "metadata": {
        "id": "8CflZrbomuYI"
      },
      "source": [
        "# Test set (20% training set)\r\n",
        "\r\n",
        "Accuracy 61%"
      ]
    },
    {
      "cell_type": "code",
      "metadata": {
        "id": "4pYpeW2mlUCK"
      },
      "source": [
        "test_set= SASA_data(\"SASA_data/test_data.csv\", target)\r\n",
        "batch_size= 50 \r\n",
        "params_test= {\"batch_size\" : batch_size, \r\n",
        "              \"shuffle\" : False}\r\n",
        "test_set_generator= data.DataLoader(test_set, **params_test)"
      ],
      "execution_count": null,
      "outputs": []
    },
    {
      "cell_type": "code",
      "metadata": {
        "colab": {
          "base_uri": "https://localhost:8080/"
        },
        "id": "XbTgV_F2lU3f",
        "outputId": "30ea5059-2a08-409b-864d-51e1b0a9495b"
      },
      "source": [
        "test_5= acc_test_set()"
      ],
      "execution_count": null,
      "outputs": [
        {
          "output_type": "stream",
          "text": [
            "Iteration 0 (0/3454), time taken: 0.107241\n",
            "Iteration 1 (50/3454), time taken: 0.080930\n",
            "Iteration 2 (100/3454), time taken: 0.079669\n",
            "Iteration 3 (150/3454), time taken: 0.080369\n",
            "Iteration 4 (200/3454), time taken: 0.079569\n",
            "Iteration 5 (250/3454), time taken: 0.079367\n",
            "Iteration 6 (300/3454), time taken: 0.080454\n",
            "Iteration 7 (350/3454), time taken: 0.080410\n",
            "Iteration 8 (400/3454), time taken: 0.080284\n",
            "Iteration 9 (450/3454), time taken: 0.080776\n",
            "Iteration 10 (500/3454), time taken: 0.079702\n",
            "Iteration 11 (550/3454), time taken: 0.079746\n",
            "Iteration 12 (600/3454), time taken: 0.080173\n",
            "Iteration 13 (650/3454), time taken: 0.080090\n",
            "Iteration 14 (700/3454), time taken: 0.080544\n",
            "Iteration 15 (750/3454), time taken: 0.080161\n",
            "Iteration 16 (800/3454), time taken: 0.080462\n",
            "Iteration 17 (850/3454), time taken: 0.080181\n",
            "Iteration 18 (900/3454), time taken: 0.080586\n",
            "Iteration 19 (950/3454), time taken: 0.079699\n",
            "Iteration 20 (1000/3454), time taken: 0.079999\n",
            "Iteration 21 (1050/3454), time taken: 0.080279\n",
            "Iteration 22 (1100/3454), time taken: 0.080230\n",
            "Iteration 23 (1150/3454), time taken: 0.080455\n",
            "Iteration 24 (1200/3454), time taken: 0.080148\n",
            "Iteration 25 (1250/3454), time taken: 0.080364\n",
            "Iteration 26 (1300/3454), time taken: 0.080063\n",
            "Iteration 27 (1350/3454), time taken: 0.081510\n",
            "Iteration 28 (1400/3454), time taken: 0.080273\n",
            "Iteration 29 (1450/3454), time taken: 0.086154\n",
            "Iteration 30 (1500/3454), time taken: 0.079739\n",
            "Iteration 31 (1550/3454), time taken: 0.080495\n",
            "Iteration 32 (1600/3454), time taken: 0.080253\n",
            "Iteration 33 (1650/3454), time taken: 0.080465\n",
            "Iteration 34 (1700/3454), time taken: 0.080215\n",
            "Iteration 35 (1750/3454), time taken: 0.079995\n",
            "Iteration 36 (1800/3454), time taken: 0.079420\n",
            "Iteration 37 (1850/3454), time taken: 0.080168\n",
            "Iteration 38 (1900/3454), time taken: 0.080008\n",
            "Iteration 39 (1950/3454), time taken: 0.080049\n",
            "Iteration 40 (2000/3454), time taken: 0.080487\n",
            "Iteration 41 (2050/3454), time taken: 0.080069\n",
            "Iteration 42 (2100/3454), time taken: 0.079626\n",
            "Iteration 43 (2150/3454), time taken: 0.080251\n",
            "Iteration 44 (2200/3454), time taken: 0.080194\n",
            "Iteration 45 (2250/3454), time taken: 0.079390\n",
            "Iteration 46 (2300/3454), time taken: 0.079936\n",
            "Iteration 47 (2350/3454), time taken: 0.079767\n",
            "Iteration 48 (2400/3454), time taken: 0.079837\n",
            "Iteration 49 (2450/3454), time taken: 0.080432\n",
            "Iteration 50 (2500/3454), time taken: 0.079463\n",
            "Iteration 51 (2550/3454), time taken: 0.080146\n",
            "Iteration 52 (2600/3454), time taken: 0.079729\n",
            "Iteration 53 (2650/3454), time taken: 0.079782\n",
            "Iteration 54 (2700/3454), time taken: 0.079558\n",
            "Iteration 55 (2750/3454), time taken: 0.079896\n",
            "Iteration 56 (2800/3454), time taken: 0.079290\n",
            "Iteration 57 (2850/3454), time taken: 0.079764\n",
            "Iteration 58 (2900/3454), time taken: 0.079664\n",
            "Iteration 59 (2950/3454), time taken: 0.079639\n",
            "Iteration 60 (3000/3454), time taken: 0.079435\n",
            "Iteration 61 (3050/3454), time taken: 0.079669\n",
            "Iteration 62 (3100/3454), time taken: 0.079590\n",
            "Iteration 63 (3150/3454), time taken: 0.080061\n",
            "Iteration 64 (3200/3454), time taken: 0.079982\n",
            "Iteration 65 (3250/3454), time taken: 0.080266\n",
            "Iteration 66 (3300/3454), time taken: 0.080471\n",
            "Iteration 67 (3350/3454), time taken: 0.079778\n",
            "Iteration 68 (3400/3454), time taken: 0.080062\n",
            "Iteration 69 (3450/3454), time taken: 0.009933\n",
            "[[1 0 0 0 0]\n",
            " [0 0 0 1 0]\n",
            " [0 0 0 0 1]\n",
            " [0 0 0 0 0]\n",
            " [0 0 0 0 1]]\n",
            "The accuracy on the entire test set is 0.611175\n",
            "It took 3515.180398 seconds\n"
          ],
          "name": "stdout"
        }
      ]
    },
    {
      "cell_type": "markdown",
      "metadata": {
        "id": "rxe6MQrMmpjG"
      },
      "source": [
        "# Validation set (20% training set)\r\n",
        "\r\n",
        "61%"
      ]
    },
    {
      "cell_type": "code",
      "metadata": {
        "id": "yk8MSxkfmwwH"
      },
      "source": [
        "valid_set= SASA_data(\"SASA_data/valid_data.csv\", target)\r\n",
        "batch_size= 50 \r\n",
        "params_valid= {\"batch_size\" : batch_size, \r\n",
        "              \"shuffle\" : False}\r\n",
        "valid_set_generator= data.DataLoader(valid_set, **params_valid)"
      ],
      "execution_count": null,
      "outputs": []
    },
    {
      "cell_type": "code",
      "metadata": {
        "id": "rrwms2PBYsK0",
        "colab": {
          "base_uri": "https://localhost:8080/"
        },
        "outputId": "63006360-03bf-4fe2-dfbc-53b9d2beca16"
      },
      "source": [
        "val_5= acc_val_set()"
      ],
      "execution_count": null,
      "outputs": [
        {
          "output_type": "stream",
          "text": [
            "Iteration 0 (0/3448), time taken: 0.027414\n",
            "Iteration 1 (50/3448), time taken: 0.027383\n",
            "Iteration 2 (100/3448), time taken: 0.027615\n",
            "Iteration 3 (150/3448), time taken: 0.027294\n",
            "Iteration 4 (200/3448), time taken: 0.028711\n",
            "Iteration 5 (250/3448), time taken: 0.027729\n",
            "Iteration 6 (300/3448), time taken: 0.028395\n",
            "Iteration 7 (350/3448), time taken: 0.027759\n",
            "Iteration 8 (400/3448), time taken: 0.028493\n",
            "Iteration 9 (450/3448), time taken: 0.027733\n",
            "Iteration 10 (500/3448), time taken: 0.028599\n",
            "Iteration 11 (550/3448), time taken: 0.027661\n",
            "Iteration 12 (600/3448), time taken: 0.028292\n",
            "Iteration 13 (650/3448), time taken: 0.027722\n",
            "Iteration 14 (700/3448), time taken: 0.028223\n",
            "Iteration 15 (750/3448), time taken: 0.027769\n",
            "Iteration 16 (800/3448), time taken: 0.028301\n",
            "Iteration 17 (850/3448), time taken: 0.027764\n",
            "Iteration 18 (900/3448), time taken: 0.028312\n",
            "Iteration 19 (950/3448), time taken: 0.027709\n",
            "Iteration 20 (1000/3448), time taken: 0.028250\n",
            "Iteration 21 (1050/3448), time taken: 0.027884\n",
            "Iteration 22 (1100/3448), time taken: 0.028419\n",
            "Iteration 23 (1150/3448), time taken: 0.028201\n",
            "Iteration 24 (1200/3448), time taken: 0.028194\n",
            "Iteration 25 (1250/3448), time taken: 0.027662\n",
            "Iteration 26 (1300/3448), time taken: 0.028123\n",
            "Iteration 27 (1350/3448), time taken: 0.027898\n",
            "Iteration 28 (1400/3448), time taken: 0.029063\n",
            "Iteration 29 (1450/3448), time taken: 0.027695\n",
            "Iteration 30 (1500/3448), time taken: 0.028288\n",
            "Iteration 31 (1550/3448), time taken: 0.027915\n",
            "Iteration 32 (1600/3448), time taken: 0.028270\n",
            "Iteration 33 (1650/3448), time taken: 0.027723\n",
            "Iteration 34 (1700/3448), time taken: 0.028200\n",
            "Iteration 35 (1750/3448), time taken: 0.027672\n",
            "Iteration 36 (1800/3448), time taken: 0.028244\n",
            "Iteration 37 (1850/3448), time taken: 0.027784\n",
            "Iteration 38 (1900/3448), time taken: 0.032321\n",
            "Iteration 39 (1950/3448), time taken: 0.027667\n",
            "Iteration 40 (2000/3448), time taken: 0.028174\n",
            "Iteration 41 (2050/3448), time taken: 0.027876\n",
            "Iteration 42 (2100/3448), time taken: 0.032429\n",
            "Iteration 43 (2150/3448), time taken: 0.027551\n",
            "Iteration 44 (2200/3448), time taken: 0.028183\n",
            "Iteration 45 (2250/3448), time taken: 0.027845\n",
            "Iteration 46 (2300/3448), time taken: 0.028320\n",
            "Iteration 47 (2350/3448), time taken: 0.027675\n",
            "Iteration 48 (2400/3448), time taken: 0.028330\n",
            "Iteration 49 (2450/3448), time taken: 0.027651\n",
            "Iteration 50 (2500/3448), time taken: 0.028618\n",
            "Iteration 51 (2550/3448), time taken: 0.027967\n",
            "Iteration 52 (2600/3448), time taken: 0.028155\n",
            "Iteration 53 (2650/3448), time taken: 0.027655\n",
            "Iteration 54 (2700/3448), time taken: 0.028208\n",
            "Iteration 55 (2750/3448), time taken: 0.027862\n",
            "Iteration 56 (2800/3448), time taken: 0.028294\n",
            "Iteration 57 (2850/3448), time taken: 0.027659\n",
            "Iteration 58 (2900/3448), time taken: 0.028191\n",
            "Iteration 59 (2950/3448), time taken: 0.027753\n",
            "Iteration 60 (3000/3448), time taken: 0.028277\n",
            "Iteration 61 (3050/3448), time taken: 0.027697\n",
            "Iteration 62 (3100/3448), time taken: 0.028330\n",
            "Iteration 63 (3150/3448), time taken: 0.027591\n",
            "Iteration 64 (3200/3448), time taken: 0.028237\n",
            "Iteration 65 (3250/3448), time taken: 0.028136\n",
            "Iteration 66 (3300/3448), time taken: 0.028481\n",
            "Iteration 67 (3350/3448), time taken: 0.027684\n",
            "Iteration 68 (3400/3448), time taken: 0.027129\n",
            "[[6 0 0 0 0 0 0 0 0 0]\n",
            " [0 4 0 1 0 0 0 2 0 0]\n",
            " [0 0 4 0 0 0 0 0 0 0]\n",
            " [0 0 0 3 0 1 0 0 0 1]\n",
            " [0 0 1 0 3 0 0 0 0 0]\n",
            " [0 0 0 1 0 5 0 1 0 0]\n",
            " [1 0 1 0 0 0 1 0 0 0]\n",
            " [0 0 0 0 0 0 0 2 0 0]\n",
            " [2 0 0 0 0 0 0 0 1 0]\n",
            " [0 0 0 0 0 0 0 1 0 6]]\n",
            "The accuracy on the validation set is 0.611369\n",
            "It took 1768.908784 seconds\n"
          ],
          "name": "stdout"
        }
      ]
    },
    {
      "cell_type": "code",
      "metadata": {
        "colab": {
          "base_uri": "https://localhost:8080/",
          "height": 265
        },
        "id": "8cHVBi8Wm1ne",
        "outputId": "1dfc1627-cf8f-448a-90c3-12a332ad3dbb"
      },
      "source": [
        "import matplotlib.pyplot as plt\r\n",
        "\r\n",
        "plt.figure()\r\n",
        "plt.imshow(mat_valid)\r\n",
        "plt.show()\r\n",
        "\r\n",
        "#Argentinian female speakers and Chilean male speakers"
      ],
      "execution_count": null,
      "outputs": [
        {
          "output_type": "display_data",
          "data": {
            "image/png": "[encoded data removed]",
            "text/plain": [
              "<Figure size 432x288 with 1 Axes>"
            ]
          },
          "metadata": {
            "tags": [],
            "needs_background": "light"
          }
        }
      ]
    },
    {
      "cell_type": "markdown",
      "metadata": {
        "id": "PfJqG15r4IK8"
      },
      "source": [
        "# Evaluating the models trained with 700 and 1400 audio files using the whole original test/valid. sets"
      ]
    },
    {
      "cell_type": "code",
      "metadata": {
        "colab": {
          "base_uri": "https://localhost:8080/"
        },
        "id": "5Bv6R2NH4e17",
        "outputId": "ff4d0095-5b50-486f-c660-781209d85f32"
      },
      "source": [
        "model= CNNNet(n_class=len(target))\r\n",
        "model.load_state_dict(torch.load(\"reduced_dataset/best_model_SASA_red1.pkl\"))\r\n",
        "model.eval()\r\n",
        "model.cuda()"
      ],
      "execution_count": null,
      "outputs": [
        {
          "output_type": "execute_result",
          "data": {
            "text/plain": [
              "CNNNet(\n",
              "  (conv1): Conv2d(1, 64, kernel_size=(8, 20), stride=(1, 1))\n",
              "  (maxpool1): MaxPool2d(kernel_size=(2, 2), stride=(2, 2), padding=0, dilation=1, ceil_mode=False)\n",
              "  (conv2): Conv2d(64, 64, kernel_size=(4, 10), stride=(1, 1))\n",
              "  (maxpool2): MaxPool2d(kernel_size=(1, 1), stride=(1, 1), padding=0, dilation=1, ceil_mode=False)\n",
              "  (conv2_drop): Dropout2d(p=0.5, inplace=False)\n",
              "  (fc1): Linear(in_features=151424, out_features=128, bias=True)\n",
              "  (fc2): Linear(in_features=128, out_features=10, bias=True)\n",
              "  (drop): Dropout(p=0.5, inplace=False)\n",
              ")"
            ]
          },
          "metadata": {
            "tags": []
          },
          "execution_count": 58
        }
      ]
    },
    {
      "cell_type": "markdown",
      "metadata": {
        "id": "lOTDeERRpcaj"
      },
      "source": [
        "# Accuracy on test set 15,5% \r\n",
        "\r\n",
        "*Model trained with 700 audio files *"
      ]
    },
    {
      "cell_type": "code",
      "metadata": {
        "colab": {
          "base_uri": "https://localhost:8080/"
        },
        "id": "DVKMFRTW4lgj",
        "outputId": "2c3c8ffc-63af-4b01-9ac7-9ff1591edf2f"
      },
      "source": [
        "test_6= acc_test_set()"
      ],
      "execution_count": null,
      "outputs": [
        {
          "output_type": "stream",
          "text": [
            "Iteration 0 (0/3454), time taken: 0.079853\n",
            "Iteration 1 (50/3454), time taken: 0.079182\n",
            "Iteration 2 (100/3454), time taken: 0.079723\n",
            "Iteration 3 (150/3454), time taken: 0.078853\n",
            "Iteration 4 (200/3454), time taken: 0.079512\n",
            "Iteration 5 (250/3454), time taken: 0.079375\n",
            "Iteration 6 (300/3454), time taken: 0.080045\n",
            "Iteration 7 (350/3454), time taken: 0.079548\n",
            "Iteration 8 (400/3454), time taken: 0.079473\n",
            "Iteration 9 (450/3454), time taken: 0.079954\n",
            "Iteration 10 (500/3454), time taken: 0.079474\n",
            "Iteration 11 (550/3454), time taken: 0.079738\n",
            "Iteration 12 (600/3454), time taken: 0.080300\n",
            "Iteration 13 (650/3454), time taken: 0.079257\n",
            "Iteration 14 (700/3454), time taken: 0.079839\n",
            "Iteration 15 (750/3454), time taken: 0.079365\n",
            "Iteration 16 (800/3454), time taken: 0.079752\n",
            "Iteration 17 (850/3454), time taken: 0.079530\n",
            "Iteration 18 (900/3454), time taken: 0.079558\n",
            "Iteration 19 (950/3454), time taken: 0.079120\n",
            "Iteration 20 (1000/3454), time taken: 0.079602\n",
            "Iteration 21 (1050/3454), time taken: 0.079579\n",
            "Iteration 22 (1100/3454), time taken: 0.079615\n",
            "Iteration 23 (1150/3454), time taken: 0.079887\n",
            "Iteration 24 (1200/3454), time taken: 0.079365\n",
            "Iteration 25 (1250/3454), time taken: 0.079695\n",
            "Iteration 26 (1300/3454), time taken: 0.079756\n",
            "Iteration 27 (1350/3454), time taken: 0.079724\n",
            "Iteration 28 (1400/3454), time taken: 0.079890\n",
            "Iteration 29 (1450/3454), time taken: 0.079479\n",
            "Iteration 30 (1500/3454), time taken: 0.079403\n",
            "Iteration 31 (1550/3454), time taken: 0.079893\n",
            "Iteration 32 (1600/3454), time taken: 0.079698\n",
            "Iteration 33 (1650/3454), time taken: 0.079714\n",
            "Iteration 34 (1700/3454), time taken: 0.081172\n",
            "Iteration 35 (1750/3454), time taken: 0.079862\n",
            "Iteration 36 (1800/3454), time taken: 0.079670\n",
            "Iteration 37 (1850/3454), time taken: 0.079531\n",
            "Iteration 38 (1900/3454), time taken: 0.080154\n",
            "Iteration 39 (1950/3454), time taken: 0.079400\n",
            "Iteration 40 (2000/3454), time taken: 0.079894\n",
            "Iteration 41 (2050/3454), time taken: 0.079533\n",
            "Iteration 42 (2100/3454), time taken: 0.079563\n",
            "Iteration 43 (2150/3454), time taken: 0.080415\n",
            "Iteration 44 (2200/3454), time taken: 0.079983\n",
            "Iteration 45 (2250/3454), time taken: 0.079268\n",
            "Iteration 46 (2300/3454), time taken: 0.079643\n",
            "Iteration 47 (2350/3454), time taken: 0.079865\n",
            "Iteration 48 (2400/3454), time taken: 0.079301\n",
            "Iteration 49 (2450/3454), time taken: 0.079571\n",
            "Iteration 50 (2500/3454), time taken: 0.079795\n",
            "Iteration 51 (2550/3454), time taken: 0.079736\n",
            "Iteration 52 (2600/3454), time taken: 0.079427\n",
            "Iteration 53 (2650/3454), time taken: 0.079252\n",
            "Iteration 54 (2700/3454), time taken: 0.079659\n",
            "Iteration 55 (2750/3454), time taken: 0.079704\n",
            "Iteration 56 (2800/3454), time taken: 0.079655\n",
            "Iteration 57 (2850/3454), time taken: 0.079525\n",
            "Iteration 58 (2900/3454), time taken: 0.080051\n",
            "Iteration 59 (2950/3454), time taken: 0.079869\n",
            "Iteration 60 (3000/3454), time taken: 0.079779\n",
            "Iteration 61 (3050/3454), time taken: 0.079980\n",
            "Iteration 62 (3100/3454), time taken: 0.080006\n",
            "Iteration 63 (3150/3454), time taken: 0.079677\n",
            "Iteration 64 (3200/3454), time taken: 0.079714\n",
            "Iteration 65 (3250/3454), time taken: 0.093234\n",
            "Iteration 66 (3300/3454), time taken: 0.079709\n",
            "Iteration 67 (3350/3454), time taken: 0.079840\n",
            "Iteration 68 (3400/3454), time taken: 0.079695\n",
            "Iteration 69 (3450/3454), time taken: 0.009460\n",
            "[[1 0 0 0 0]\n",
            " [0 0 0 0 0]\n",
            " [0 1 0 0 0]\n",
            " [0 0 0 0 1]\n",
            " [0 0 0 0 1]]\n",
            "The accuracy on the entire test set is 0.155472\n",
            "It took 1572.927601 seconds\n"
          ],
          "name": "stdout"
        }
      ]
    },
    {
      "cell_type": "markdown",
      "metadata": {
        "id": "p7x67Gj0pkg7"
      },
      "source": [
        "# Accuracy on validation 15.3%\r\n",
        "\r\n",
        "*Model trained with 700 audio files*"
      ]
    },
    {
      "cell_type": "code",
      "metadata": {
        "colab": {
          "base_uri": "https://localhost:8080/"
        },
        "id": "G2lnRkHp4wut",
        "outputId": "418eb66e-4f2d-4623-fbba-52d68fdd2840"
      },
      "source": [
        "val_6= acc_val_set()\r\n"
      ],
      "execution_count": null,
      "outputs": [
        {
          "output_type": "stream",
          "text": [
            "Iteration 0 (0/3448), time taken: 0.081171\n",
            "Iteration 1 (50/3448), time taken: 0.080532\n",
            "Iteration 2 (100/3448), time taken: 0.080214\n",
            "Iteration 3 (150/3448), time taken: 0.080057\n",
            "Iteration 4 (200/3448), time taken: 0.079844\n",
            "Iteration 5 (250/3448), time taken: 0.079709\n",
            "Iteration 6 (300/3448), time taken: 0.079871\n",
            "Iteration 7 (350/3448), time taken: 0.079871\n",
            "Iteration 8 (400/3448), time taken: 0.079925\n",
            "Iteration 9 (450/3448), time taken: 0.079700\n",
            "Iteration 10 (500/3448), time taken: 0.079989\n",
            "Iteration 11 (550/3448), time taken: 0.080201\n",
            "Iteration 12 (600/3448), time taken: 0.080052\n",
            "Iteration 13 (650/3448), time taken: 0.080296\n",
            "Iteration 14 (700/3448), time taken: 0.080075\n",
            "Iteration 15 (750/3448), time taken: 0.080154\n",
            "Iteration 16 (800/3448), time taken: 0.080431\n",
            "Iteration 17 (850/3448), time taken: 0.079981\n",
            "Iteration 18 (900/3448), time taken: 0.080242\n",
            "Iteration 19 (950/3448), time taken: 0.079995\n",
            "Iteration 20 (1000/3448), time taken: 0.080223\n",
            "Iteration 21 (1050/3448), time taken: 0.080215\n",
            "Iteration 22 (1100/3448), time taken: 0.081047\n",
            "Iteration 23 (1150/3448), time taken: 0.079791\n",
            "Iteration 24 (1200/3448), time taken: 0.079894\n",
            "Iteration 25 (1250/3448), time taken: 0.080045\n",
            "Iteration 26 (1300/3448), time taken: 0.080161\n",
            "Iteration 27 (1350/3448), time taken: 0.080077\n",
            "Iteration 28 (1400/3448), time taken: 0.079994\n",
            "Iteration 29 (1450/3448), time taken: 0.080393\n",
            "Iteration 30 (1500/3448), time taken: 0.080058\n",
            "Iteration 31 (1550/3448), time taken: 0.079919\n",
            "Iteration 32 (1600/3448), time taken: 0.080116\n",
            "Iteration 33 (1650/3448), time taken: 0.079860\n",
            "Iteration 34 (1700/3448), time taken: 0.079779\n",
            "Iteration 35 (1750/3448), time taken: 0.079966\n",
            "Iteration 36 (1800/3448), time taken: 0.079909\n",
            "Iteration 37 (1850/3448), time taken: 0.079947\n",
            "Iteration 38 (1900/3448), time taken: 0.080243\n",
            "Iteration 39 (1950/3448), time taken: 0.079976\n",
            "Iteration 40 (2000/3448), time taken: 0.083034\n",
            "Iteration 41 (2050/3448), time taken: 0.080121\n",
            "Iteration 42 (2100/3448), time taken: 0.080024\n",
            "Iteration 43 (2150/3448), time taken: 0.079636\n",
            "Iteration 44 (2200/3448), time taken: 0.080079\n",
            "Iteration 45 (2250/3448), time taken: 0.085209\n",
            "Iteration 46 (2300/3448), time taken: 0.080275\n",
            "Iteration 47 (2350/3448), time taken: 0.080024\n",
            "Iteration 48 (2400/3448), time taken: 0.080256\n",
            "Iteration 49 (2450/3448), time taken: 0.080050\n",
            "Iteration 50 (2500/3448), time taken: 0.079864\n",
            "Iteration 51 (2550/3448), time taken: 0.080186\n",
            "Iteration 52 (2600/3448), time taken: 0.080167\n",
            "Iteration 53 (2650/3448), time taken: 0.080256\n",
            "Iteration 54 (2700/3448), time taken: 0.079863\n",
            "Iteration 55 (2750/3448), time taken: 0.080250\n",
            "Iteration 56 (2800/3448), time taken: 0.080154\n",
            "Iteration 57 (2850/3448), time taken: 0.079928\n",
            "Iteration 58 (2900/3448), time taken: 0.080127\n",
            "Iteration 59 (2950/3448), time taken: 0.079706\n",
            "Iteration 60 (3000/3448), time taken: 0.079808\n",
            "Iteration 61 (3050/3448), time taken: 0.080109\n",
            "Iteration 62 (3100/3448), time taken: 0.079797\n",
            "Iteration 63 (3150/3448), time taken: 0.080216\n",
            "Iteration 64 (3200/3448), time taken: 0.080236\n",
            "Iteration 65 (3250/3448), time taken: 0.079827\n",
            "Iteration 66 (3300/3448), time taken: 0.080028\n",
            "Iteration 67 (3350/3448), time taken: 0.079937\n",
            "Iteration 68 (3400/3448), time taken: 0.077574\n",
            "[[0 0 2 0 1 0 0 2 0 1]\n",
            " [1 1 0 0 0 0 0 3 0 2]\n",
            " [1 0 0 0 0 0 0 2 0 1]\n",
            " [0 2 0 1 0 0 0 1 0 1]\n",
            " [0 0 0 0 1 0 0 1 0 2]\n",
            " [1 1 0 1 1 0 0 1 0 2]\n",
            " [0 0 0 0 1 1 0 1 0 0]\n",
            " [0 0 0 0 0 0 0 1 0 1]\n",
            " [0 0 1 0 0 0 0 0 0 2]\n",
            " [0 1 0 1 0 0 0 1 0 4]]\n",
            "The accuracy on the entire validation set is 0.153949\n",
            "It took 1811.175101 seconds\n"
          ],
          "name": "stdout"
        }
      ]
    },
    {
      "cell_type": "code",
      "metadata": {
        "colab": {
          "base_uri": "https://localhost:8080/",
          "height": 265
        },
        "id": "TD1PzZCfrhlS",
        "outputId": "a50b3b36-fbe9-46d8-ee2d-c9e036531155"
      },
      "source": [
        "import matplotlib.pyplot as plt\r\n",
        "\r\n",
        "plt.figure()\r\n",
        "plt.imshow(mat_valid)\r\n",
        "plt.show()\r\n",
        "\r\n",
        "#Chilean male speakers"
      ],
      "execution_count": null,
      "outputs": [
        {
          "output_type": "display_data",
          "data": {
            "image/png": "[encoded data removed]",
            "text/plain": [
              "<Figure size 432x288 with 1 Axes>"
            ]
          },
          "metadata": {
            "tags": [],
            "needs_background": "light"
          }
        }
      ]
    },
    {
      "cell_type": "code",
      "metadata": {
        "colab": {
          "base_uri": "https://localhost:8080/"
        },
        "id": "56fkdDqL4det",
        "outputId": "0d7bf396-ef6e-4c6e-9d7e-d141664d5d12"
      },
      "source": [
        "#model with 1400 audiofiles per training \r\n",
        "\r\n",
        "\r\n",
        "model= CNNNet(n_class=len(target))\r\n",
        "model.load_state_dict(torch.load(\"reduced_dataset/best_model_SASA_red_2.pkl\"))\r\n",
        "model.eval()\r\n",
        "model.cuda()"
      ],
      "execution_count": null,
      "outputs": [
        {
          "output_type": "execute_result",
          "data": {
            "text/plain": [
              "CNNNet(\n",
              "  (conv1): Conv2d(1, 64, kernel_size=(8, 20), stride=(1, 1))\n",
              "  (maxpool1): MaxPool2d(kernel_size=(2, 2), stride=(2, 2), padding=0, dilation=1, ceil_mode=False)\n",
              "  (conv2): Conv2d(64, 64, kernel_size=(4, 10), stride=(1, 1))\n",
              "  (maxpool2): MaxPool2d(kernel_size=(1, 1), stride=(1, 1), padding=0, dilation=1, ceil_mode=False)\n",
              "  (conv2_drop): Dropout2d(p=0.5, inplace=False)\n",
              "  (fc1): Linear(in_features=151424, out_features=128, bias=True)\n",
              "  (fc2): Linear(in_features=128, out_features=10, bias=True)\n",
              "  (drop): Dropout(p=0.5, inplace=False)\n",
              ")"
            ]
          },
          "metadata": {
            "tags": []
          },
          "execution_count": 19
        }
      ]
    },
    {
      "cell_type": "markdown",
      "metadata": {
        "id": "lMVhgmvvxz5C"
      },
      "source": [
        "# Accuracy on test set 16,6%\r\n",
        "\r\n",
        "*Model trained with 1400 audio files *"
      ]
    },
    {
      "cell_type": "code",
      "metadata": {
        "id": "qB0Y3mJ5RX6w"
      },
      "source": [
        "test_set= SASA_data(\"SASA_data/test_data.csv\", target)\r\n",
        "batch_size= 50 \r\n",
        "params_test= {\"batch_size\" : batch_size, \r\n",
        "              \"shuffle\" : False}\r\n",
        "test_set_generator= data.DataLoader(test_set, **params_test)"
      ],
      "execution_count": null,
      "outputs": []
    },
    {
      "cell_type": "code",
      "metadata": {
        "colab": {
          "base_uri": "https://localhost:8080/"
        },
        "id": "VvvgOpjLWeO-",
        "outputId": "18bea35f-9049-4eb6-dbc4-2dfc0d64a636"
      },
      "source": [
        "test_7= acc_test_set()"
      ],
      "execution_count": null,
      "outputs": [
        {
          "output_type": "stream",
          "text": [
            "Iteration 0 (0/3454), time taken: 0.080271\n",
            "Iteration 1 (50/3454), time taken: 0.080230\n",
            "Iteration 2 (100/3454), time taken: 0.080327\n",
            "Iteration 3 (150/3454), time taken: 0.080460\n",
            "Iteration 4 (200/3454), time taken: 0.079736\n",
            "Iteration 5 (250/3454), time taken: 0.079853\n",
            "Iteration 6 (300/3454), time taken: 0.080055\n",
            "Iteration 7 (350/3454), time taken: 0.079838\n",
            "Iteration 8 (400/3454), time taken: 0.080405\n",
            "Iteration 9 (450/3454), time taken: 0.079978\n",
            "Iteration 10 (500/3454), time taken: 0.080349\n",
            "Iteration 11 (550/3454), time taken: 0.079952\n",
            "Iteration 12 (600/3454), time taken: 0.080170\n",
            "Iteration 13 (650/3454), time taken: 0.080009\n",
            "Iteration 14 (700/3454), time taken: 0.080181\n",
            "Iteration 15 (750/3454), time taken: 0.080237\n",
            "Iteration 16 (800/3454), time taken: 0.080163\n",
            "Iteration 17 (850/3454), time taken: 0.080127\n",
            "Iteration 18 (900/3454), time taken: 0.080175\n",
            "Iteration 19 (950/3454), time taken: 0.080403\n",
            "Iteration 20 (1000/3454), time taken: 0.079812\n",
            "Iteration 21 (1050/3454), time taken: 0.079983\n",
            "Iteration 22 (1100/3454), time taken: 0.080203\n",
            "Iteration 23 (1150/3454), time taken: 0.080093\n",
            "Iteration 24 (1200/3454), time taken: 0.079892\n",
            "Iteration 25 (1250/3454), time taken: 0.079805\n",
            "Iteration 26 (1300/3454), time taken: 0.080169\n",
            "Iteration 27 (1350/3454), time taken: 0.079701\n",
            "Iteration 28 (1400/3454), time taken: 0.080099\n",
            "Iteration 29 (1450/3454), time taken: 0.079905\n",
            "Iteration 30 (1500/3454), time taken: 0.080273\n",
            "Iteration 31 (1550/3454), time taken: 0.079829\n",
            "Iteration 32 (1600/3454), time taken: 0.079991\n",
            "Iteration 33 (1650/3454), time taken: 0.080405\n",
            "Iteration 34 (1700/3454), time taken: 0.080113\n",
            "Iteration 35 (1750/3454), time taken: 0.080112\n",
            "Iteration 36 (1800/3454), time taken: 0.079675\n",
            "Iteration 37 (1850/3454), time taken: 0.080470\n",
            "Iteration 38 (1900/3454), time taken: 0.079759\n",
            "Iteration 39 (1950/3454), time taken: 0.079840\n",
            "Iteration 40 (2000/3454), time taken: 0.079982\n",
            "Iteration 41 (2050/3454), time taken: 0.080024\n",
            "Iteration 42 (2100/3454), time taken: 0.079799\n",
            "Iteration 43 (2150/3454), time taken: 0.080058\n",
            "Iteration 44 (2200/3454), time taken: 0.079988\n",
            "Iteration 45 (2250/3454), time taken: 0.079982\n",
            "Iteration 46 (2300/3454), time taken: 0.079887\n",
            "Iteration 47 (2350/3454), time taken: 0.080037\n",
            "Iteration 48 (2400/3454), time taken: 0.079966\n",
            "Iteration 49 (2450/3454), time taken: 0.080103\n",
            "Iteration 50 (2500/3454), time taken: 0.080231\n",
            "Iteration 51 (2550/3454), time taken: 0.080166\n",
            "Iteration 52 (2600/3454), time taken: 0.079751\n",
            "Iteration 53 (2650/3454), time taken: 0.079887\n",
            "Iteration 54 (2700/3454), time taken: 0.079959\n",
            "Iteration 55 (2750/3454), time taken: 0.080368\n",
            "Iteration 56 (2800/3454), time taken: 0.080041\n",
            "Iteration 57 (2850/3454), time taken: 0.080086\n",
            "Iteration 58 (2900/3454), time taken: 0.080314\n",
            "Iteration 59 (2950/3454), time taken: 0.080122\n",
            "Iteration 60 (3000/3454), time taken: 0.079900\n",
            "Iteration 61 (3050/3454), time taken: 0.079957\n",
            "Iteration 62 (3100/3454), time taken: 0.080426\n",
            "Iteration 63 (3150/3454), time taken: 0.080123\n",
            "Iteration 64 (3200/3454), time taken: 0.080627\n",
            "Iteration 65 (3250/3454), time taken: 0.080804\n",
            "Iteration 66 (3300/3454), time taken: 0.079873\n",
            "Iteration 67 (3350/3454), time taken: 0.081061\n",
            "Iteration 68 (3400/3454), time taken: 0.080040\n",
            "Iteration 69 (3450/3454), time taken: 0.009559\n",
            "[[1 0 0 0 0 0]\n",
            " [0 0 0 0 0 0]\n",
            " [0 0 0 0 1 0]\n",
            " [0 0 0 0 0 1]\n",
            " [0 0 0 0 0 0]\n",
            " [0 1 0 0 0 0]]\n",
            "The accuracy on the entire test set is 0.166763\n",
            "It took 1904.475204 seconds\n"
          ],
          "name": "stdout"
        }
      ]
    },
    {
      "cell_type": "markdown",
      "metadata": {
        "id": "3QGWMsLYd4bc"
      },
      "source": [
        "# Accuracy on validation 17%\r\n",
        "\r\n",
        "*Model trained with 1400 audio files*\r\n",
        "\r\n"
      ]
    },
    {
      "cell_type": "code",
      "metadata": {
        "id": "__oUvQDR5jJh"
      },
      "source": [
        "valid_set= SASA_data(\"SASA_data/valid_data.csv\", target)\r\n",
        "batch_size= 50 \r\n",
        "params_valid= {\"batch_size\" : batch_size, \r\n",
        "              \"shuffle\" : False}\r\n",
        "valid_set_generator= data.DataLoader(valid_set, **params_valid)"
      ],
      "execution_count": null,
      "outputs": []
    },
    {
      "cell_type": "code",
      "metadata": {
        "id": "LIEgaK8Qd-4a",
        "colab": {
          "base_uri": "https://localhost:8080/"
        },
        "outputId": "3b4ca05f-334d-4a19-bcee-5f92df0a1e69"
      },
      "source": [
        "val_7= acc_val_set()"
      ],
      "execution_count": null,
      "outputs": [
        {
          "output_type": "stream",
          "text": [
            "Iteration 0 (0/3448), time taken: 0.029007\n",
            "Iteration 1 (50/3448), time taken: 0.028536\n",
            "Iteration 2 (100/3448), time taken: 0.027494\n",
            "Iteration 3 (150/3448), time taken: 0.028051\n",
            "Iteration 4 (200/3448), time taken: 0.027708\n",
            "Iteration 5 (250/3448), time taken: 0.028224\n",
            "Iteration 6 (300/3448), time taken: 0.027774\n",
            "Iteration 7 (350/3448), time taken: 0.028084\n",
            "Iteration 8 (400/3448), time taken: 0.027694\n",
            "Iteration 9 (450/3448), time taken: 0.028339\n",
            "Iteration 10 (500/3448), time taken: 0.032027\n",
            "Iteration 11 (550/3448), time taken: 0.028175\n",
            "Iteration 12 (600/3448), time taken: 0.028002\n",
            "Iteration 13 (650/3448), time taken: 0.028445\n",
            "Iteration 14 (700/3448), time taken: 0.027993\n",
            "Iteration 15 (750/3448), time taken: 0.027965\n",
            "Iteration 16 (800/3448), time taken: 0.027822\n",
            "Iteration 17 (850/3448), time taken: 0.028119\n",
            "Iteration 18 (900/3448), time taken: 0.027756\n",
            "Iteration 19 (950/3448), time taken: 0.028284\n",
            "Iteration 20 (1000/3448), time taken: 0.027793\n",
            "Iteration 21 (1050/3448), time taken: 0.028038\n",
            "Iteration 22 (1100/3448), time taken: 0.027661\n",
            "Iteration 23 (1150/3448), time taken: 0.028231\n",
            "Iteration 24 (1200/3448), time taken: 0.027830\n",
            "Iteration 25 (1250/3448), time taken: 0.028011\n",
            "Iteration 26 (1300/3448), time taken: 0.027729\n",
            "Iteration 27 (1350/3448), time taken: 0.028033\n",
            "Iteration 28 (1400/3448), time taken: 0.028167\n",
            "Iteration 29 (1450/3448), time taken: 0.028071\n",
            "Iteration 30 (1500/3448), time taken: 0.027774\n",
            "Iteration 31 (1550/3448), time taken: 0.028024\n",
            "Iteration 32 (1600/3448), time taken: 0.027739\n",
            "Iteration 33 (1650/3448), time taken: 0.028212\n",
            "Iteration 34 (1700/3448), time taken: 0.027608\n",
            "Iteration 35 (1750/3448), time taken: 0.027886\n",
            "Iteration 36 (1800/3448), time taken: 0.027753\n",
            "Iteration 37 (1850/3448), time taken: 0.028336\n",
            "Iteration 38 (1900/3448), time taken: 0.027862\n",
            "Iteration 39 (1950/3448), time taken: 0.028053\n",
            "Iteration 40 (2000/3448), time taken: 0.027862\n",
            "Iteration 41 (2050/3448), time taken: 0.028172\n",
            "Iteration 42 (2100/3448), time taken: 0.027877\n",
            "Iteration 43 (2150/3448), time taken: 0.028038\n",
            "Iteration 44 (2200/3448), time taken: 0.028754\n",
            "Iteration 45 (2250/3448), time taken: 0.028250\n",
            "Iteration 46 (2300/3448), time taken: 0.027934\n",
            "Iteration 47 (2350/3448), time taken: 0.028252\n",
            "Iteration 48 (2400/3448), time taken: 0.027808\n",
            "Iteration 49 (2450/3448), time taken: 0.028120\n",
            "Iteration 50 (2500/3448), time taken: 0.027774\n",
            "Iteration 51 (2550/3448), time taken: 0.028145\n",
            "Iteration 52 (2600/3448), time taken: 0.027766\n",
            "Iteration 53 (2650/3448), time taken: 0.028022\n",
            "Iteration 54 (2700/3448), time taken: 0.027847\n",
            "Iteration 55 (2750/3448), time taken: 0.027965\n",
            "Iteration 56 (2800/3448), time taken: 0.027750\n",
            "Iteration 57 (2850/3448), time taken: 0.027907\n",
            "Iteration 58 (2900/3448), time taken: 0.027813\n",
            "Iteration 59 (2950/3448), time taken: 0.028053\n",
            "Iteration 60 (3000/3448), time taken: 0.029184\n",
            "Iteration 61 (3050/3448), time taken: 0.028227\n",
            "Iteration 62 (3100/3448), time taken: 0.027675\n",
            "Iteration 63 (3150/3448), time taken: 0.027968\n",
            "Iteration 64 (3200/3448), time taken: 0.027814\n",
            "Iteration 65 (3250/3448), time taken: 0.028125\n",
            "Iteration 66 (3300/3448), time taken: 0.027938\n",
            "Iteration 67 (3350/3448), time taken: 0.027875\n",
            "Iteration 68 (3400/3448), time taken: 0.026676\n",
            "[[0 0 1 2 0 0 0 1 1 1]\n",
            " [2 0 1 0 0 0 1 2 0 1]\n",
            " [0 1 2 0 0 0 0 0 0 1]\n",
            " [0 0 2 1 1 0 0 0 0 1]\n",
            " [2 0 1 0 0 0 0 0 1 0]\n",
            " [1 0 1 3 0 0 0 1 0 1]\n",
            " [0 0 1 1 0 0 0 0 0 1]\n",
            " [0 0 1 0 0 0 0 1 0 0]\n",
            " [0 0 2 0 0 0 0 0 1 0]\n",
            " [0 0 1 1 0 0 0 1 2 2]]\n",
            "The accuracy on the validation set is 0.172274\n",
            "It took 1776.109072 seconds\n"
          ],
          "name": "stdout"
        }
      ]
    },
    {
      "cell_type": "code",
      "metadata": {
        "id": "FZO8MyL-eFnY",
        "colab": {
          "base_uri": "https://localhost:8080/",
          "height": 265
        },
        "outputId": "63465bc1-52f2-43f4-da37-3db594d3f180"
      },
      "source": [
        "import matplotlib.pyplot as plt\r\n",
        "\r\n",
        "plt.figure()\r\n",
        "plt.imshow(val_7)\r\n",
        "plt.show()\r\n",
        "\r\n",
        "#Chilean male speakers "
      ],
      "execution_count": null,
      "outputs": [
        {
          "output_type": "display_data",
          "data": {
            "image/png": "[encoded data removed]",
            "text/plain": [
              "<Figure size 432x288 with 1 Axes>"
            ]
          },
          "metadata": {
            "tags": [],
            "needs_background": "light"
          }
        }
      ]
    },
    {
      "cell_type": "markdown",
      "metadata": {
        "id": "GIqrqA3PGD9O"
      },
      "source": [
        "# Conclusion"
      ]
    },
    {
      "cell_type": "markdown",
      "metadata": {
        "id": "2c1vGBB5GLL6"
      },
      "source": [
        "The task addressed in this project included: \r\n",
        "- definition of 10 target groups of speakers of South American Spanish Accents \r\n",
        "- creation of 3 partitions with different numbers of speakers per groups and datasets (training, validation and test sets) \r\n",
        "- main goal: given an audio signal, select the correct target from list of targets (distinguishing gender and accent) \r\n",
        "-  features of the audio signal- 40 Mel filter banks on 20ms windows\r\n",
        "\r\n",
        "\r\n",
        "\r\n",
        "Because of the limited amount of data used for the training sets, the accuracy levels are not that high (mostly under 30%). \r\n",
        "Here there is a summary of the accuracy values per model on the validation and test sets (both reduced and whole*): \r\n",
        "\r\n",
        "*the original validation and test sets (from entire dataset) contain the majority of audio files for Argentinian female speakers, Peruvian and Chilean male speakers. \r\n",
        "\r\n",
        "\r\n",
        "1. **Experiment 1** (100 audio files selected per target- 750 training set, 150 validation and test sets reduced)\r\n",
        "\r\n",
        "* Acc. on limited valid. set : 17% (best classified: Chilean males and Peruvian females) \r\n",
        "* Acc. on limited test set: 15% (best classified: Venezuelan males and Chilean males)\r\n",
        "* Acc. on entire valid set (3448 from part. of entire dataset): 15% (best classified: Chilean males)\r\n",
        "* Acc. on entire test set(3454): 15.5% (best classified: Argentinian females and Peruvian/Chilean males)\r\n",
        "\r\n",
        "\r\n",
        "2. **Experiment 2** (200 audiofiles per target group- 1400 training set, 300 valid. and test sets -reduced) \r\n",
        "\r\n",
        "* Acc. on limited valid. set: 20% (best classified: Chilean and Venezuelan males) \r\n",
        "* Acc. on limited test set: 17% (best classified: Chilean males and Argentinian females) \r\n",
        "* Acc. on entire valid. set: 17% (best classified: Chilean males) \r\n",
        "* Acc. on entire test set: 16.6% (best classified: Argentinian females) \r\n",
        "\r\n",
        "3. **Experiment 3**: interrupted (acc. on test set- 3800 files 19%) \r\n",
        "\r\n",
        "4. **Experiment 4** (10% of the entire dataset partitions, no equal distribution of speakers per target group) \r\n",
        "\r\n",
        "* Acc. on 10% of valid. set: 22% (best classified:  Argentinian females)\r\n",
        "* Acc. on 10% test set: 17% (best class. Chilean males and Argentinian females)\r\n",
        "* Acc. on entire valid. set: 17% (best class. Chilean males and Argentinian females)\r\n",
        "* Acc. on entire test set: 17% (best classified: Argentinian females) \r\n",
        "\r\n",
        "5. **Experiment 5** (20% of the entire dataset partitions, test and validation on the entire partitions of 3448 and 3454 files per valid. and test set)\r\n",
        "\r\n",
        "* Acc. on entire valid. set: 61% (best class. Chilean males and Argentinian females)\r\n",
        "* Acc. on entire test set: 61% (best class. Chilean males and Argentinian females)\r\n",
        "\r\n",
        "\r\n",
        "Overall the best identified target groups were Argentinian Female Speakers and Chilean Male Speakers. \r\n",
        "\r\n"
      ]
    }
  ]
}